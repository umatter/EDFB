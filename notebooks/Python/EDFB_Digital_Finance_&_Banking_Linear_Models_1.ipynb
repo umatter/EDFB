{
  "cells": [
    {
      "cell_type": "markdown",
      "metadata": {
        "id": "dfi6IjMMr6cn"
      },
      "source": [
        "\n",
        "# Linear Regression: Univariate\n",
        "\n",
        "---\n",
        "This script contains examples on how to train and test a linear regression model in Python. For executing the script, you will need to download the dataset \"Admission_Predict.csv\".\n",
        "\n",
        "**Note on importing libraries:**\n",
        "\n",
        "General syntax to import specific functions in a library:\n",
        "*from (library) import (specific library function)*\n",
        "*from pandas import DataFrame*\n",
        "\n",
        "General syntax to import a library but no functions:\n",
        "*import (library) as (give the library a nickname/alias)*\n",
        "*import matplotlib.pyplot as plt*\n",
        "*import pandas as pd *\n",
        "\n",
        "**Libraries:**\n",
        "\n",
        "**Pandas** -- is a software library written for the Python programming language for data manipulation and analysis (dataframes, reading and writing, data alignment, reshaping, slicing, indexing, data structure insertion and deletion, merging, time series functionality etc.\n",
        "\n",
        "**NumPy** -- is a library for Python adding support for large, multi-dimnesional arrays and matrices, along with a large collection of high-level matematical functions to operate on these arrays.\n",
        "\n",
        "\n",
        "**Matplotlib** -- is a plotting library for the Python programming language and its numerical mathematics extension NumPy. It produces publication quality figures in a variety of hardcopy formats and interactive environments across platforms.\n",
        "\n",
        "**Seaborn** -- is a Python data visualization library based on matplotlib (It is used to create more attractive and informative statistical graphics. While seaborn is a different package, it can also be used to develop the attractiveness of matplotlib graphics).\n",
        "\n",
        "**os** - is a module that provides easy functions allowing us to interact and get Operating System information and even control processes up to a limit.\n",
        "\n",
        "**io** - is a module that provides the Python interfaces to stream handling."
      ]
    },
    {
      "cell_type": "code",
      "execution_count": null,
      "metadata": {
        "id": "bs-2IZFlr_g8"
      },
      "outputs": [],
      "source": [
        "# Import libraries\n",
        "import pandas as pd\n",
        "import numpy as np\n",
        "import matplotlib.pyplot as plt\n",
        "import seaborn as sns\n",
        "import statsmodels.api as sm\n",
        "import os\n",
        "import io\n",
        "%matplotlib inline\n",
        "\n",
        "from sklearn.model_selection import train_test_split\n",
        "from sklearn.linear_model import LinearRegression\n",
        "from sklearn.metrics import mean_squared_error, r2_score\n",
        "from sklearn import metrics\n"
      ]
    },
    {
      "cell_type": "code",
      "execution_count": null,
      "metadata": {
        "colab": {
          "base_uri": "https://localhost:8080/"
        },
        "id": "mJg4qk7csHUs",
        "outputId": "9cabbda8-c59a-4c9f-fd63-9a99fd50a76a"
      },
      "outputs": [],
      "source": [
        "# To make this notebook's output stable across runs (we make the output reproducable)\n",
        "np.random.rand(42)"
      ]
    },
    {
      "cell_type": "code",
      "execution_count": null,
      "metadata": {
        "id": "963OEZvPsIoh"
      },
      "outputs": [],
      "source": [
        "print?"
      ]
    },
    {
      "cell_type": "code",
      "execution_count": null,
      "metadata": {
        "id": "G9yHWA5esLCU"
      },
      "outputs": [],
      "source": [
        "# Let's generate some linear looking data:\n",
        "# Note: numpy.random.randn generates samples from the normal distribution, while numpy.random.rand from unifrom\n",
        "X = 2 * np.random.rand(100, 1)"
      ]
    },
    {
      "cell_type": "code",
      "execution_count": null,
      "metadata": {
        "id": "lt1bqOwXsMZI"
      },
      "outputs": [],
      "source": [
        "y = 4 + 3 * X + np.random.randn(100, 1) # notice a difference between the function to generate X and y? The former draws from a uniform distribution and the latter from a normal distribution."
      ]
    },
    {
      "cell_type": "code",
      "execution_count": null,
      "metadata": {
        "colab": {
          "base_uri": "https://localhost:8080/"
        },
        "id": "atqVwV4isNuy",
        "outputId": "b467cabd-9b50-413a-cda0-42f94e6e4332"
      },
      "outputs": [],
      "source": [
        " print(np.c_[X, y])  # Translates slice objects to concatenation along the second axis."
      ]
    },
    {
      "cell_type": "code",
      "execution_count": null,
      "metadata": {
        "colab": {
          "base_uri": "https://localhost:8080/",
          "height": 482
        },
        "id": "_8xFiwHUsQyE",
        "outputId": "9aa9d841-12e9-468b-92f5-4e813c6c3f0c"
      },
      "outputs": [],
      "source": [
        "# Let's plot (info on the marker and the color --> https://matplotlib.org/3.1.1/api/_as_gen/matplotlib.pyplot.plot.html)\n",
        "plt.plot(X, y, \"b.\")\n",
        "plt.xlabel(\"$x$\", fontsize=18)\n",
        "plt.ylabel(\"$y$\", fontsize=18)\n",
        "plt.axis([0, 2, 0, 12])"
      ]
    },
    {
      "cell_type": "code",
      "execution_count": null,
      "metadata": {
        "id": "nWLxYzTCsSK9"
      },
      "outputs": [],
      "source": [
        "# Training a linear model\n",
        "from sklearn.linear_model import LinearRegression\n",
        "lin_reg = LinearRegression() # create an object for the linear regression\n",
        "lin_reg.fit(X, y) # fit the data\n",
        "Y_predict = lin_reg.predict(X)\n"
      ]
    },
    {
      "cell_type": "code",
      "execution_count": null,
      "metadata": {
        "colab": {
          "base_uri": "https://localhost:8080/",
          "height": 430
        },
        "id": "9BEDAMNfsTpE",
        "outputId": "99c789e7-33b7-4290-d50b-7bb8d4f580df"
      },
      "outputs": [],
      "source": [
        "plt.plot(X, y, \"b.\")\n",
        "plt.plot(X, Y_predict, color='red')\n",
        "plt.show()"
      ]
    },
    {
      "cell_type": "code",
      "execution_count": null,
      "metadata": {
        "colab": {
          "base_uri": "https://localhost:8080/"
        },
        "id": "6l3txtsAsUp8",
        "outputId": "71aab35c-9b1c-4590-be64-148868456595"
      },
      "outputs": [],
      "source": [
        "X_new = np.array([[0.5], [1.75]])\n",
        "y_predict = lin_reg.predict(X_new)\n",
        "y_predict"
      ]
    },
    {
      "cell_type": "markdown",
      "metadata": {
        "id": "cIIOTZZssWa4"
      },
      "source": [
        "**Let's try with real data**\n",
        "\n",
        "---\n",
        "\n",
        "Read CSV file = banking.csv"
      ]
    },
    {
      "cell_type": "code",
      "execution_count": null,
      "metadata": {
        "colab": {
          "base_uri": "https://localhost:8080/",
          "height": 73
        },
        "id": "JZAKpZYSsagI",
        "outputId": "894982c7-4e23-42de-a96d-81c056056c01"
      },
      "outputs": [],
      "source": [
        "from google.colab import files\n",
        "uploaded = files.upload()"
      ]
    },
    {
      "cell_type": "code",
      "execution_count": null,
      "metadata": {
        "id": "8mcsF_5BscIa"
      },
      "outputs": [],
      "source": [
        "dataset = pd.read_csv(io.BytesIO(uploaded['banking.csv']))"
      ]
    },
    {
      "cell_type": "code",
      "execution_count": null,
      "metadata": {
        "colab": {
          "base_uri": "https://localhost:8080/",
          "height": 206
        },
        "id": "jkD4mifKsdZ1",
        "outputId": "966acb45-bbff-4bbe-efb8-7dba1531905a"
      },
      "outputs": [],
      "source": [
        "dataset.head()"
      ]
    },
    {
      "cell_type": "code",
      "execution_count": null,
      "metadata": {
        "colab": {
          "base_uri": "https://localhost:8080/",
          "height": 226
        },
        "id": "1lp7h0mXseay",
        "outputId": "a4632923-4726-4e97-a03f-6efc4d006934"
      },
      "outputs": [],
      "source": [
        "dataset.tail()"
      ]
    },
    {
      "cell_type": "code",
      "execution_count": null,
      "metadata": {
        "colab": {
          "base_uri": "https://localhost:8080/"
        },
        "id": "5rlxCQ0ZsgKO",
        "outputId": "4e876cde-7724-47f6-d66a-a42124374a5c"
      },
      "outputs": [],
      "source": [
        "dataset.shape # Returns the dimensions of the array."
      ]
    },
    {
      "cell_type": "code",
      "execution_count": null,
      "metadata": {
        "colab": {
          "base_uri": "https://localhost:8080/",
          "height": 617
        },
        "id": "5CaIYUxFshjd",
        "outputId": "1cd7494a-31be-4462-a62b-b37776ee334f"
      },
      "outputs": [],
      "source": [
        "dataset.dtypes # Returns the dtypes in the DataFrame."
      ]
    },
    {
      "cell_type": "code",
      "execution_count": null,
      "metadata": {
        "colab": {
          "base_uri": "https://localhost:8080/",
          "height": 617
        },
        "id": "AIUSAR1Usiyr",
        "outputId": "8a74479a-e8c8-4b0c-ada5-1e595ee3f74b"
      },
      "outputs": [],
      "source": [
        "# Check for NAS\n",
        "dataset.isna().any() # Generate a boolean mask indicating missing values"
      ]
    },
    {
      "cell_type": "code",
      "execution_count": null,
      "metadata": {
        "colab": {
          "base_uri": "https://localhost:8080/",
          "height": 617
        },
        "id": "yYncQ4huxBWK",
        "outputId": "018945a6-b7d8-4502-83ae-a7a32532d096"
      },
      "outputs": [],
      "source": [
        "dataset.isna().sum()"
      ]
    },
    {
      "cell_type": "code",
      "execution_count": null,
      "metadata": {
        "colab": {
          "base_uri": "https://localhost:8080/"
        },
        "id": "qmEZV8QNsmyu",
        "outputId": "531b2118-70f7-4519-d8d8-da38f1d75a8d"
      },
      "outputs": [],
      "source": [
        "# Describe the data\n",
        "dataset.describe()\n",
        "\n",
        "print(dataset.columns)"
      ]
    },
    {
      "cell_type": "code",
      "execution_count": null,
      "metadata": {
        "id": "76FsUTR4stKH"
      },
      "outputs": [],
      "source": [
        "# Select the target and independent variables\n",
        "# Convert 'loan' column to numerical using one-hot encoding\n",
        "X = pd.get_dummies(dataset['loan'], prefix='loan').values  # Use get_dummies for one-hot encoding\n",
        "y = dataset['age'].values.reshape(-1,1)"
      ]
    },
    {
      "cell_type": "code",
      "execution_count": null,
      "metadata": {
        "colab": {
          "base_uri": "https://localhost:8080/",
          "height": 449
        },
        "id": "HKeWpF56supZ",
        "outputId": "1e19e915-e444-4366-e52f-4ebd84a59b42"
      },
      "outputs": [],
      "source": [
        "# Scatter plot\n",
        "plt.scatter(X.ravel(), y.ravel(), marker='.') # Changed here to flatten the arrays\n",
        "plt.xlabel('loan')\n",
        "plt.ylabel('age')\n",
        "plt.show()"
      ]
    },
    {
      "cell_type": "code",
      "execution_count": null,
      "metadata": {
        "id": "1jJmqLFD7h3r"
      },
      "outputs": [],
      "source": []
    },
    {
      "cell_type": "code",
      "execution_count": null,
      "metadata": {
        "colab": {
          "base_uri": "https://localhost:8080/",
          "height": 125
        },
        "id": "2b09oT3-soIE",
        "outputId": "6655c25d-eca3-4e0b-d6fe-f97b8ceeb2f5"
      },
      "outputs": [],
      "source": [
        "# Remove non-numeric vars and check the correlations\n",
        "corrmat = dataset.drop(['marital', 'education', 'housing', 'loan', 'contact', 'poutcome'], axis=1).corr()\n",
        "corrmat"
      ]
    },
    {
      "cell_type": "code",
      "execution_count": null,
      "metadata": {
        "colab": {
          "base_uri": "https://localhost:8080/",
          "height": 435
        },
        "id": "K8fopQTtssAc",
        "outputId": "88354336-66e6-4320-8535-e39f1b1a145f"
      },
      "outputs": [],
      "source": [
        "# Plot correlation heatmap\n",
        "sns.heatmap(corrmat, cmap =\"YlGnBu\", linewidths=0.1)\n",
        "# sns.heatmap(corrmat, cmap=\"Blues\")\n",
        "# sns.heatmap(corrmat, cmap=\"BuPu\")\n",
        "# sns.heatmap(corrmat, cmap=\"Greens\")\n",
        "plt.show()"
      ]
    },
    {
      "cell_type": "code",
      "execution_count": null,
      "metadata": {
        "colab": {
          "base_uri": "https://localhost:8080/"
        },
        "id": "5UdqyBLvszPE",
        "outputId": "15206968-aff0-490e-a9b2-29fb0d8ea2b4"
      },
      "outputs": [],
      "source": [
        "# Split train and test set\n",
        "X_train, X_test, y_train, y_test = train_test_split(X, y, test_size=0.2, random_state=0) # 20% in testing; we set random_state, as everytime you run it without specifying random_state, you will get a different result\n",
        "print(X_train.shape)\n",
        "print(X_test.shape)\n",
        "print(y_train.shape)\n",
        "print(y_test.shape)"
      ]
    },
    {
      "cell_type": "code",
      "execution_count": null,
      "metadata": {
        "colab": {
          "base_uri": "https://localhost:8080/",
          "height": 80
        },
        "id": "9QYGlZuSs0z7",
        "outputId": "2ed4a815-a44a-4061-89bd-bc581a07bd7d"
      },
      "outputs": [],
      "source": [
        "# Fit the model on training set\n",
        "model = LinearRegression()\n",
        "model.fit(X_train, y_train) # training the algorithm"
      ]
    },
    {
      "cell_type": "code",
      "execution_count": null,
      "metadata": {
        "colab": {
          "base_uri": "https://localhost:8080/"
        },
        "id": "obLxnn5ss145",
        "outputId": "556d1cfd-1ee1-4f8e-a9cf-8c44478ef3b4"
      },
      "outputs": [],
      "source": [
        "# Get coefficients\n",
        "print('Intercept:', model.intercept_)\n",
        "print('Slope:', model.coef_)\n",
        "print('\\nThe fitted model is y=', round(model.coef_[0][0], 2), '* x +', round(model.intercept_[0], 2))"
      ]
    },
    {
      "cell_type": "code",
      "execution_count": null,
      "metadata": {
        "colab": {
          "base_uri": "https://localhost:8080/",
          "height": 423
        },
        "id": "Td3iNoCIs3q6",
        "outputId": "04fa27c0-bfc5-45a3-e9de-c6a52a339732"
      },
      "outputs": [],
      "source": [
        "# Get fitted value on test set\n",
        "y_test_predicted = model.predict(X_test)\n",
        "\n",
        "# Compare predictions\n",
        "pd.DataFrame({'True': y_test.flatten(), 'Predicted': y_test_predicted.flatten()}) # .flatten --> collapses an array into one dimension"
      ]
    },
    {
      "cell_type": "code",
      "execution_count": null,
      "metadata": {
        "colab": {
          "base_uri": "https://localhost:8080/",
          "height": 430
        },
        "id": "AfFPjVKws5Vy",
        "outputId": "ceb25585-7a20-4597-eec5-37edb0c69bab"
      },
      "outputs": [],
      "source": [
        "# Plot model\n",
        "plt.scatter(X_test, y_test,  color='gray')\n",
        "plt.plot(X_test, y_test_predicted, color='red', linewidth=2)\n",
        "plt.show()"
      ]
    },
    {
      "cell_type": "code",
      "execution_count": null,
      "metadata": {
        "colab": {
          "base_uri": "https://localhost:8080/",
          "height": 430
        },
        "id": "kDOnEG5ss7AK",
        "outputId": "46135a87-de12-4992-fc68-8d775f940197"
      },
      "outputs": [],
      "source": [
        "# Plot some predicted vs true values\n",
        "points_to_plot=30\n",
        "plt.scatter(X_test[:points_to_plot], y_test[:points_to_plot],  color='blue', marker='o', facecolors='none', label='true value')\n",
        "plt.scatter(X_test[:points_to_plot], y_test_predicted[:points_to_plot],  color='red', marker='x', label='predicted')\n",
        "plt.legend()\n",
        "plt.show()"
      ]
    },
    {
      "cell_type": "code",
      "execution_count": null,
      "metadata": {
        "colab": {
          "base_uri": "https://localhost:8080/"
        },
        "id": "hpsIQj2fs_8c",
        "outputId": "15dc6aff-171f-4254-91d8-6f3dd274b3d7"
      },
      "outputs": [],
      "source": [
        "# Evaluate Root Mean Square Error (RMSE)\n",
        "RMSE_test = np.sqrt(metrics.mean_squared_error(y_test, y_test_predicted))\n",
        "print('Root Mean Squared Error on test set:', RMSE_test)\n",
        "print('Mean of y_test:', y_test.mean())"
      ]
    },
    {
      "cell_type": "code",
      "execution_count": null,
      "metadata": {
        "id": "tNtxbz2JtBMa"
      },
      "outputs": [],
      "source": [
        "# Evaluate R-squared\n",
        "R2 = metrics.r2_score(y_test, y_test_predicted)\n",
        "print('R-squared:', R2)\n"
      ]
    },
    {
      "cell_type": "markdown",
      "metadata": {
        "id": "IfvhCrXW1aIa"
      },
      "source": [
        "**Linear regression for forecasting**\n",
        "\n",
        "---\n",
        "\n",
        "In this next section, we aim to train a linear model that will predict the Close price of the Bitcoin cryptocurrency."
      ]
    },
    {
      "cell_type": "code",
      "execution_count": null,
      "metadata": {
        "colab": {
          "base_uri": "https://localhost:8080/",
          "height": 73
        },
        "id": "uSf9gqHJ1Z6K",
        "outputId": "cbe1a3a4-3a11-4110-9e0f-4eb1ba3c03f4"
      },
      "outputs": [],
      "source": [
        "# Let's import the dataset including Bitcoin prices\n",
        "from google.colab import files\n",
        "uploaded = files.upload()"
      ]
    },
    {
      "cell_type": "code",
      "execution_count": null,
      "metadata": {
        "id": "KlJGkuC932nG"
      },
      "outputs": [],
      "source": [
        "data = pd.read_csv(io.BytesIO(uploaded['data_BTC.csv']))"
      ]
    },
    {
      "cell_type": "code",
      "execution_count": null,
      "metadata": {
        "colab": {
          "base_uri": "https://localhost:8080/",
          "height": 206
        },
        "id": "WBkRo2zG5rBI",
        "outputId": "90af5372-f62f-4c99-f8a0-c04720b41ab0"
      },
      "outputs": [],
      "source": [
        "# Let's check if we imported correctly\n",
        "data.head()"
      ]
    },
    {
      "cell_type": "code",
      "execution_count": null,
      "metadata": {
        "colab": {
          "base_uri": "https://localhost:8080/",
          "height": 300
        },
        "id": "nOLx76_-5TYh",
        "outputId": "4e568772-d242-47a0-8149-81d16f58880e"
      },
      "outputs": [],
      "source": [
        "# Let's get some summary stats on the prices\n",
        "data.describe()"
      ]
    },
    {
      "cell_type": "code",
      "execution_count": null,
      "metadata": {
        "colab": {
          "base_uri": "https://localhost:8080/",
          "height": 581
        },
        "id": "M1MqMZtM3_nC",
        "outputId": "0b761272-81cf-4a2d-f67e-9abf76147874"
      },
      "outputs": [],
      "source": [
        "# Let's plot the movement of the BTC Close Price\n",
        "plt.figure(figsize=(12, 6))\n",
        "plt.plot(data['Date'], data['BTC-USD.Close'], label='Bitcoin Price', color='blue')\n",
        "plt.xlabel('Date')\n",
        "plt.ylabel('Price (USD)')\n",
        "plt.title('Bitcoin Price Over Time')\n",
        "plt.legend()\n"
      ]
    },
    {
      "cell_type": "code",
      "execution_count": null,
      "metadata": {
        "id": "a-nfbbDA5beC"
      },
      "outputs": [],
      "source": [
        "# We can use a linear model to forecast (predict) the close price of the Bitcoin at t+1 by using certain amount of lagged prices.\n",
        "# So let's create lag features. Specifically, we are defining a function to create the lag values.\n",
        "def create_lagged_features(data, lag):\n",
        "    for i in range(1, lag+1):\n",
        "        data[f'lag_{i}'] = data['BTC-USD.Close'].shift(i)\n",
        "    data.dropna(inplace=True)\n",
        "    return data"
      ]
    },
    {
      "cell_type": "code",
      "execution_count": null,
      "metadata": {
        "id": "Zr1pdQa06Atl"
      },
      "outputs": [],
      "source": [
        "# Create lag features with a lag of 20 days\n",
        "data = create_lagged_features(data, lag=20)"
      ]
    },
    {
      "cell_type": "code",
      "execution_count": null,
      "metadata": {
        "colab": {
          "base_uri": "https://localhost:8080/",
          "height": 273
        },
        "id": "Up2XZnR96CAx",
        "outputId": "75831f9c-c8b4-4e7f-c341-2c764bacc85a"
      },
      "outputs": [],
      "source": [
        "data.head()"
      ]
    },
    {
      "cell_type": "code",
      "execution_count": null,
      "metadata": {
        "id": "fjo5Knke6NdT"
      },
      "outputs": [],
      "source": [
        "# Split the data into training and testing sets. Remember: We never use the full dataset for training. We always split the data and use portion for training and portion for testing.\n",
        "X = data.drop(['Date','BTC-USD.Close'], axis=1)\n",
        "y = data['BTC-USD.Close']\n",
        "X_train, X_test, y_train, y_test = train_test_split(X, y, test_size=0.2, random_state=42)\n"
      ]
    },
    {
      "cell_type": "code",
      "execution_count": null,
      "metadata": {
        "colab": {
          "base_uri": "https://localhost:8080/"
        },
        "id": "tCul2VV_7H0F",
        "outputId": "c4a772e0-bb3b-472a-f8ec-ec41bad3e03d"
      },
      "outputs": [],
      "source": [
        "# Train a linear regression model\n",
        "model = sm.OLS(y_train, X_train).fit()\n",
        "\n",
        "# Print the summary, which includes coefficients and p-values\n",
        "print(model.summary())"
      ]
    },
    {
      "cell_type": "code",
      "execution_count": null,
      "metadata": {
        "colab": {
          "base_uri": "https://localhost:8080/"
        },
        "id": "VpJfYxE38ONw",
        "outputId": "7ac9e25b-2099-426d-f987-5c679b5ac9c7"
      },
      "outputs": [],
      "source": [
        "# Make predictions on the test set\n",
        "y_pred = model.predict(X_test)\n",
        "\n",
        "# Evaluate the model's performance\n",
        "from sklearn.metrics import mean_squared_error, r2_score\n",
        "\n",
        "# Calculate the mean squared error\n",
        "mse = mean_squared_error(y_test, y_pred)\n",
        "\n",
        "# Calculate Root Mean Squared Error (RMSE)\n",
        "rmse = np.sqrt(mse)\n",
        "\n",
        "# Calculate the r2\n",
        "r2 = r2_score(y_test, y_pred)\n",
        "\n",
        "print(f\"Root Mean Squared Error on Test Set: {rmse:.2f}\")\n",
        "print(f\"R-squared on Test Set: {r2:.2f}\")"
      ]
    },
    {
      "cell_type": "code",
      "execution_count": null,
      "metadata": {
        "id": "ZGxFlqqi9zea"
      },
      "outputs": [],
      "source": [
        "for true, predicted in zip(y_test, y_pred):\n",
        "    print(f\"True: {true:.2f}, Predicted: {predicted:.2f}\")"
      ]
    },
    {
      "cell_type": "code",
      "execution_count": null,
      "metadata": {
        "colab": {
          "base_uri": "https://localhost:8080/",
          "height": 430
        },
        "id": "MMQPLSCq9Ocz",
        "outputId": "752f3d8f-43da-4d27-ae85-d103dfa39577"
      },
      "outputs": [],
      "source": [
        "# Let's plot\n",
        "plt.scatter(X_test.iloc[:, 0], y_test,  color='blue', marker='o', facecolors='none', label='true value')\n",
        "plt.scatter(X_test.iloc[:, 0], y_pred,  color='red', marker='x', label='predicted')\n",
        "plt.legend()\n",
        "plt.show()"
      ]
    },
    {
      "cell_type": "markdown",
      "metadata": {
        "id": "lWEOq0_ytSOL"
      },
      "source": [
        "**Linear regression assumes the following:**\n",
        "\n",
        "---\n",
        "\n",
        "\n",
        "\n",
        "1. **linear relationship** between regressor(s) and target\n",
        "2. little or **no multicollinearity** between regressors\n",
        "3. **homoscedasticity**, i.e. the variance of the error terms (i.e. residuals) doesn't vary too much for all observations\n",
        "4. **normal distribution of error terms** (i.e. residuals)\n",
        "5. no correlation between regressors and residuals or little or **no autocorrelation in residuals** for time series, i.e. correlation between  𝑒𝑡  and  𝑒𝑡−1"
      ]
    },
    {
      "cell_type": "code",
      "execution_count": null,
      "metadata": {
        "id": "6Kx_i-VhtR4a"
      },
      "outputs": [],
      "source": [
        "# Checking Assumption 1 - linear relationship between regressors and target\n",
        "# Scatter plot of Y vs x\n",
        "\n",
        "plt.scatter(X, y, marker='o')\n",
        "plt.title('GRE score and the Chance of Being Admitted')\n",
        "plt.xlabel('GRE score')\n",
        "plt.ylabel('Chance of Being Admitted')\n",
        "plt.show()"
      ]
    },
    {
      "cell_type": "markdown",
      "metadata": {
        "id": "86cVdBfGtWvr"
      },
      "source": [
        "*Checking Assumption 2 - little to no multicolinearity between regressors *\n",
        "\n",
        "There is only 1 regressor in a univeriate regression!"
      ]
    },
    {
      "cell_type": "code",
      "execution_count": null,
      "metadata": {
        "id": "ehPSzQQytR2i"
      },
      "outputs": [],
      "source": [
        "# Checking Assumption 3 - Homoscedasticity\n",
        "# Plot the residual and check their \"shape\"\n",
        "residuals_test = y_test - y_test_predicted\n",
        "plt.figure(figsize=(20,10))\n",
        "plt.scatter(np.arange(0,len(residuals_test)), residuals_test, marker='o', facecolors='none', color='black', alpha=0.5)\n",
        "plt.show()"
      ]
    },
    {
      "cell_type": "code",
      "execution_count": null,
      "metadata": {
        "id": "yxZPOXGgtYyq"
      },
      "outputs": [],
      "source": [
        "# Checking Assumption 4 - Normal distribution of residuals\n",
        "# Check if residual distribution looks like a normal distribution with same mean and variance\n",
        "\n",
        "resid_mean = residuals_test.mean()\n",
        "resid_std = residuals_test.std()\n",
        "normal_distr = np.random.normal(resid_mean, resid_std, len(residuals_test))\n",
        "\n",
        "fig, ax = plt.subplots(1, 3, sharex='col', sharey='row', figsize=(20,10))\n",
        "sns.distplot(residuals_test, ax=ax[0])\n",
        "ax[0].set_title('Residual distribution', fontsize=20)\n",
        "sns.distplot(normal_distr, ax=ax[1])\n",
        "ax[1].set_title('Normal distribution', fontsize=20)\n",
        "sns.distplot(residuals_test, label='residuals', ax=ax[2])\n",
        "sns.distplot(normal_distr, label='normal\\ndistribution', ax=ax[2])\n",
        "ax[2].legend(loc='center left', bbox_to_anchor=(1.0, 0.5), fontsize=20)\n",
        "plt.show()"
      ]
    },
    {
      "cell_type": "code",
      "execution_count": null,
      "metadata": {
        "id": "r3ct-4kdtbyP"
      },
      "outputs": [],
      "source": [
        "# Check QQ-plot, i.e. plotting the quantiles of residual against quantiles of normal distribution\n",
        "\n",
        "percentile_set = np.linspace(0,100,10000) # set percentile 1%, 2%, 3%, etc\n",
        "residual_percentile = np.percentile(residuals_test, percentile_set)\n",
        "normal_percentile = np.percentile(normal_distr, percentile_set)\n",
        "\n",
        "plt.scatter(normal_percentile, residual_percentile, marker='o', facecolor='none', color='blue')\n",
        "plt.ylabel('residual percentiles', fontsize=20)\n",
        "plt.xlabel('normal percentiles', fontsize=20)\n",
        "# plot bisector\n",
        "line = np.linspace(normal_percentile.min(), normal_percentile.max())\n",
        "plt.plot(line, line, color=\"black\", ls=\"dashed\")\n",
        "plt.show()"
      ]
    },
    {
      "cell_type": "code",
      "execution_count": null,
      "metadata": {
        "id": "3QNK5UGZtf_x"
      },
      "outputs": [],
      "source": [
        "# Checking Assumption 5 - Independence of residuals\n",
        "# Check correlation between residuals and regressors\n",
        "np.corrcoef(residuals_test.T, X_test.T)"
      ]
    }
  ],
  "metadata": {
    "colab": {
      "provenance": []
    },
    "kernelspec": {
      "display_name": "3.11.7",
      "language": "python",
      "name": "python3"
    },
    "language_info": {
      "codemirror_mode": {
        "name": "ipython",
        "version": 3
      },
      "file_extension": ".py",
      "mimetype": "text/x-python",
      "name": "python",
      "nbconvert_exporter": "python",
      "pygments_lexer": "ipython3",
      "version": "3.11.7"
    }
  },
  "nbformat": 4,
  "nbformat_minor": 0
}
