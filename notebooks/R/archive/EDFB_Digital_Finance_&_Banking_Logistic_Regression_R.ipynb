{
  "cells": [
    {
      "cell_type": "markdown",
      "metadata": {},
      "source": [
        "[![Open In Colab](https://colab.research.google.com/assets/colab-badge.svg)](https://colab.research.google.com/github/umatter/EDFB/blob/main/notebooks/R/EDFB_Digital_Finance_%26_Banking_Logistic_Regression_R.ipynb)\n",
        "\n",
        "# EDFB - Digital Finance & Banking - Logistic Regression\n",
        "\n",
        "---\n",
        "\n",
        "This notebook demonstrates how to train and evaluate a logistic regression classifier in R, using tidyverse and modern R best practices. The workflow and explanations closely follow the Python version, but use idiomatic R code and packages. The dataset used is `banking.csv` (same as in the Python notebook).\n",
        "\n",
        "Tested on: R 4.3+ (Colab VM), packages from Posit Package Manager."
      ]
    },
    {
      "cell_type": "code",
      "execution_count": null,
      "metadata": {
        "vscode": {
          "languageId": "r"
        }
      },
      "outputs": [],
      "source": [
        "# Install and load required libraries (self-bootstrapping with Posit Package Manager)\n",
        "options(repos = c(CRAN = \"https://packagemanager.posit.co/cran/__linux__/jammy/latest\"))\n",
        "required_packages <- c(\n",
        "  \"tidyverse\",\"janitor\",\"skimr\",\"caret\",\"recipes\",\"ggplot2\",\n",
        "  \"forcats\",\"pROC\",\"broom\",\"readr\",\"knitr\",\"kableExtra\"\n",
        ")\n",
        "new_packages <- required_packages[!(required_packages %in% installed.packages()[,\"Package\"])]\n",
        "if (length(new_packages)) install.packages(new_packages, dependencies = TRUE, quiet = TRUE)\n",
        "\n",
        "lapply(required_packages, function(pkg) {\n",
        "  if (!suppressWarnings(require(pkg, character.only = TRUE, quietly = TRUE))) {\n",
        "    stop(paste(\"Failed to load package:\", pkg))\n",
        "  }\n",
        "})\n",
        "theme_set(theme_minimal())\n",
        "cat(\"\\nR version:\", R.version.string, \"\\n\")"
      ]
    },
    {
      "cell_type": "markdown",
      "metadata": {},
      "source": [
        "## Data Import\n",
        "\n",
        "We load `data/banking.csv` from the repo if available; otherwise download it from GitHub (umatter/EDFB). This keeps the R notebook aligned with the Python version and runnable in Colab."
      ]
    },
    {
      "cell_type": "code",
      "execution_count": null,
      "metadata": {
        "vscode": {
          "languageId": "r"
        }
      },
      "outputs": [],
      "source": [
        "data_path <- \"data/banking.csv\"\n",
        "dir.create(\"data\", showWarnings = FALSE, recursive = TRUE)\n",
        "if (file.exists(data_path)) {\n",
        "  message(\"Loading data from \", data_path)\n",
        "  banking <- readr::read_csv(data_path, show_col_types = FALSE) %>% janitor::clean_names()\n",
        "} else {\n",
        "  url <- \"https://raw.githubusercontent.com/umatter/EDFB/main/data/banking.csv\"\n",
        "  tryCatch({\n",
        "    message(\"Attempting to download banking.csv from \", url)\n",
        "    utils::download.file(url, destfile = data_path, quiet = TRUE)\n",
        "    banking <- readr::read_csv(data_path, show_col_types = FALSE) %>% janitor::clean_names()\n",
        "    message(\"Downloaded to \", data_path)\n",
        "  }, error = function(e) {\n",
        "    stop(\"Could not obtain banking.csv from repo. Please add data/banking.csv and re-run. Error: \", conditionMessage(e))\n",
        "  })\n",
        "}"
      ]
    },
    {
      "cell_type": "code",
      "execution_count": null,
      "metadata": {
        "vscode": {
          "languageId": "r"
        }
      },
      "outputs": [],
      "source": [
        "# Quick overview\n",
        "glimpse(banking)\n",
        "skim(banking)"
      ]
    },
    {
      "cell_type": "markdown",
      "metadata": {},
      "source": [
        "## Data Structure\n",
        "\n",
        "Let's check the types of variables and identify which are categorical and which are numeric."
      ]
    },
    {
      "cell_type": "code",
      "execution_count": null,
      "metadata": {
        "vscode": {
          "languageId": "r"
        }
      },
      "outputs": [],
      "source": [
        "# Convert character columns to factors (categorical)\n",
        "banking <- banking %>%\n",
        "  mutate(across(where(is.character), as.factor))\n",
        "\n",
        "# Identify variable types\n",
        "num_vars <- banking %>% select(where(is.numeric)) %>% names()\n",
        "cat_vars <- banking %>% select(where(is.factor)) %>% names()\n",
        "cat_vars <- setdiff(cat_vars, 'y') # y is the target"
      ]
    },
    {
      "cell_type": "code",
      "execution_count": null,
      "metadata": {
        "vscode": {
          "languageId": "r"
        }
      },
      "outputs": [],
      "source": [
        "# Show variable types\n",
        "list(numeric = num_vars, categorical = cat_vars)"
      ]
    },
    {
      "cell_type": "markdown",
      "metadata": {},
      "source": [
        "## Missing Values\n",
        "\n",
        "Check for missing values in the dataset."
      ]
    },
    {
      "cell_type": "code",
      "execution_count": null,
      "metadata": {
        "vscode": {
          "languageId": "r"
        }
      },
      "outputs": [],
      "source": [
        "banking %>% summarise(across(everything(), ~sum(is.na(.))))"
      ]
    },
    {
      "cell_type": "markdown",
      "metadata": {},
      "source": [
        "## Descriptive Statistics\n",
        "\n",
        "Get summary statistics for the numeric variables."
      ]
    },
    {
      "cell_type": "code",
      "execution_count": null,
      "metadata": {
        "vscode": {
          "languageId": "r"
        }
      },
      "outputs": [],
      "source": [
        "banking %>%\n",
        "  select(all_of(num_vars)) %>%\n",
        "  summary()"
      ]
    },
    {
      "cell_type": "markdown",
      "metadata": {},
      "source": [
        "## Boxplots for Numeric Variables\n",
        "\n",
        "Visualize the distribution and dispersion of numeric variables using boxplots. We'll standardize the variables for better comparison."
      ]
    },
    {
      "cell_type": "code",
      "execution_count": null,
      "metadata": {
        "vscode": {
          "languageId": "r"
        }
      },
      "outputs": [],
      "source": [
        "banking %>%\n",
        "  select(all_of(num_vars)) %>%\n",
        "  scale() %>%\n",
        "  as_tibble() %>%\n",
        "  pivot_longer(everything(), names_to = 'variable', values_to = 'value') %>%\n",
        "  ggplot(aes(x = value, y = fct_rev(variable))) +\n",
        "  geom_boxplot(fill = 'skyblue', alpha = 0.7) +\n",
        "  labs(title = 'Standardized Boxplots of Numeric Variables', x = '', y = '')"
      ]
    },
    {
      "cell_type": "markdown",
      "metadata": {},
      "source": [
        "## Remove Variables Not Used for Modeling\n",
        "\n",
        "As in the Python notebook, we remove variables that are not used for modeling (e.g., duration, pdays, campaign, previous, age)."
      ]
    },
    {
      "cell_type": "code",
      "execution_count": null,
      "metadata": {
        "vscode": {
          "languageId": "r"
        }
      },
      "outputs": [],
      "source": [
        "banking <- banking %>%\n",
        "  select(-c(duration, pdays, age, campaign, previous))\n",
        "num_vars <- setdiff(num_vars, c('duration', 'pdays', 'age', 'campaign', 'previous'))"
      ]
    },
    {
      "cell_type": "markdown",
      "metadata": {},
      "source": [
        "## Target Variable Distribution\n",
        "\n",
        "Visualize the distribution of the target variable `y`."
      ]
    },
    {
      "cell_type": "code",
      "execution_count": null,
      "metadata": {
        "vscode": {
          "languageId": "r"
        }
      },
      "outputs": [],
      "source": [
        "banking %>%\n",
        "  ggplot(aes(x = factor(y))) +\n",
        "  geom_bar(fill = 'steelblue') +\n",
        "  labs(title = 'Distribution of Target Variable y', x = 'y', y = 'Count')"
      ]
    },
    {
      "cell_type": "markdown",
      "metadata": {},
      "source": [
        "## Address Class Imbalance (Undersampling)\n",
        "\n",
        "The dataset is imbalanced. We'll undersample the majority class (y=0) to have a 2:1 ratio with the minority class (y=1), as in the Python notebook."
      ]
    },
    {
      "cell_type": "code",
      "execution_count": null,
      "metadata": {
        "vscode": {
          "languageId": "r"
        }
      },
      "outputs": [],
      "source": [
        "set.seed(42)\n",
        "data_1 <- banking %>% filter(y == 1)\n",
        "data_0 <- banking %>% filter(y == 0)\n",
        "n_1 <- nrow(data_1)\n",
        "data_0_small <- data_0 %>% sample_n(size = 2 * n_1)\n",
        "banking_bal <- bind_rows(data_1, data_0_small) %>%\n",
        "  mutate(y = factor(y)) %>%\n",
        "  slice_sample(prop = 1) # shuffle"
      ]
    },
    {
      "cell_type": "code",
      "execution_count": null,
      "metadata": {
        "vscode": {
          "languageId": "r"
        }
      },
      "outputs": [],
      "source": [
        "# Check new target distribution\n",
        "banking_bal %>%\n",
        "  count(y) %>%\n",
        "  ggplot(aes(x = y, y = n, fill = y)) +\n",
        "  geom_col() +\n",
        "  labs(title = 'Target Distribution After Downsampling', y = 'Count')"
      ]
    },
    {
      "cell_type": "markdown",
      "metadata": {},
      "source": [
        "## Boxplots by Target\n",
        "\n",
        "Visualize the distribution of numeric variables by target class."
      ]
    },
    {
      "cell_type": "code",
      "execution_count": null,
      "metadata": {
        "vscode": {
          "languageId": "r"
        }
      },
      "outputs": [],
      "source": [
        "banking_bal %>%\n",
        "  select(all_of(num_vars), y) %>%\n",
        "  pivot_longer(-y, names_to = 'variable', values_to = 'value') %>%\n",
        "  ggplot(aes(x = y, y = value, fill = y)) +\n",
        "  geom_boxplot(alpha = 0.7) +\n",
        "  facet_wrap(~ variable, scales = 'free', ncol = 2) +\n",
        "  labs(title = 'Numeric Variable Distributions by Target', x = 'y', y = '')"
      ]
    },
    {
      "cell_type": "markdown",
      "metadata": {},
      "source": [
        "## Categorical Variable Distributions by Target\n",
        "\n",
        "Visualize the distribution of categorical variables by target class."
      ]
    },
    {
      "cell_type": "code",
      "execution_count": null,
      "metadata": {
        "vscode": {
          "languageId": "r"
        }
      },
      "outputs": [],
      "source": [
        "for (var in cat_vars) {\n",
        "  p <- banking_bal %>%\n",
        "    group_by(.data[[var]], y) %>%\n",
        "    summarise(n = n(), .groups = 'drop') %>%\n",
        "    group_by(.data[[var]]) %>%\n",
        "    mutate(prop = n / sum(n)) %>%\n",
        "    ggplot(aes(x = .data[[var]], y = prop, fill = y)) +\n",
        "    geom_col(position = 'fill') +\n",
        "    labs(title = paste('Target Distribution by', var), x = var, y = 'Proportion') +\n",
        "    theme(axis.text.x = element_text(angle = 45, hjust = 1))\n",
        "  print(p)\n",
        "}"
      ]
    },
    {
      "cell_type": "markdown",
      "metadata": {},
      "source": [
        "## Data Preprocessing: Dummy Variables & Standardization\n",
        "\n",
        "We'll use the `recipes` package to create dummy variables for categorical predictors and standardize numeric predictors."
      ]
    },
    {
      "cell_type": "code",
      "execution_count": null,
      "metadata": {
        "vscode": {
          "languageId": "r"
        }
      },
      "outputs": [],
      "source": [
        "rec <- recipe(y ~ ., data = banking_bal) %>%\n",
        "  step_dummy(all_nominal_predictors(), one_hot = TRUE) %>%\n",
        "  step_center(all_numeric_predictors()) %>%\n",
        "  step_scale(all_numeric_predictors())\n",
        "\n",
        "prep_rec <- prep(rec)\n",
        "banking_proc <- bake(prep_rec, new_data = NULL)"
      ]
    },
    {
      "cell_type": "code",
      "execution_count": null,
      "metadata": {
        "vscode": {
          "languageId": "r"
        }
      },
      "outputs": [],
      "source": [
        "# Check processed data\n",
        "glimpse(banking_proc)"
      ]
    },
    {
      "cell_type": "markdown",
      "metadata": {},
      "source": [
        "## Correlation Analysis\n",
        "\n",
        "Check for highly correlated predictors and remove them if necessary."
      ]
    },
    {
      "cell_type": "code",
      "execution_count": null,
      "metadata": {
        "vscode": {
          "languageId": "r"
        }
      },
      "outputs": [],
      "source": [
        "cor_mat <- banking_proc %>%\n",
        "  dplyr::select(where(is.numeric)) %>%\n",
        "  cor()\n",
        "\n",
        "# Show top 10 absolute correlations (exclude self)\n",
        "cor_df <- cor_mat %>%\n",
        "  as.data.frame() %>%\n",
        "  tibble::rownames_to_column(\"var1\") %>%\n",
        "  tidyr::pivot_longer(-var1, names_to = \"var2\", values_to = \"correlation\") %>%\n",
        "  dplyr::filter(var1 != var2) %>%\n",
        "  dplyr::mutate(abs_corr = abs(correlation)) %>%\n",
        "  dplyr::arrange(dplyr::desc(abs_corr)) %>%\n",
        "  dplyr::slice_head(n = 10)\n",
        "cor_df"
      ]
    },
    {
      "cell_type": "code",
      "execution_count": null,
      "metadata": {
        "vscode": {
          "languageId": "r"
        }
      },
      "outputs": [],
      "source": [
        "# Drop the same columns as in the Python notebook for alignment\n",
        "col_to_drop <- c(\"emp_var_rate\", \"cons_price_idx\", \"euribor3m\", \"nr_employed\", \"loan_unknown\", \"housing_unknown\")\n",
        "banking_proc <- banking_proc %>% dplyr::select(-tidyselect::any_of(col_to_drop))"
      ]
    },
    {
      "cell_type": "markdown",
      "metadata": {},
      "source": [
        "## Train/Test Split\n",
        "\n",
        "Split the data into training and test sets (80/20 split, stratified by y)."
      ]
    },
    {
      "cell_type": "code",
      "execution_count": null,
      "metadata": {
        "vscode": {
          "languageId": "r"
        }
      },
      "outputs": [],
      "source": [
        "set.seed(42)\n",
        "train_idx <- createDataPartition(banking_proc$y, p = 0.8, list = FALSE)\n",
        "train <- banking_proc[train_idx, ]\n",
        "test <- banking_proc[-train_idx, ]"
      ]
    },
    {
      "cell_type": "code",
      "execution_count": null,
      "metadata": {
        "vscode": {
          "languageId": "r"
        }
      },
      "outputs": [],
      "source": [
        "# Check split\n",
        "table(train$y)\n",
        "table(test$y)"
      ]
    },
    {
      "cell_type": "markdown",
      "metadata": {},
      "source": [
        "## Fit Logistic Regression Model\n",
        "\n",
        "Fit a logistic regression model using all predictors."
      ]
    },
    {
      "cell_type": "code",
      "execution_count": null,
      "metadata": {
        "vscode": {
          "languageId": "r"
        }
      },
      "outputs": [],
      "source": [
        "fit <- glm(y ~ ., data = train, family = binomial())\n",
        "summary(fit)"
      ]
    },
    {
      "cell_type": "markdown",
      "metadata": {},
      "source": [
        "## Model Evaluation: Predictions\n",
        "\n",
        "Predict on the test set and compare predictions to the true values."
      ]
    },
    {
      "cell_type": "code",
      "execution_count": null,
      "metadata": {
        "vscode": {
          "languageId": "r"
        }
      },
      "outputs": [],
      "source": [
        "test$prob <- predict(fit, newdata = test, type = 'response')\n",
        "test$pred <- ifelse(test$prob > 0.5, 1, 0)\n",
        "test$pred <- factor(test$pred, levels = levels(test$y))\n",
        "\n",
        "test %>%\n",
        "  select(y, pred, prob) %>%\n",
        "  head(10) %>%\n",
        "  kable() %>%\n",
        "  kable_styling()"
      ]
    },
    {
      "cell_type": "markdown",
      "metadata": {},
      "source": [
        "## Confusion Matrix\n",
        "\n",
        "Evaluate the confusion matrix and classification metrics."
      ]
    },
    {
      "cell_type": "code",
      "execution_count": null,
      "metadata": {
        "vscode": {
          "languageId": "r"
        }
      },
      "outputs": [],
      "source": [
        "conf_mat <- confusionMatrix(test$pred, test$y, positive = '1')\n",
        "conf_mat"
      ]
    },
    {
      "cell_type": "markdown",
      "metadata": {},
      "source": [
        "## Classification Report\n",
        "\n",
        "Show precision, recall, F1-score, and accuracy."
      ]
    },
    {
      "cell_type": "code",
      "execution_count": null,
      "metadata": {
        "vscode": {
          "languageId": "r"
        }
      },
      "outputs": [],
      "source": [
        "conf_mat$byClass\n",
        "conf_mat$overall"
      ]
    },
    {
      "cell_type": "markdown",
      "metadata": {},
      "source": [
        "## ROC Curve & AUC\n",
        "\n",
        "Plot the ROC curve and compute the AUC."
      ]
    },
    {
      "cell_type": "code",
      "execution_count": null,
      "metadata": {
        "vscode": {
          "languageId": "r"
        }
      },
      "outputs": [],
      "source": [
        "roc_obj <- roc(test$y, test$prob)\n",
        "auc(roc_obj)\n",
        "plot(roc_obj, col = 'blue', main = 'ROC Curve (AUC = {round(auc(roc_obj), 2)})')\n",
        "abline(a = 0, b = 1, lty = 2, col = 'red')"
      ]
    },
    {
      "cell_type": "markdown",
      "metadata": {},
      "source": [
        "## Model Coefficients (Odds Ratios)\n",
        "\n",
        "Show the estimated odds ratios for each predictor."
      ]
    },
    {
      "cell_type": "code",
      "execution_count": null,
      "metadata": {
        "vscode": {
          "languageId": "r"
        }
      },
      "outputs": [],
      "source": [
        "exp(coef(fit)) %>%\n",
        "  as.data.frame() %>%\n",
        "  rownames_to_column('Variable') %>%\n",
        "  rename(OddsRatio = 2) %>%\n",
        "  arrange(desc(abs(OddsRatio))) %>%\n",
        "  kable() %>%\n",
        "  kable_styling()"
      ]
    },
    {
      "cell_type": "markdown",
      "metadata": {},
      "source": [
        "## Conclusion\n",
        "\n",
        "This notebook demonstrated a full workflow for logistic regression in R, including data cleaning, visualization, class balancing, preprocessing, model fitting, and evaluation. The approach and explanations are designed to be directly comparable to the Python version, but use tidyverse and modern R idioms throughout."
      ]
    }
  ],
  "metadata": {
    "kernelspec": {
      "display_name": "R",
      "name": "ir"
    },
    "language_info": {
      "name": "R",
      "version": "4.3"
    }
  },
  "nbformat": 4,
  "nbformat_minor": 0
}
