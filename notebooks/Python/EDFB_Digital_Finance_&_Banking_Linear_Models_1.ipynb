{
  "cells": [
    {
      "cell_type": "markdown",
      "metadata": {
        "id": "dfi6IjMMr6cn"
      },
      "source": [
        "\n",
        "# Linear Regression: Univariate\n",
        "\n",
        "---\n",
        "This script contains examples on how to train and test a linear regression model in Python. For executing the script, you will need to download the dataset \"Admission_Predict.csv\".\n",
        "\n",
        "**Note on importing libraries:**\n",
        "\n",
        "General syntax to import specific functions in a library:\n",
        "*from (library) import (specific library function)*\n",
        "*from pandas import DataFrame*\n",
        "\n",
        "General syntax to import a library but no functions:\n",
        "*import (library) as (give the library a nickname/alias)*\n",
        "*import matplotlib.pyplot as plt*\n",
        "*import pandas as pd *\n",
        "\n",
        "**Libraries:**\n",
        "\n",
        "**Pandas** -- is a software library written for the Python programming language for data manipulation and analysis (dataframes, reading and writing, data alignment, reshaping, slicing, indexing, data structure insertion and deletion, merging, time series functionality etc.\n",
        "\n",
        "**NumPy** -- is a library for Python adding support for large, multi-dimnesional arrays and matrices, along with a large collection of high-level matematical functions to operate on these arrays.\n",
        "\n",
        "\n",
        "**Matplotlib** -- is a plotting library for the Python programming language and its numerical mathematics extension NumPy. It produces publication quality figures in a variety of hardcopy formats and interactive environments across platforms.\n",
        "\n",
        "**Seaborn** -- is a Python data visualization library based on matplotlib (It is used to create more attractive and informative statistical graphics. While seaborn is a different package, it can also be used to develop the attractiveness of matplotlib graphics).\n",
        "\n",
        "**os** - is a module that provides easy functions allowing us to interact and get Operating System information and even control processes up to a limit.\n",
        "\n",
        "**io** - is a module that provides the Python interfaces to stream handling."
      ]
    },
    {
      "cell_type": "code",
      "execution_count": 69,
      "metadata": {
        "id": "bs-2IZFlr_g8"
      },
      "outputs": [],
      "source": [
        "# Import libraries\n",
        "import pandas as pd\n",
        "import numpy as np\n",
        "import matplotlib.pyplot as plt\n",
        "import seaborn as sns\n",
        "import statsmodels.api as sm\n",
        "import os\n",
        "import io\n",
        "%matplotlib inline\n",
        "\n",
        "from sklearn.model_selection import train_test_split\n",
        "from sklearn.linear_model import LinearRegression\n",
        "from sklearn.metrics import mean_squared_error, r2_score\n",
        "from sklearn import metrics\n"
      ]
    },
    {
      "cell_type": "code",
      "execution_count": 70,
      "metadata": {
        "colab": {
          "base_uri": "https://localhost:8080/"
        },
        "id": "mJg4qk7csHUs",
        "outputId": "9cabbda8-c59a-4c9f-fd63-9a99fd50a76a"
      },
      "outputs": [
        {
          "data": {
            "text/plain": [
              "array([0.09156119, 0.27318783, 0.44517838, 0.7867733 , 0.10917562,\n",
              "       0.37853045, 0.89619832, 0.58060025, 0.33865393, 0.34322888,\n",
              "       0.74911326, 0.51647922, 0.42969309, 0.04892401, 0.9202777 ,\n",
              "       0.43874519, 0.33538098, 0.31238546, 0.04592783, 0.35542092,\n",
              "       0.505495  , 0.79463849, 0.15540598, 0.14151676, 0.41330634,\n",
              "       0.86941317, 0.87651963, 0.22337448, 0.72620863, 0.21724165,\n",
              "       0.06919107, 0.51010561, 0.12200735, 0.43651912, 0.50559451,\n",
              "       0.54838874, 0.60423292, 0.39672911, 0.04277934, 0.50272396,\n",
              "       0.05396015, 0.04155372])"
            ]
          },
          "execution_count": 70,
          "metadata": {},
          "output_type": "execute_result"
        }
      ],
      "source": [
        "# To make this notebook's output stable across runs (we make the output reproducable)\n",
        "np.random.rand(42)"
      ]
    },
    {
      "cell_type": "code",
      "execution_count": 71,
      "metadata": {
        "id": "963OEZvPsIoh"
      },
      "outputs": [
        {
          "name": "stdout",
          "output_type": "stream",
          "text": [
            "\u001b[31mSignature:\u001b[39m print(*args, sep=\u001b[33m' '\u001b[39m, end=\u001b[33m'\\n'\u001b[39m, file=\u001b[38;5;28;01mNone\u001b[39;00m, flush=\u001b[38;5;28;01mFalse\u001b[39;00m)\n",
            "\u001b[31mDocstring:\u001b[39m\n",
            "Prints the values to a stream, or to sys.stdout by default.\n",
            "\n",
            "sep\n",
            "  string inserted between values, default a space.\n",
            "end\n",
            "  string appended after the last value, default a newline.\n",
            "file\n",
            "  a file-like object (stream); defaults to the current sys.stdout.\n",
            "flush\n",
            "  whether to forcibly flush the stream.\n",
            "\u001b[31mType:\u001b[39m      builtin_function_or_method"
          ]
        }
      ],
      "source": [
        "print?"
      ]
    },
    {
      "cell_type": "code",
      "execution_count": 72,
      "metadata": {
        "id": "G9yHWA5esLCU"
      },
      "outputs": [],
      "source": [
        "# Let's generate some linear looking data:\n",
        "# Note: numpy.random.randn generates samples from the normal distribution, while numpy.random.rand from unifrom\n",
        "X = 2 * np.random.rand(100, 1)"
      ]
    },
    {
      "cell_type": "code",
      "execution_count": 73,
      "metadata": {
        "id": "lt1bqOwXsMZI"
      },
      "outputs": [],
      "source": [
        "y = 4 + 3 * X + np.random.randn(100, 1) # notice a difference between the function to generate X and y? The former draws from a uniform distribution and the latter from a normal distribution."
      ]
    },
    {
      "cell_type": "code",
      "execution_count": 74,
      "metadata": {
        "colab": {
          "base_uri": "https://localhost:8080/"
        },
        "id": "atqVwV4isNuy",
        "outputId": "b467cabd-9b50-413a-cda0-42f94e6e4332"
      },
      "outputs": [
        {
          "name": "stdout",
          "output_type": "stream",
          "text": [
            "[[3.02302241e-01 4.95899720e+00]\n",
            " [1.74321071e+00 8.34306115e+00]\n",
            " [1.30302881e+00 7.48243378e+00]\n",
            " [8.89652864e-01 6.32007634e+00]\n",
            " [1.05545847e+00 6.27471232e+00]\n",
            " [7.63929540e-01 5.00612419e+00]\n",
            " [7.16691538e-01 6.32912673e+00]\n",
            " [4.88750830e-01 4.75520715e+00]\n",
            " [8.45754935e-01 5.79934857e+00]\n",
            " [6.81034724e-01 5.97167425e+00]\n",
            " [1.18074723e+00 7.95612446e+00]\n",
            " [8.61583838e-01 6.66014272e+00]\n",
            " [1.41577427e-01 5.28773548e+00]\n",
            " [1.27642941e+00 8.22244222e+00]\n",
            " [1.02948219e+00 7.20811402e+00]\n",
            " [1.80678397e+00 8.42502899e+00]\n",
            " [1.68942981e+00 7.93211901e+00]\n",
            " [9.46100262e-02 6.15049559e+00]\n",
            " [1.77339881e+00 9.17408252e+00]\n",
            " [1.13910982e+00 7.58938551e+00]\n",
            " [1.90734400e+00 1.14221958e+01]\n",
            " [1.83304426e-01 4.67426656e+00]\n",
            " [1.23494100e+00 8.38239976e+00]\n",
            " [1.71802845e+00 8.43278925e+00]\n",
            " [1.15354234e+00 8.02534406e+00]\n",
            " [1.37911992e+00 1.11014016e+01]\n",
            " [7.31113243e-01 4.96399668e+00]\n",
            " [9.05945377e-01 8.07933129e+00]\n",
            " [1.71407491e+00 7.48640921e+00]\n",
            " [9.35211856e-01 5.59367670e+00]\n",
            " [3.22380223e-01 5.16119107e+00]\n",
            " [2.17704354e-01 4.83583631e+00]\n",
            " [4.18924800e-01 4.73895457e+00]\n",
            " [7.93892852e-01 6.63782576e+00]\n",
            " [1.91407421e+00 1.06171920e+01]\n",
            " [4.08062045e-01 5.14742229e+00]\n",
            " [4.63714974e-01 5.78113602e+00]\n",
            " [5.64813685e-01 4.64346785e+00]\n",
            " [2.22478838e-01 3.68185659e+00]\n",
            " [1.66335141e+00 7.33214710e+00]\n",
            " [3.02302207e-01 4.32575166e+00]\n",
            " [3.13338201e-01 5.74061419e+00]\n",
            " [1.07704302e+00 7.05332838e+00]\n",
            " [7.09532783e-01 4.44074300e+00]\n",
            " [7.40155809e-01 4.43444934e+00]\n",
            " [1.96606394e+00 1.09778576e+01]\n",
            " [1.53221609e+00 7.73248969e+00]\n",
            " [1.42592880e+00 8.89109329e+00]\n",
            " [1.94461917e+00 9.26276789e+00]\n",
            " [1.34930609e+00 7.52945181e+00]\n",
            " [3.01895282e-02 5.35267107e+00]\n",
            " [1.60146876e+00 9.47525092e+00]\n",
            " [7.38381719e-01 5.19915315e+00]\n",
            " [1.43985752e+00 6.37260012e+00]\n",
            " [1.52775782e+00 9.54955937e+00]\n",
            " [1.83193978e+00 9.91188003e+00]\n",
            " [3.74242908e-01 6.30058062e+00]\n",
            " [3.04464854e-01 2.62529138e+00]\n",
            " [2.70487669e-01 5.31419649e+00]\n",
            " [1.32758612e+00 4.38423908e+00]\n",
            " [1.65665147e+00 8.65482488e+00]\n",
            " [2.73530258e-01 6.75079057e+00]\n",
            " [1.29226714e+00 8.54265693e+00]\n",
            " [5.54156232e-01 4.12838488e+00]\n",
            " [1.82510656e-01 4.42896328e+00]\n",
            " [1.98107304e+00 9.61155089e+00]\n",
            " [2.39939154e-02 4.62252129e+00]\n",
            " [3.69146412e-01 6.04948187e+00]\n",
            " [7.70407859e-01 7.68019280e+00]\n",
            " [6.57819313e-01 6.29580935e+00]\n",
            " [1.56542131e+00 7.42037587e+00]\n",
            " [1.35917606e+00 7.34137507e+00]\n",
            " [7.63238823e-03 4.89692249e+00]\n",
            " [4.65283528e-01 5.97332533e+00]\n",
            " [1.25778156e+00 7.54444941e+00]\n",
            " [4.35947776e-01 5.98714198e+00]\n",
            " [2.71909318e-01 3.86709422e+00]\n",
            " [6.33649774e-01 6.75457204e+00]\n",
            " [1.72437867e+00 9.90067694e+00]\n",
            " [1.76578777e+00 8.57944552e+00]\n",
            " [1.31685235e+00 7.45233042e+00]\n",
            " [1.58963157e+00 8.34372571e+00]\n",
            " [1.28745558e+00 6.97280260e+00]\n",
            " [1.33860817e+00 8.75394181e+00]\n",
            " [5.93213270e-01 4.81185263e+00]\n",
            " [1.58897692e+00 1.02303740e+01]\n",
            " [1.73066794e+00 1.04331654e+01]\n",
            " [4.39096585e-03 4.93368113e+00]\n",
            " [8.67495401e-01 7.64214579e+00]\n",
            " [1.39554839e+00 6.90413715e+00]\n",
            " [7.31705402e-02 5.13126666e+00]\n",
            " [9.11375139e-01 6.73840414e+00]\n",
            " [1.12652228e+00 8.00380858e+00]\n",
            " [8.19444491e-01 4.98013295e+00]\n",
            " [8.67460414e-01 5.86640816e+00]\n",
            " [1.94389875e+00 9.92658509e+00]\n",
            " [1.24797922e+00 8.45296144e+00]\n",
            " [1.00249711e+00 8.58195755e+00]\n",
            " [3.44224762e-01 5.80583200e+00]\n",
            " [1.07250809e+00 8.11544220e+00]]\n"
          ]
        }
      ],
      "source": [
        " print(np.c_[X, y])  # Translates slice objects to concatenation along the second axis."
      ]
    },
    {
      "cell_type": "code",
      "execution_count": 75,
      "metadata": {
        "colab": {
          "base_uri": "https://localhost:8080/",
          "height": 482
        },
        "id": "_8xFiwHUsQyE",
        "outputId": "9aa9d841-12e9-468b-92f5-4e813c6c3f0c"
      },
      "outputs": [
        {
          "data": {
            "text/plain": [
              "(0.0, 2.0, 0.0, 12.0)"
            ]
          },
          "execution_count": 75,
          "metadata": {},
          "output_type": "execute_result"
        },
        {
          "data": {
            "image/png": "[encoded data removed]",
            "text/plain": [
              "<Figure size 640x480 with 1 Axes>"
            ]
          },
          "metadata": {},
          "output_type": "display_data"
        }
      ],
      "source": [
        "# Let's plot (info on the marker and the color --> https://matplotlib.org/3.1.1/api/_as_gen/matplotlib.pyplot.plot.html)\n",
        "plt.plot(X, y, \"b.\")\n",
        "plt.xlabel(\"$x$\", fontsize=18)\n",
        "plt.ylabel(\"$y$\", fontsize=18)\n",
        "plt.axis([0, 2, 0, 12])"
      ]
    },
    {
      "cell_type": "code",
      "execution_count": 76,
      "metadata": {
        "id": "nWLxYzTCsSK9"
      },
      "outputs": [],
      "source": [
        "# Training a linear model\n",
        "from sklearn.linear_model import LinearRegression\n",
        "lin_reg = LinearRegression() # create an object for the linear regression\n",
        "lin_reg.fit(X, y) # fit the data\n",
        "Y_predict = lin_reg.predict(X)\n"
      ]
    },
    {
      "cell_type": "code",
      "execution_count": 77,
      "metadata": {
        "colab": {
          "base_uri": "https://localhost:8080/",
          "height": 430
        },
        "id": "9BEDAMNfsTpE",
        "outputId": "99c789e7-33b7-4290-d50b-7bb8d4f580df"
      },
      "outputs": [
        {
          "data": {
            "image/png": "[encoded data removed]",
            "text/plain": [
              "<Figure size 640x480 with 1 Axes>"
            ]
          },
          "metadata": {},
          "output_type": "display_data"
        }
      ],
      "source": [
        "plt.plot(X, y, \"b.\")\n",
        "plt.plot(X, Y_predict, color='red')\n",
        "plt.show()"
      ]
    },
    {
      "cell_type": "code",
      "execution_count": 78,
      "metadata": {
        "colab": {
          "base_uri": "https://localhost:8080/"
        },
        "id": "6l3txtsAsUp8",
        "outputId": "71aab35c-9b1c-4590-be64-148868456595"
      },
      "outputs": [
        {
          "data": {
            "text/plain": [
              "array([[5.57875635],\n",
              "       [9.04792292]])"
            ]
          },
          "execution_count": 78,
          "metadata": {},
          "output_type": "execute_result"
        }
      ],
      "source": [
        "X_new = np.array([[0.5], [1.75]])\n",
        "y_predict = lin_reg.predict(X_new)\n",
        "y_predict"
      ]
    },
    {
      "cell_type": "markdown",
      "metadata": {
        "id": "cIIOTZZssWa4"
      },
      "source": [
        "**Let's try with real data**\n",
        "\n",
        "---\n",
        "\n",
        "Read CSV file = banking.csv"
      ]
    },
    {
      "cell_type": "code",
      "execution_count": 79,
      "metadata": {
        "colab": {
          "base_uri": "https://localhost:8080/",
          "height": 73
        },
        "id": "JZAKpZYSsagI",
        "outputId": "894982c7-4e23-42de-a96d-81c056056c01"
      },
      "outputs": [
        {
          "name": "stdout",
          "output_type": "stream",
          "text": [
            "Fetching banking.csv from GitHub...\n"
          ]
        }
      ],
      "source": [
        "banking_url = \"https://raw.githubusercontent.com/umatter/EDFB/main/data/banking.csv\"\n",
        "print(\"Fetching banking.csv from GitHub...\")"
      ]
    },
    {
      "cell_type": "code",
      "execution_count": 80,
      "metadata": {
        "id": "8mcsF_5BscIa"
      },
      "outputs": [],
      "source": [
        "dataset = pd.read_csv(banking_url)"
      ]
    },
    {
      "cell_type": "code",
      "execution_count": 81,
      "metadata": {
        "colab": {
          "base_uri": "https://localhost:8080/",
          "height": 206
        },
        "id": "jkD4mifKsdZ1",
        "outputId": "966acb45-bbff-4bbe-efb8-7dba1531905a"
      },
      "outputs": [
        {
          "data": {
            "text/html": [
              "<div>\n",
              "<style scoped>\n",
              "    .dataframe tbody tr th:only-of-type {\n",
              "        vertical-align: middle;\n",
              "    }\n",
              "\n",
              "    .dataframe tbody tr th {\n",
              "        vertical-align: top;\n",
              "    }\n",
              "\n",
              "    .dataframe thead th {\n",
              "        text-align: right;\n",
              "    }\n",
              "</style>\n",
              "<table border=\"1\" class=\"dataframe\">\n",
              "  <thead>\n",
              "    <tr style=\"text-align: right;\">\n",
              "      <th></th>\n",
              "      <th>age</th>\n",
              "      <th>marital</th>\n",
              "      <th>education</th>\n",
              "      <th>housing</th>\n",
              "      <th>loan</th>\n",
              "      <th>contact</th>\n",
              "      <th>duration</th>\n",
              "      <th>campaign</th>\n",
              "      <th>pdays</th>\n",
              "      <th>previous</th>\n",
              "      <th>poutcome</th>\n",
              "      <th>emp_var_rate</th>\n",
              "      <th>cons_price_idx</th>\n",
              "      <th>cons_conf_idx</th>\n",
              "      <th>euribor3m</th>\n",
              "      <th>nr_employed</th>\n",
              "      <th>y</th>\n",
              "    </tr>\n",
              "  </thead>\n",
              "  <tbody>\n",
              "    <tr>\n",
              "      <th>0</th>\n",
              "      <td>44</td>\n",
              "      <td>married</td>\n",
              "      <td>basic.4y</td>\n",
              "      <td>yes</td>\n",
              "      <td>no</td>\n",
              "      <td>cellular</td>\n",
              "      <td>210</td>\n",
              "      <td>1</td>\n",
              "      <td>999</td>\n",
              "      <td>0</td>\n",
              "      <td>nonexistent</td>\n",
              "      <td>1.4</td>\n",
              "      <td>93.444</td>\n",
              "      <td>-36.1</td>\n",
              "      <td>4.963</td>\n",
              "      <td>5228.1</td>\n",
              "      <td>0</td>\n",
              "    </tr>\n",
              "    <tr>\n",
              "      <th>1</th>\n",
              "      <td>53</td>\n",
              "      <td>married</td>\n",
              "      <td>unknown</td>\n",
              "      <td>no</td>\n",
              "      <td>no</td>\n",
              "      <td>cellular</td>\n",
              "      <td>138</td>\n",
              "      <td>1</td>\n",
              "      <td>999</td>\n",
              "      <td>0</td>\n",
              "      <td>nonexistent</td>\n",
              "      <td>-0.1</td>\n",
              "      <td>93.200</td>\n",
              "      <td>-42.0</td>\n",
              "      <td>4.021</td>\n",
              "      <td>5195.8</td>\n",
              "      <td>0</td>\n",
              "    </tr>\n",
              "    <tr>\n",
              "      <th>2</th>\n",
              "      <td>28</td>\n",
              "      <td>single</td>\n",
              "      <td>university.degree</td>\n",
              "      <td>yes</td>\n",
              "      <td>no</td>\n",
              "      <td>cellular</td>\n",
              "      <td>339</td>\n",
              "      <td>3</td>\n",
              "      <td>6</td>\n",
              "      <td>2</td>\n",
              "      <td>success</td>\n",
              "      <td>-1.7</td>\n",
              "      <td>94.055</td>\n",
              "      <td>-39.8</td>\n",
              "      <td>0.729</td>\n",
              "      <td>4991.6</td>\n",
              "      <td>1</td>\n",
              "    </tr>\n",
              "    <tr>\n",
              "      <th>3</th>\n",
              "      <td>39</td>\n",
              "      <td>married</td>\n",
              "      <td>high.school</td>\n",
              "      <td>no</td>\n",
              "      <td>no</td>\n",
              "      <td>cellular</td>\n",
              "      <td>185</td>\n",
              "      <td>2</td>\n",
              "      <td>999</td>\n",
              "      <td>0</td>\n",
              "      <td>nonexistent</td>\n",
              "      <td>-1.8</td>\n",
              "      <td>93.075</td>\n",
              "      <td>-47.1</td>\n",
              "      <td>1.405</td>\n",
              "      <td>5099.1</td>\n",
              "      <td>0</td>\n",
              "    </tr>\n",
              "    <tr>\n",
              "      <th>4</th>\n",
              "      <td>55</td>\n",
              "      <td>married</td>\n",
              "      <td>basic.4y</td>\n",
              "      <td>yes</td>\n",
              "      <td>no</td>\n",
              "      <td>cellular</td>\n",
              "      <td>137</td>\n",
              "      <td>1</td>\n",
              "      <td>3</td>\n",
              "      <td>1</td>\n",
              "      <td>success</td>\n",
              "      <td>-2.9</td>\n",
              "      <td>92.201</td>\n",
              "      <td>-31.4</td>\n",
              "      <td>0.869</td>\n",
              "      <td>5076.2</td>\n",
              "      <td>1</td>\n",
              "    </tr>\n",
              "  </tbody>\n",
              "</table>\n",
              "</div>"
            ],
            "text/plain": [
              "   age  marital          education housing loan   contact  duration  campaign  \\\n",
              "0   44  married           basic.4y     yes   no  cellular       210         1   \n",
              "1   53  married            unknown      no   no  cellular       138         1   \n",
              "2   28   single  university.degree     yes   no  cellular       339         3   \n",
              "3   39  married        high.school      no   no  cellular       185         2   \n",
              "4   55  married           basic.4y     yes   no  cellular       137         1   \n",
              "\n",
              "   pdays  previous     poutcome  emp_var_rate  cons_price_idx  cons_conf_idx  \\\n",
              "0    999         0  nonexistent           1.4          93.444          -36.1   \n",
              "1    999         0  nonexistent          -0.1          93.200          -42.0   \n",
              "2      6         2      success          -1.7          94.055          -39.8   \n",
              "3    999         0  nonexistent          -1.8          93.075          -47.1   \n",
              "4      3         1      success          -2.9          92.201          -31.4   \n",
              "\n",
              "   euribor3m  nr_employed  y  \n",
              "0      4.963       5228.1  0  \n",
              "1      4.021       5195.8  0  \n",
              "2      0.729       4991.6  1  \n",
              "3      1.405       5099.1  0  \n",
              "4      0.869       5076.2  1  "
            ]
          },
          "execution_count": 81,
          "metadata": {},
          "output_type": "execute_result"
        }
      ],
      "source": [
        "dataset.head()"
      ]
    },
    {
      "cell_type": "code",
      "execution_count": 82,
      "metadata": {
        "colab": {
          "base_uri": "https://localhost:8080/",
          "height": 226
        },
        "id": "1lp7h0mXseay",
        "outputId": "a4632923-4726-4e97-a03f-6efc4d006934"
      },
      "outputs": [
        {
          "data": {
            "text/html": [
              "<div>\n",
              "<style scoped>\n",
              "    .dataframe tbody tr th:only-of-type {\n",
              "        vertical-align: middle;\n",
              "    }\n",
              "\n",
              "    .dataframe tbody tr th {\n",
              "        vertical-align: top;\n",
              "    }\n",
              "\n",
              "    .dataframe thead th {\n",
              "        text-align: right;\n",
              "    }\n",
              "</style>\n",
              "<table border=\"1\" class=\"dataframe\">\n",
              "  <thead>\n",
              "    <tr style=\"text-align: right;\">\n",
              "      <th></th>\n",
              "      <th>age</th>\n",
              "      <th>marital</th>\n",
              "      <th>education</th>\n",
              "      <th>housing</th>\n",
              "      <th>loan</th>\n",
              "      <th>contact</th>\n",
              "      <th>duration</th>\n",
              "      <th>campaign</th>\n",
              "      <th>pdays</th>\n",
              "      <th>previous</th>\n",
              "      <th>poutcome</th>\n",
              "      <th>emp_var_rate</th>\n",
              "      <th>cons_price_idx</th>\n",
              "      <th>cons_conf_idx</th>\n",
              "      <th>euribor3m</th>\n",
              "      <th>nr_employed</th>\n",
              "      <th>y</th>\n",
              "    </tr>\n",
              "  </thead>\n",
              "  <tbody>\n",
              "    <tr>\n",
              "      <th>41183</th>\n",
              "      <td>59</td>\n",
              "      <td>married</td>\n",
              "      <td>high.school</td>\n",
              "      <td>no</td>\n",
              "      <td>yes</td>\n",
              "      <td>telephone</td>\n",
              "      <td>222</td>\n",
              "      <td>1</td>\n",
              "      <td>999</td>\n",
              "      <td>0</td>\n",
              "      <td>nonexistent</td>\n",
              "      <td>1.4</td>\n",
              "      <td>94.465</td>\n",
              "      <td>-41.8</td>\n",
              "      <td>4.866</td>\n",
              "      <td>5228.1</td>\n",
              "      <td>0</td>\n",
              "    </tr>\n",
              "    <tr>\n",
              "      <th>41184</th>\n",
              "      <td>31</td>\n",
              "      <td>married</td>\n",
              "      <td>basic.4y</td>\n",
              "      <td>no</td>\n",
              "      <td>no</td>\n",
              "      <td>telephone</td>\n",
              "      <td>196</td>\n",
              "      <td>2</td>\n",
              "      <td>999</td>\n",
              "      <td>0</td>\n",
              "      <td>nonexistent</td>\n",
              "      <td>1.1</td>\n",
              "      <td>93.994</td>\n",
              "      <td>-36.4</td>\n",
              "      <td>4.860</td>\n",
              "      <td>5191.0</td>\n",
              "      <td>0</td>\n",
              "    </tr>\n",
              "    <tr>\n",
              "      <th>41185</th>\n",
              "      <td>42</td>\n",
              "      <td>single</td>\n",
              "      <td>university.degree</td>\n",
              "      <td>yes</td>\n",
              "      <td>yes</td>\n",
              "      <td>telephone</td>\n",
              "      <td>62</td>\n",
              "      <td>3</td>\n",
              "      <td>999</td>\n",
              "      <td>0</td>\n",
              "      <td>nonexistent</td>\n",
              "      <td>1.1</td>\n",
              "      <td>93.994</td>\n",
              "      <td>-36.4</td>\n",
              "      <td>4.857</td>\n",
              "      <td>5191.0</td>\n",
              "      <td>0</td>\n",
              "    </tr>\n",
              "    <tr>\n",
              "      <th>41186</th>\n",
              "      <td>48</td>\n",
              "      <td>married</td>\n",
              "      <td>professional.course</td>\n",
              "      <td>no</td>\n",
              "      <td>yes</td>\n",
              "      <td>telephone</td>\n",
              "      <td>200</td>\n",
              "      <td>2</td>\n",
              "      <td>999</td>\n",
              "      <td>0</td>\n",
              "      <td>nonexistent</td>\n",
              "      <td>-3.4</td>\n",
              "      <td>92.431</td>\n",
              "      <td>-26.9</td>\n",
              "      <td>0.742</td>\n",
              "      <td>5017.5</td>\n",
              "      <td>0</td>\n",
              "    </tr>\n",
              "    <tr>\n",
              "      <th>41187</th>\n",
              "      <td>25</td>\n",
              "      <td>single</td>\n",
              "      <td>high.school</td>\n",
              "      <td>no</td>\n",
              "      <td>no</td>\n",
              "      <td>telephone</td>\n",
              "      <td>112</td>\n",
              "      <td>4</td>\n",
              "      <td>999</td>\n",
              "      <td>0</td>\n",
              "      <td>nonexistent</td>\n",
              "      <td>1.1</td>\n",
              "      <td>93.994</td>\n",
              "      <td>-36.4</td>\n",
              "      <td>4.859</td>\n",
              "      <td>5191.0</td>\n",
              "      <td>0</td>\n",
              "    </tr>\n",
              "  </tbody>\n",
              "</table>\n",
              "</div>"
            ],
            "text/plain": [
              "       age  marital            education housing loan    contact  duration  \\\n",
              "41183   59  married          high.school      no  yes  telephone       222   \n",
              "41184   31  married             basic.4y      no   no  telephone       196   \n",
              "41185   42   single    university.degree     yes  yes  telephone        62   \n",
              "41186   48  married  professional.course      no  yes  telephone       200   \n",
              "41187   25   single          high.school      no   no  telephone       112   \n",
              "\n",
              "       campaign  pdays  previous     poutcome  emp_var_rate  cons_price_idx  \\\n",
              "41183         1    999         0  nonexistent           1.4          94.465   \n",
              "41184         2    999         0  nonexistent           1.1          93.994   \n",
              "41185         3    999         0  nonexistent           1.1          93.994   \n",
              "41186         2    999         0  nonexistent          -3.4          92.431   \n",
              "41187         4    999         0  nonexistent           1.1          93.994   \n",
              "\n",
              "       cons_conf_idx  euribor3m  nr_employed  y  \n",
              "41183          -41.8      4.866       5228.1  0  \n",
              "41184          -36.4      4.860       5191.0  0  \n",
              "41185          -36.4      4.857       5191.0  0  \n",
              "41186          -26.9      0.742       5017.5  0  \n",
              "41187          -36.4      4.859       5191.0  0  "
            ]
          },
          "execution_count": 82,
          "metadata": {},
          "output_type": "execute_result"
        }
      ],
      "source": [
        "dataset.tail()"
      ]
    },
    {
      "cell_type": "code",
      "execution_count": 83,
      "metadata": {
        "colab": {
          "base_uri": "https://localhost:8080/"
        },
        "id": "5rlxCQ0ZsgKO",
        "outputId": "4e876cde-7724-47f6-d66a-a42124374a5c"
      },
      "outputs": [
        {
          "data": {
            "text/plain": [
              "(41188, 17)"
            ]
          },
          "execution_count": 83,
          "metadata": {},
          "output_type": "execute_result"
        }
      ],
      "source": [
        "dataset.shape # Returns the dimensions of the array."
      ]
    },
    {
      "cell_type": "code",
      "execution_count": 84,
      "metadata": {
        "colab": {
          "base_uri": "https://localhost:8080/",
          "height": 617
        },
        "id": "5CaIYUxFshjd",
        "outputId": "1cd7494a-31be-4462-a62b-b37776ee334f"
      },
      "outputs": [
        {
          "data": {
            "text/plain": [
              "age                 int64\n",
              "marital            object\n",
              "education          object\n",
              "housing            object\n",
              "loan               object\n",
              "contact            object\n",
              "duration            int64\n",
              "campaign            int64\n",
              "pdays               int64\n",
              "previous            int64\n",
              "poutcome           object\n",
              "emp_var_rate      float64\n",
              "cons_price_idx    float64\n",
              "cons_conf_idx     float64\n",
              "euribor3m         float64\n",
              "nr_employed       float64\n",
              "y                   int64\n",
              "dtype: object"
            ]
          },
          "execution_count": 84,
          "metadata": {},
          "output_type": "execute_result"
        }
      ],
      "source": [
        "dataset.dtypes # Returns the dtypes in the DataFrame."
      ]
    },
    {
      "cell_type": "code",
      "execution_count": 85,
      "metadata": {
        "colab": {
          "base_uri": "https://localhost:8080/",
          "height": 617
        },
        "id": "AIUSAR1Usiyr",
        "outputId": "8a74479a-e8c8-4b0c-ada5-1e595ee3f74b"
      },
      "outputs": [
        {
          "data": {
            "text/plain": [
              "age               False\n",
              "marital           False\n",
              "education         False\n",
              "housing           False\n",
              "loan              False\n",
              "contact           False\n",
              "duration          False\n",
              "campaign          False\n",
              "pdays             False\n",
              "previous          False\n",
              "poutcome          False\n",
              "emp_var_rate      False\n",
              "cons_price_idx    False\n",
              "cons_conf_idx     False\n",
              "euribor3m         False\n",
              "nr_employed       False\n",
              "y                 False\n",
              "dtype: bool"
            ]
          },
          "execution_count": 85,
          "metadata": {},
          "output_type": "execute_result"
        }
      ],
      "source": [
        "# Check for NAS\n",
        "dataset.isna().any() # Generate a boolean mask indicating missing values"
      ]
    },
    {
      "cell_type": "code",
      "execution_count": 86,
      "metadata": {
        "colab": {
          "base_uri": "https://localhost:8080/",
          "height": 617
        },
        "id": "yYncQ4huxBWK",
        "outputId": "018945a6-b7d8-4502-83ae-a7a32532d096"
      },
      "outputs": [
        {
          "data": {
            "text/plain": [
              "age               0\n",
              "marital           0\n",
              "education         0\n",
              "housing           0\n",
              "loan              0\n",
              "contact           0\n",
              "duration          0\n",
              "campaign          0\n",
              "pdays             0\n",
              "previous          0\n",
              "poutcome          0\n",
              "emp_var_rate      0\n",
              "cons_price_idx    0\n",
              "cons_conf_idx     0\n",
              "euribor3m         0\n",
              "nr_employed       0\n",
              "y                 0\n",
              "dtype: int64"
            ]
          },
          "execution_count": 86,
          "metadata": {},
          "output_type": "execute_result"
        }
      ],
      "source": [
        "dataset.isna().sum()"
      ]
    },
    {
      "cell_type": "code",
      "execution_count": 87,
      "metadata": {
        "colab": {
          "base_uri": "https://localhost:8080/"
        },
        "id": "qmEZV8QNsmyu",
        "outputId": "531b2118-70f7-4519-d8d8-da38f1d75a8d"
      },
      "outputs": [
        {
          "name": "stdout",
          "output_type": "stream",
          "text": [
            "Index(['age', 'marital', 'education', 'housing', 'loan', 'contact', 'duration',\n",
            "       'campaign', 'pdays', 'previous', 'poutcome', 'emp_var_rate',\n",
            "       'cons_price_idx', 'cons_conf_idx', 'euribor3m', 'nr_employed', 'y'],\n",
            "      dtype='object')\n"
          ]
        }
      ],
      "source": [
        "# Describe the data\n",
        "dataset.describe()\n",
        "\n",
        "print(dataset.columns)"
      ]
    },
    {
      "cell_type": "code",
      "execution_count": 88,
      "metadata": {
        "id": "76FsUTR4stKH"
      },
      "outputs": [],
      "source": [
        "# Select the target and independent variables\n",
        "# Convert 'loan' column to numerical using one-hot encoding\n",
        "X_df = pd.get_dummies(dataset['loan'], prefix='loan')  # keep as DataFrame to preserve column names\n",
        "X = X_df.values\n",
        "y = dataset['age'].values.reshape(-1,1)\n",
        "# Choose one feature for visualization (prefer 'loan_yes' if present)\n",
        "viz_col = 'loan_yes' if 'loan_yes' in X_df.columns else X_df.columns[0]\n",
        "viz_idx = list(X_df.columns).index(viz_col)"
      ]
    },
    {
      "cell_type": "code",
      "execution_count": 89,
      "metadata": {
        "colab": {
          "base_uri": "https://localhost:8080/",
          "height": 449
        },
        "id": "HKeWpF56supZ",
        "outputId": "1e19e915-e444-4366-e52f-4ebd84a59b42"
      },
      "outputs": [
        {
          "data": {
            "image/png": "[encoded data removed]",
            "text/plain": [
              "<Figure size 640x480 with 1 Axes>"
            ]
          },
          "metadata": {},
          "output_type": "display_data"
        }
      ],
      "source": [
        "# Scatter plot\n",
        "plt.scatter(X_df[viz_col].values, y.ravel(), marker='.')\n",
        "plt.xlabel(viz_col)\n",
        "plt.ylabel('age')\n",
        "plt.show()"
      ]
    },
    {
      "cell_type": "code",
      "execution_count": null,
      "metadata": {
        "id": "1jJmqLFD7h3r"
      },
      "outputs": [],
      "source": []
    },
    {
      "cell_type": "code",
      "execution_count": 90,
      "metadata": {
        "colab": {
          "base_uri": "https://localhost:8080/",
          "height": 125
        },
        "id": "2b09oT3-soIE",
        "outputId": "6655c25d-eca3-4e0b-d6fe-f97b8ceeb2f5"
      },
      "outputs": [
        {
          "data": {
            "text/html": [
              "<div>\n",
              "<style scoped>\n",
              "    .dataframe tbody tr th:only-of-type {\n",
              "        vertical-align: middle;\n",
              "    }\n",
              "\n",
              "    .dataframe tbody tr th {\n",
              "        vertical-align: top;\n",
              "    }\n",
              "\n",
              "    .dataframe thead th {\n",
              "        text-align: right;\n",
              "    }\n",
              "</style>\n",
              "<table border=\"1\" class=\"dataframe\">\n",
              "  <thead>\n",
              "    <tr style=\"text-align: right;\">\n",
              "      <th></th>\n",
              "      <th>age</th>\n",
              "      <th>duration</th>\n",
              "      <th>campaign</th>\n",
              "      <th>pdays</th>\n",
              "      <th>previous</th>\n",
              "      <th>emp_var_rate</th>\n",
              "      <th>cons_price_idx</th>\n",
              "      <th>cons_conf_idx</th>\n",
              "      <th>euribor3m</th>\n",
              "      <th>nr_employed</th>\n",
              "      <th>y</th>\n",
              "    </tr>\n",
              "  </thead>\n",
              "  <tbody>\n",
              "    <tr>\n",
              "      <th>age</th>\n",
              "      <td>1.000000</td>\n",
              "      <td>-0.000866</td>\n",
              "      <td>0.004594</td>\n",
              "      <td>-0.034369</td>\n",
              "      <td>0.024365</td>\n",
              "      <td>-0.000371</td>\n",
              "      <td>0.000857</td>\n",
              "      <td>0.129372</td>\n",
              "      <td>0.010767</td>\n",
              "      <td>-0.017725</td>\n",
              "      <td>0.030399</td>\n",
              "    </tr>\n",
              "    <tr>\n",
              "      <th>duration</th>\n",
              "      <td>-0.000866</td>\n",
              "      <td>1.000000</td>\n",
              "      <td>-0.071699</td>\n",
              "      <td>-0.047577</td>\n",
              "      <td>0.020640</td>\n",
              "      <td>-0.027968</td>\n",
              "      <td>0.005312</td>\n",
              "      <td>-0.008173</td>\n",
              "      <td>-0.032897</td>\n",
              "      <td>-0.044703</td>\n",
              "      <td>0.405274</td>\n",
              "    </tr>\n",
              "    <tr>\n",
              "      <th>campaign</th>\n",
              "      <td>0.004594</td>\n",
              "      <td>-0.071699</td>\n",
              "      <td>1.000000</td>\n",
              "      <td>0.052584</td>\n",
              "      <td>-0.079141</td>\n",
              "      <td>0.150754</td>\n",
              "      <td>0.127836</td>\n",
              "      <td>-0.013733</td>\n",
              "      <td>0.135133</td>\n",
              "      <td>0.144095</td>\n",
              "      <td>-0.066357</td>\n",
              "    </tr>\n",
              "    <tr>\n",
              "      <th>pdays</th>\n",
              "      <td>-0.034369</td>\n",
              "      <td>-0.047577</td>\n",
              "      <td>0.052584</td>\n",
              "      <td>1.000000</td>\n",
              "      <td>-0.587514</td>\n",
              "      <td>0.271004</td>\n",
              "      <td>0.078889</td>\n",
              "      <td>-0.091342</td>\n",
              "      <td>0.296899</td>\n",
              "      <td>0.372605</td>\n",
              "      <td>-0.324914</td>\n",
              "    </tr>\n",
              "    <tr>\n",
              "      <th>previous</th>\n",
              "      <td>0.024365</td>\n",
              "      <td>0.020640</td>\n",
              "      <td>-0.079141</td>\n",
              "      <td>-0.587514</td>\n",
              "      <td>1.000000</td>\n",
              "      <td>-0.420489</td>\n",
              "      <td>-0.203130</td>\n",
              "      <td>-0.050936</td>\n",
              "      <td>-0.454494</td>\n",
              "      <td>-0.501333</td>\n",
              "      <td>0.230181</td>\n",
              "    </tr>\n",
              "    <tr>\n",
              "      <th>emp_var_rate</th>\n",
              "      <td>-0.000371</td>\n",
              "      <td>-0.027968</td>\n",
              "      <td>0.150754</td>\n",
              "      <td>0.271004</td>\n",
              "      <td>-0.420489</td>\n",
              "      <td>1.000000</td>\n",
              "      <td>0.775334</td>\n",
              "      <td>0.196041</td>\n",
              "      <td>0.972245</td>\n",
              "      <td>0.906970</td>\n",
              "      <td>-0.298334</td>\n",
              "    </tr>\n",
              "    <tr>\n",
              "      <th>cons_price_idx</th>\n",
              "      <td>0.000857</td>\n",
              "      <td>0.005312</td>\n",
              "      <td>0.127836</td>\n",
              "      <td>0.078889</td>\n",
              "      <td>-0.203130</td>\n",
              "      <td>0.775334</td>\n",
              "      <td>1.000000</td>\n",
              "      <td>0.058986</td>\n",
              "      <td>0.688230</td>\n",
              "      <td>0.522034</td>\n",
              "      <td>-0.136211</td>\n",
              "    </tr>\n",
              "    <tr>\n",
              "      <th>cons_conf_idx</th>\n",
              "      <td>0.129372</td>\n",
              "      <td>-0.008173</td>\n",
              "      <td>-0.013733</td>\n",
              "      <td>-0.091342</td>\n",
              "      <td>-0.050936</td>\n",
              "      <td>0.196041</td>\n",
              "      <td>0.058986</td>\n",
              "      <td>1.000000</td>\n",
              "      <td>0.277686</td>\n",
              "      <td>0.100513</td>\n",
              "      <td>0.054878</td>\n",
              "    </tr>\n",
              "    <tr>\n",
              "      <th>euribor3m</th>\n",
              "      <td>0.010767</td>\n",
              "      <td>-0.032897</td>\n",
              "      <td>0.135133</td>\n",
              "      <td>0.296899</td>\n",
              "      <td>-0.454494</td>\n",
              "      <td>0.972245</td>\n",
              "      <td>0.688230</td>\n",
              "      <td>0.277686</td>\n",
              "      <td>1.000000</td>\n",
              "      <td>0.945154</td>\n",
              "      <td>-0.307771</td>\n",
              "    </tr>\n",
              "    <tr>\n",
              "      <th>nr_employed</th>\n",
              "      <td>-0.017725</td>\n",
              "      <td>-0.044703</td>\n",
              "      <td>0.144095</td>\n",
              "      <td>0.372605</td>\n",
              "      <td>-0.501333</td>\n",
              "      <td>0.906970</td>\n",
              "      <td>0.522034</td>\n",
              "      <td>0.100513</td>\n",
              "      <td>0.945154</td>\n",
              "      <td>1.000000</td>\n",
              "      <td>-0.354678</td>\n",
              "    </tr>\n",
              "    <tr>\n",
              "      <th>y</th>\n",
              "      <td>0.030399</td>\n",
              "      <td>0.405274</td>\n",
              "      <td>-0.066357</td>\n",
              "      <td>-0.324914</td>\n",
              "      <td>0.230181</td>\n",
              "      <td>-0.298334</td>\n",
              "      <td>-0.136211</td>\n",
              "      <td>0.054878</td>\n",
              "      <td>-0.307771</td>\n",
              "      <td>-0.354678</td>\n",
              "      <td>1.000000</td>\n",
              "    </tr>\n",
              "  </tbody>\n",
              "</table>\n",
              "</div>"
            ],
            "text/plain": [
              "                     age  duration  campaign     pdays  previous  \\\n",
              "age             1.000000 -0.000866  0.004594 -0.034369  0.024365   \n",
              "duration       -0.000866  1.000000 -0.071699 -0.047577  0.020640   \n",
              "campaign        0.004594 -0.071699  1.000000  0.052584 -0.079141   \n",
              "pdays          -0.034369 -0.047577  0.052584  1.000000 -0.587514   \n",
              "previous        0.024365  0.020640 -0.079141 -0.587514  1.000000   \n",
              "emp_var_rate   -0.000371 -0.027968  0.150754  0.271004 -0.420489   \n",
              "cons_price_idx  0.000857  0.005312  0.127836  0.078889 -0.203130   \n",
              "cons_conf_idx   0.129372 -0.008173 -0.013733 -0.091342 -0.050936   \n",
              "euribor3m       0.010767 -0.032897  0.135133  0.296899 -0.454494   \n",
              "nr_employed    -0.017725 -0.044703  0.144095  0.372605 -0.501333   \n",
              "y               0.030399  0.405274 -0.066357 -0.324914  0.230181   \n",
              "\n",
              "                emp_var_rate  cons_price_idx  cons_conf_idx  euribor3m  \\\n",
              "age                -0.000371        0.000857       0.129372   0.010767   \n",
              "duration           -0.027968        0.005312      -0.008173  -0.032897   \n",
              "campaign            0.150754        0.127836      -0.013733   0.135133   \n",
              "pdays               0.271004        0.078889      -0.091342   0.296899   \n",
              "previous           -0.420489       -0.203130      -0.050936  -0.454494   \n",
              "emp_var_rate        1.000000        0.775334       0.196041   0.972245   \n",
              "cons_price_idx      0.775334        1.000000       0.058986   0.688230   \n",
              "cons_conf_idx       0.196041        0.058986       1.000000   0.277686   \n",
              "euribor3m           0.972245        0.688230       0.277686   1.000000   \n",
              "nr_employed         0.906970        0.522034       0.100513   0.945154   \n",
              "y                  -0.298334       -0.136211       0.054878  -0.307771   \n",
              "\n",
              "                nr_employed         y  \n",
              "age               -0.017725  0.030399  \n",
              "duration          -0.044703  0.405274  \n",
              "campaign           0.144095 -0.066357  \n",
              "pdays              0.372605 -0.324914  \n",
              "previous          -0.501333  0.230181  \n",
              "emp_var_rate       0.906970 -0.298334  \n",
              "cons_price_idx     0.522034 -0.136211  \n",
              "cons_conf_idx      0.100513  0.054878  \n",
              "euribor3m          0.945154 -0.307771  \n",
              "nr_employed        1.000000 -0.354678  \n",
              "y                 -0.354678  1.000000  "
            ]
          },
          "execution_count": 90,
          "metadata": {},
          "output_type": "execute_result"
        }
      ],
      "source": [
        "# Remove non-numeric vars and check the correlations\n",
        "corrmat = dataset.drop(['marital', 'education', 'housing', 'loan', 'contact', 'poutcome'], axis=1).corr()\n",
        "corrmat"
      ]
    },
    {
      "cell_type": "code",
      "execution_count": 91,
      "metadata": {
        "colab": {
          "base_uri": "https://localhost:8080/",
          "height": 435
        },
        "id": "K8fopQTtssAc",
        "outputId": "88354336-66e6-4320-8535-e39f1b1a145f"
      },
      "outputs": [
        {
          "data": {
            "image/png": "[encoded data removed]",
            "text/plain": [
              "<Figure size 640x480 with 2 Axes>"
            ]
          },
          "metadata": {},
          "output_type": "display_data"
        }
      ],
      "source": [
        "# Plot correlation heatmap\n",
        "sns.heatmap(corrmat, cmap =\"YlGnBu\", linewidths=0.1)\n",
        "# sns.heatmap(corrmat, cmap=\"Blues\")\n",
        "# sns.heatmap(corrmat, cmap=\"BuPu\")\n",
        "# sns.heatmap(corrmat, cmap=\"Greens\")\n",
        "plt.show()"
      ]
    },
    {
      "cell_type": "code",
      "execution_count": 92,
      "metadata": {
        "colab": {
          "base_uri": "https://localhost:8080/"
        },
        "id": "5UdqyBLvszPE",
        "outputId": "15206968-aff0-490e-a9b2-29fb0d8ea2b4"
      },
      "outputs": [
        {
          "name": "stdout",
          "output_type": "stream",
          "text": [
            "(32950, 3)\n",
            "(8238, 3)\n",
            "(32950, 1)\n",
            "(8238, 1)\n"
          ]
        }
      ],
      "source": [
        "# Split train and test set\n",
        "X_train, X_test, y_train, y_test = train_test_split(X, y, test_size=0.2, random_state=0) # 20% in testing; we set random_state, as everytime you run it without specifying random_state, you will get a different result\n",
        "print(X_train.shape)\n",
        "print(X_test.shape)\n",
        "print(y_train.shape)\n",
        "print(y_test.shape)"
      ]
    },
    {
      "cell_type": "code",
      "execution_count": 93,
      "metadata": {
        "colab": {
          "base_uri": "https://localhost:8080/",
          "height": 80
        },
        "id": "9QYGlZuSs0z7",
        "outputId": "2ed4a815-a44a-4061-89bd-bc581a07bd7d"
      },
      "outputs": [
        {
          "data": {
            "text/html": [
              "<style>#sk-container-id-2 {\n",
              "  /* Definition of color scheme common for light and dark mode */\n",
              "  --sklearn-color-text: #000;\n",
              "  --sklearn-color-text-muted: #666;\n",
              "  --sklearn-color-line: gray;\n",
              "  /* Definition of color scheme for unfitted estimators */\n",
              "  --sklearn-color-unfitted-level-0: #fff5e6;\n",
              "  --sklearn-color-unfitted-level-1: #f6e4d2;\n",
              "  --sklearn-color-unfitted-level-2: #ffe0b3;\n",
              "  --sklearn-color-unfitted-level-3: chocolate;\n",
              "  /* Definition of color scheme for fitted estimators */\n",
              "  --sklearn-color-fitted-level-0: #f0f8ff;\n",
              "  --sklearn-color-fitted-level-1: #d4ebff;\n",
              "  --sklearn-color-fitted-level-2: #b3dbfd;\n",
              "  --sklearn-color-fitted-level-3: cornflowerblue;\n",
              "\n",
              "  /* Specific color for light theme */\n",
              "  --sklearn-color-text-on-default-background: var(--sg-text-color, var(--theme-code-foreground, var(--jp-content-font-color1, black)));\n",
              "  --sklearn-color-background: var(--sg-background-color, var(--theme-background, var(--jp-layout-color0, white)));\n",
              "  --sklearn-color-border-box: var(--sg-text-color, var(--theme-code-foreground, var(--jp-content-font-color1, black)));\n",
              "  --sklearn-color-icon: #696969;\n",
              "\n",
              "  @media (prefers-color-scheme: dark) {\n",
              "    /* Redefinition of color scheme for dark theme */\n",
              "    --sklearn-color-text-on-default-background: var(--sg-text-color, var(--theme-code-foreground, var(--jp-content-font-color1, white)));\n",
              "    --sklearn-color-background: var(--sg-background-color, var(--theme-background, var(--jp-layout-color0, #111)));\n",
              "    --sklearn-color-border-box: var(--sg-text-color, var(--theme-code-foreground, var(--jp-content-font-color1, white)));\n",
              "    --sklearn-color-icon: #878787;\n",
              "  }\n",
              "}\n",
              "\n",
              "#sk-container-id-2 {\n",
              "  color: var(--sklearn-color-text);\n",
              "}\n",
              "\n",
              "#sk-container-id-2 pre {\n",
              "  padding: 0;\n",
              "}\n",
              "\n",
              "#sk-container-id-2 input.sk-hidden--visually {\n",
              "  border: 0;\n",
              "  clip: rect(1px 1px 1px 1px);\n",
              "  clip: rect(1px, 1px, 1px, 1px);\n",
              "  height: 1px;\n",
              "  margin: -1px;\n",
              "  overflow: hidden;\n",
              "  padding: 0;\n",
              "  position: absolute;\n",
              "  width: 1px;\n",
              "}\n",
              "\n",
              "#sk-container-id-2 div.sk-dashed-wrapped {\n",
              "  border: 1px dashed var(--sklearn-color-line);\n",
              "  margin: 0 0.4em 0.5em 0.4em;\n",
              "  box-sizing: border-box;\n",
              "  padding-bottom: 0.4em;\n",
              "  background-color: var(--sklearn-color-background);\n",
              "}\n",
              "\n",
              "#sk-container-id-2 div.sk-container {\n",
              "  /* jupyter's `normalize.less` sets `[hidden] { display: none; }`\n",
              "     but bootstrap.min.css set `[hidden] { display: none !important; }`\n",
              "     so we also need the `!important` here to be able to override the\n",
              "     default hidden behavior on the sphinx rendered scikit-learn.org.\n",
              "     See: https://github.com/scikit-learn/scikit-learn/issues/21755 */\n",
              "  display: inline-block !important;\n",
              "  position: relative;\n",
              "}\n",
              "\n",
              "#sk-container-id-2 div.sk-text-repr-fallback {\n",
              "  display: none;\n",
              "}\n",
              "\n",
              "div.sk-parallel-item,\n",
              "div.sk-serial,\n",
              "div.sk-item {\n",
              "  /* draw centered vertical line to link estimators */\n",
              "  background-image: linear-gradient(var(--sklearn-color-text-on-default-background), var(--sklearn-color-text-on-default-background));\n",
              "  background-size: 2px 100%;\n",
              "  background-repeat: no-repeat;\n",
              "  background-position: center center;\n",
              "}\n",
              "\n",
              "/* Parallel-specific style estimator block */\n",
              "\n",
              "#sk-container-id-2 div.sk-parallel-item::after {\n",
              "  content: \"\";\n",
              "  width: 100%;\n",
              "  border-bottom: 2px solid var(--sklearn-color-text-on-default-background);\n",
              "  flex-grow: 1;\n",
              "}\n",
              "\n",
              "#sk-container-id-2 div.sk-parallel {\n",
              "  display: flex;\n",
              "  align-items: stretch;\n",
              "  justify-content: center;\n",
              "  background-color: var(--sklearn-color-background);\n",
              "  position: relative;\n",
              "}\n",
              "\n",
              "#sk-container-id-2 div.sk-parallel-item {\n",
              "  display: flex;\n",
              "  flex-direction: column;\n",
              "}\n",
              "\n",
              "#sk-container-id-2 div.sk-parallel-item:first-child::after {\n",
              "  align-self: flex-end;\n",
              "  width: 50%;\n",
              "}\n",
              "\n",
              "#sk-container-id-2 div.sk-parallel-item:last-child::after {\n",
              "  align-self: flex-start;\n",
              "  width: 50%;\n",
              "}\n",
              "\n",
              "#sk-container-id-2 div.sk-parallel-item:only-child::after {\n",
              "  width: 0;\n",
              "}\n",
              "\n",
              "/* Serial-specific style estimator block */\n",
              "\n",
              "#sk-container-id-2 div.sk-serial {\n",
              "  display: flex;\n",
              "  flex-direction: column;\n",
              "  align-items: center;\n",
              "  background-color: var(--sklearn-color-background);\n",
              "  padding-right: 1em;\n",
              "  padding-left: 1em;\n",
              "}\n",
              "\n",
              "\n",
              "/* Toggleable style: style used for estimator/Pipeline/ColumnTransformer box that is\n",
              "clickable and can be expanded/collapsed.\n",
              "- Pipeline and ColumnTransformer use this feature and define the default style\n",
              "- Estimators will overwrite some part of the style using the `sk-estimator` class\n",
              "*/\n",
              "\n",
              "/* Pipeline and ColumnTransformer style (default) */\n",
              "\n",
              "#sk-container-id-2 div.sk-toggleable {\n",
              "  /* Default theme specific background. It is overwritten whether we have a\n",
              "  specific estimator or a Pipeline/ColumnTransformer */\n",
              "  background-color: var(--sklearn-color-background);\n",
              "}\n",
              "\n",
              "/* Toggleable label */\n",
              "#sk-container-id-2 label.sk-toggleable__label {\n",
              "  cursor: pointer;\n",
              "  display: flex;\n",
              "  width: 100%;\n",
              "  margin-bottom: 0;\n",
              "  padding: 0.5em;\n",
              "  box-sizing: border-box;\n",
              "  text-align: center;\n",
              "  align-items: start;\n",
              "  justify-content: space-between;\n",
              "  gap: 0.5em;\n",
              "}\n",
              "\n",
              "#sk-container-id-2 label.sk-toggleable__label .caption {\n",
              "  font-size: 0.6rem;\n",
              "  font-weight: lighter;\n",
              "  color: var(--sklearn-color-text-muted);\n",
              "}\n",
              "\n",
              "#sk-container-id-2 label.sk-toggleable__label-arrow:before {\n",
              "  /* Arrow on the left of the label */\n",
              "  content: \"▸\";\n",
              "  float: left;\n",
              "  margin-right: 0.25em;\n",
              "  color: var(--sklearn-color-icon);\n",
              "}\n",
              "\n",
              "#sk-container-id-2 label.sk-toggleable__label-arrow:hover:before {\n",
              "  color: var(--sklearn-color-text);\n",
              "}\n",
              "\n",
              "/* Toggleable content - dropdown */\n",
              "\n",
              "#sk-container-id-2 div.sk-toggleable__content {\n",
              "  display: none;\n",
              "  text-align: left;\n",
              "  /* unfitted */\n",
              "  background-color: var(--sklearn-color-unfitted-level-0);\n",
              "}\n",
              "\n",
              "#sk-container-id-2 div.sk-toggleable__content.fitted {\n",
              "  /* fitted */\n",
              "  background-color: var(--sklearn-color-fitted-level-0);\n",
              "}\n",
              "\n",
              "#sk-container-id-2 div.sk-toggleable__content pre {\n",
              "  margin: 0.2em;\n",
              "  border-radius: 0.25em;\n",
              "  color: var(--sklearn-color-text);\n",
              "  /* unfitted */\n",
              "  background-color: var(--sklearn-color-unfitted-level-0);\n",
              "}\n",
              "\n",
              "#sk-container-id-2 div.sk-toggleable__content.fitted pre {\n",
              "  /* unfitted */\n",
              "  background-color: var(--sklearn-color-fitted-level-0);\n",
              "}\n",
              "\n",
              "#sk-container-id-2 input.sk-toggleable__control:checked~div.sk-toggleable__content {\n",
              "  /* Expand drop-down */\n",
              "  display: block;\n",
              "  width: 100%;\n",
              "  overflow: visible;\n",
              "}\n",
              "\n",
              "#sk-container-id-2 input.sk-toggleable__control:checked~label.sk-toggleable__label-arrow:before {\n",
              "  content: \"▾\";\n",
              "}\n",
              "\n",
              "/* Pipeline/ColumnTransformer-specific style */\n",
              "\n",
              "#sk-container-id-2 div.sk-label input.sk-toggleable__control:checked~label.sk-toggleable__label {\n",
              "  color: var(--sklearn-color-text);\n",
              "  background-color: var(--sklearn-color-unfitted-level-2);\n",
              "}\n",
              "\n",
              "#sk-container-id-2 div.sk-label.fitted input.sk-toggleable__control:checked~label.sk-toggleable__label {\n",
              "  background-color: var(--sklearn-color-fitted-level-2);\n",
              "}\n",
              "\n",
              "/* Estimator-specific style */\n",
              "\n",
              "/* Colorize estimator box */\n",
              "#sk-container-id-2 div.sk-estimator input.sk-toggleable__control:checked~label.sk-toggleable__label {\n",
              "  /* unfitted */\n",
              "  background-color: var(--sklearn-color-unfitted-level-2);\n",
              "}\n",
              "\n",
              "#sk-container-id-2 div.sk-estimator.fitted input.sk-toggleable__control:checked~label.sk-toggleable__label {\n",
              "  /* fitted */\n",
              "  background-color: var(--sklearn-color-fitted-level-2);\n",
              "}\n",
              "\n",
              "#sk-container-id-2 div.sk-label label.sk-toggleable__label,\n",
              "#sk-container-id-2 div.sk-label label {\n",
              "  /* The background is the default theme color */\n",
              "  color: var(--sklearn-color-text-on-default-background);\n",
              "}\n",
              "\n",
              "/* On hover, darken the color of the background */\n",
              "#sk-container-id-2 div.sk-label:hover label.sk-toggleable__label {\n",
              "  color: var(--sklearn-color-text);\n",
              "  background-color: var(--sklearn-color-unfitted-level-2);\n",
              "}\n",
              "\n",
              "/* Label box, darken color on hover, fitted */\n",
              "#sk-container-id-2 div.sk-label.fitted:hover label.sk-toggleable__label.fitted {\n",
              "  color: var(--sklearn-color-text);\n",
              "  background-color: var(--sklearn-color-fitted-level-2);\n",
              "}\n",
              "\n",
              "/* Estimator label */\n",
              "\n",
              "#sk-container-id-2 div.sk-label label {\n",
              "  font-family: monospace;\n",
              "  font-weight: bold;\n",
              "  display: inline-block;\n",
              "  line-height: 1.2em;\n",
              "}\n",
              "\n",
              "#sk-container-id-2 div.sk-label-container {\n",
              "  text-align: center;\n",
              "}\n",
              "\n",
              "/* Estimator-specific */\n",
              "#sk-container-id-2 div.sk-estimator {\n",
              "  font-family: monospace;\n",
              "  border: 1px dotted var(--sklearn-color-border-box);\n",
              "  border-radius: 0.25em;\n",
              "  box-sizing: border-box;\n",
              "  margin-bottom: 0.5em;\n",
              "  /* unfitted */\n",
              "  background-color: var(--sklearn-color-unfitted-level-0);\n",
              "}\n",
              "\n",
              "#sk-container-id-2 div.sk-estimator.fitted {\n",
              "  /* fitted */\n",
              "  background-color: var(--sklearn-color-fitted-level-0);\n",
              "}\n",
              "\n",
              "/* on hover */\n",
              "#sk-container-id-2 div.sk-estimator:hover {\n",
              "  /* unfitted */\n",
              "  background-color: var(--sklearn-color-unfitted-level-2);\n",
              "}\n",
              "\n",
              "#sk-container-id-2 div.sk-estimator.fitted:hover {\n",
              "  /* fitted */\n",
              "  background-color: var(--sklearn-color-fitted-level-2);\n",
              "}\n",
              "\n",
              "/* Specification for estimator info (e.g. \"i\" and \"?\") */\n",
              "\n",
              "/* Common style for \"i\" and \"?\" */\n",
              "\n",
              ".sk-estimator-doc-link,\n",
              "a:link.sk-estimator-doc-link,\n",
              "a:visited.sk-estimator-doc-link {\n",
              "  float: right;\n",
              "  font-size: smaller;\n",
              "  line-height: 1em;\n",
              "  font-family: monospace;\n",
              "  background-color: var(--sklearn-color-background);\n",
              "  border-radius: 1em;\n",
              "  height: 1em;\n",
              "  width: 1em;\n",
              "  text-decoration: none !important;\n",
              "  margin-left: 0.5em;\n",
              "  text-align: center;\n",
              "  /* unfitted */\n",
              "  border: var(--sklearn-color-unfitted-level-1) 1pt solid;\n",
              "  color: var(--sklearn-color-unfitted-level-1);\n",
              "}\n",
              "\n",
              ".sk-estimator-doc-link.fitted,\n",
              "a:link.sk-estimator-doc-link.fitted,\n",
              "a:visited.sk-estimator-doc-link.fitted {\n",
              "  /* fitted */\n",
              "  border: var(--sklearn-color-fitted-level-1) 1pt solid;\n",
              "  color: var(--sklearn-color-fitted-level-1);\n",
              "}\n",
              "\n",
              "/* On hover */\n",
              "div.sk-estimator:hover .sk-estimator-doc-link:hover,\n",
              ".sk-estimator-doc-link:hover,\n",
              "div.sk-label-container:hover .sk-estimator-doc-link:hover,\n",
              ".sk-estimator-doc-link:hover {\n",
              "  /* unfitted */\n",
              "  background-color: var(--sklearn-color-unfitted-level-3);\n",
              "  color: var(--sklearn-color-background);\n",
              "  text-decoration: none;\n",
              "}\n",
              "\n",
              "div.sk-estimator.fitted:hover .sk-estimator-doc-link.fitted:hover,\n",
              ".sk-estimator-doc-link.fitted:hover,\n",
              "div.sk-label-container:hover .sk-estimator-doc-link.fitted:hover,\n",
              ".sk-estimator-doc-link.fitted:hover {\n",
              "  /* fitted */\n",
              "  background-color: var(--sklearn-color-fitted-level-3);\n",
              "  color: var(--sklearn-color-background);\n",
              "  text-decoration: none;\n",
              "}\n",
              "\n",
              "/* Span, style for the box shown on hovering the info icon */\n",
              ".sk-estimator-doc-link span {\n",
              "  display: none;\n",
              "  z-index: 9999;\n",
              "  position: relative;\n",
              "  font-weight: normal;\n",
              "  right: .2ex;\n",
              "  padding: .5ex;\n",
              "  margin: .5ex;\n",
              "  width: min-content;\n",
              "  min-width: 20ex;\n",
              "  max-width: 50ex;\n",
              "  color: var(--sklearn-color-text);\n",
              "  box-shadow: 2pt 2pt 4pt #999;\n",
              "  /* unfitted */\n",
              "  background: var(--sklearn-color-unfitted-level-0);\n",
              "  border: .5pt solid var(--sklearn-color-unfitted-level-3);\n",
              "}\n",
              "\n",
              ".sk-estimator-doc-link.fitted span {\n",
              "  /* fitted */\n",
              "  background: var(--sklearn-color-fitted-level-0);\n",
              "  border: var(--sklearn-color-fitted-level-3);\n",
              "}\n",
              "\n",
              ".sk-estimator-doc-link:hover span {\n",
              "  display: block;\n",
              "}\n",
              "\n",
              "/* \"?\"-specific style due to the `<a>` HTML tag */\n",
              "\n",
              "#sk-container-id-2 a.estimator_doc_link {\n",
              "  float: right;\n",
              "  font-size: 1rem;\n",
              "  line-height: 1em;\n",
              "  font-family: monospace;\n",
              "  background-color: var(--sklearn-color-background);\n",
              "  border-radius: 1rem;\n",
              "  height: 1rem;\n",
              "  width: 1rem;\n",
              "  text-decoration: none;\n",
              "  /* unfitted */\n",
              "  color: var(--sklearn-color-unfitted-level-1);\n",
              "  border: var(--sklearn-color-unfitted-level-1) 1pt solid;\n",
              "}\n",
              "\n",
              "#sk-container-id-2 a.estimator_doc_link.fitted {\n",
              "  /* fitted */\n",
              "  border: var(--sklearn-color-fitted-level-1) 1pt solid;\n",
              "  color: var(--sklearn-color-fitted-level-1);\n",
              "}\n",
              "\n",
              "/* On hover */\n",
              "#sk-container-id-2 a.estimator_doc_link:hover {\n",
              "  /* unfitted */\n",
              "  background-color: var(--sklearn-color-unfitted-level-3);\n",
              "  color: var(--sklearn-color-background);\n",
              "  text-decoration: none;\n",
              "}\n",
              "\n",
              "#sk-container-id-2 a.estimator_doc_link.fitted:hover {\n",
              "  /* fitted */\n",
              "  background-color: var(--sklearn-color-fitted-level-3);\n",
              "}\n",
              "\n",
              ".estimator-table summary {\n",
              "    padding: .5rem;\n",
              "    font-family: monospace;\n",
              "    cursor: pointer;\n",
              "}\n",
              "\n",
              ".estimator-table details[open] {\n",
              "    padding-left: 0.1rem;\n",
              "    padding-right: 0.1rem;\n",
              "    padding-bottom: 0.3rem;\n",
              "}\n",
              "\n",
              ".estimator-table .parameters-table {\n",
              "    margin-left: auto !important;\n",
              "    margin-right: auto !important;\n",
              "}\n",
              "\n",
              ".estimator-table .parameters-table tr:nth-child(odd) {\n",
              "    background-color: #fff;\n",
              "}\n",
              "\n",
              ".estimator-table .parameters-table tr:nth-child(even) {\n",
              "    background-color: #f6f6f6;\n",
              "}\n",
              "\n",
              ".estimator-table .parameters-table tr:hover {\n",
              "    background-color: #e0e0e0;\n",
              "}\n",
              "\n",
              ".estimator-table table td {\n",
              "    border: 1px solid rgba(106, 105, 104, 0.232);\n",
              "}\n",
              "\n",
              ".user-set td {\n",
              "    color:rgb(255, 94, 0);\n",
              "    text-align: left;\n",
              "}\n",
              "\n",
              ".user-set td.value pre {\n",
              "    color:rgb(255, 94, 0) !important;\n",
              "    background-color: transparent !important;\n",
              "}\n",
              "\n",
              ".default td {\n",
              "    color: black;\n",
              "    text-align: left;\n",
              "}\n",
              "\n",
              ".user-set td i,\n",
              ".default td i {\n",
              "    color: black;\n",
              "}\n",
              "\n",
              ".copy-paste-icon {\n",
              "    background-image: url(data:image/svg+xml;base64,PHN2ZyB4bWxucz0iaHR0cDovL3d3dy53My5vcmcvMjAwMC9zdmciIHZpZXdCb3g9IjAgMCA0NDggNTEyIj48IS0tIUZvbnQgQXdlc29tZSBGcmVlIDYuNy4yIGJ5IEBmb250YXdlc29tZSAtIGh0dHBzOi8vZm9udGF3ZXNvbWUuY29tIExpY2Vuc2UgLSBodHRwczovL2ZvbnRhd2Vzb21lLmNvbS9saWNlbnNlL2ZyZWUgQ29weXJpZ2h0IDIwMjUgRm9udGljb25zLCBJbmMuLS0+PHBhdGggZD0iTTIwOCAwTDMzMi4xIDBjMTIuNyAwIDI0LjkgNS4xIDMzLjkgMTQuMWw2Ny45IDY3LjljOSA5IDE0LjEgMjEuMiAxNC4xIDMzLjlMNDQ4IDMzNmMwIDI2LjUtMjEuNSA0OC00OCA0OGwtMTkyIDBjLTI2LjUgMC00OC0yMS41LTQ4LTQ4bDAtMjg4YzAtMjYuNSAyMS41LTQ4IDQ4LTQ4ek00OCAxMjhsODAgMCAwIDY0LTY0IDAgMCAyNTYgMTkyIDAgMC0zMiA2NCAwIDAgNDhjMCAyNi41LTIxLjUgNDgtNDggNDhMNDggNTEyYy0yNi41IDAtNDgtMjEuNS00OC00OEwwIDE3NmMwLTI2LjUgMjEuNS00OCA0OC00OHoiLz48L3N2Zz4=);\n",
              "    background-repeat: no-repeat;\n",
              "    background-size: 14px 14px;\n",
              "    background-position: 0;\n",
              "    display: inline-block;\n",
              "    width: 14px;\n",
              "    height: 14px;\n",
              "    cursor: pointer;\n",
              "}\n",
              "</style><body><div id=\"sk-container-id-2\" class=\"sk-top-container\"><div class=\"sk-text-repr-fallback\"><pre>LinearRegression()</pre><b>In a Jupyter environment, please rerun this cell to show the HTML representation or trust the notebook. <br />On GitHub, the HTML representation is unable to render, please try loading this page with nbviewer.org.</b></div><div class=\"sk-container\" hidden><div class=\"sk-item\"><div class=\"sk-estimator fitted sk-toggleable\"><input class=\"sk-toggleable__control sk-hidden--visually\" id=\"sk-estimator-id-2\" type=\"checkbox\" checked><label for=\"sk-estimator-id-2\" class=\"sk-toggleable__label fitted sk-toggleable__label-arrow\"><div><div>LinearRegression</div></div><div><a class=\"sk-estimator-doc-link fitted\" rel=\"noreferrer\" target=\"_blank\" href=\"https://scikit-learn.org/1.7/modules/generated/sklearn.linear_model.LinearRegression.html\">?<span>Documentation for LinearRegression</span></a><span class=\"sk-estimator-doc-link fitted\">i<span>Fitted</span></span></div></label><div class=\"sk-toggleable__content fitted\" data-param-prefix=\"\">\n",
              "        <div class=\"estimator-table\">\n",
              "            <details>\n",
              "                <summary>Parameters</summary>\n",
              "                <table class=\"parameters-table\">\n",
              "                  <tbody>\n",
              "                    \n",
              "        <tr class=\"default\">\n",
              "            <td><i class=\"copy-paste-icon\"\n",
              "                 onclick=\"copyToClipboard('fit_intercept',\n",
              "                          this.parentElement.nextElementSibling)\"\n",
              "            ></i></td>\n",
              "            <td class=\"param\">fit_intercept&nbsp;</td>\n",
              "            <td class=\"value\">True</td>\n",
              "        </tr>\n",
              "    \n",
              "\n",
              "        <tr class=\"default\">\n",
              "            <td><i class=\"copy-paste-icon\"\n",
              "                 onclick=\"copyToClipboard('copy_X',\n",
              "                          this.parentElement.nextElementSibling)\"\n",
              "            ></i></td>\n",
              "            <td class=\"param\">copy_X&nbsp;</td>\n",
              "            <td class=\"value\">True</td>\n",
              "        </tr>\n",
              "    \n",
              "\n",
              "        <tr class=\"default\">\n",
              "            <td><i class=\"copy-paste-icon\"\n",
              "                 onclick=\"copyToClipboard('tol',\n",
              "                          this.parentElement.nextElementSibling)\"\n",
              "            ></i></td>\n",
              "            <td class=\"param\">tol&nbsp;</td>\n",
              "            <td class=\"value\">1e-06</td>\n",
              "        </tr>\n",
              "    \n",
              "\n",
              "        <tr class=\"default\">\n",
              "            <td><i class=\"copy-paste-icon\"\n",
              "                 onclick=\"copyToClipboard('n_jobs',\n",
              "                          this.parentElement.nextElementSibling)\"\n",
              "            ></i></td>\n",
              "            <td class=\"param\">n_jobs&nbsp;</td>\n",
              "            <td class=\"value\">None</td>\n",
              "        </tr>\n",
              "    \n",
              "\n",
              "        <tr class=\"default\">\n",
              "            <td><i class=\"copy-paste-icon\"\n",
              "                 onclick=\"copyToClipboard('positive',\n",
              "                          this.parentElement.nextElementSibling)\"\n",
              "            ></i></td>\n",
              "            <td class=\"param\">positive&nbsp;</td>\n",
              "            <td class=\"value\">False</td>\n",
              "        </tr>\n",
              "    \n",
              "                  </tbody>\n",
              "                </table>\n",
              "            </details>\n",
              "        </div>\n",
              "    </div></div></div></div></div><script>function copyToClipboard(text, element) {\n",
              "    // Get the parameter prefix from the closest toggleable content\n",
              "    const toggleableContent = element.closest('.sk-toggleable__content');\n",
              "    const paramPrefix = toggleableContent ? toggleableContent.dataset.paramPrefix : '';\n",
              "    const fullParamName = paramPrefix ? `${paramPrefix}${text}` : text;\n",
              "\n",
              "    const originalStyle = element.style;\n",
              "    const computedStyle = window.getComputedStyle(element);\n",
              "    const originalWidth = computedStyle.width;\n",
              "    const originalHTML = element.innerHTML.replace('Copied!', '');\n",
              "\n",
              "    navigator.clipboard.writeText(fullParamName)\n",
              "        .then(() => {\n",
              "            element.style.width = originalWidth;\n",
              "            element.style.color = 'green';\n",
              "            element.innerHTML = \"Copied!\";\n",
              "\n",
              "            setTimeout(() => {\n",
              "                element.innerHTML = originalHTML;\n",
              "                element.style = originalStyle;\n",
              "            }, 2000);\n",
              "        })\n",
              "        .catch(err => {\n",
              "            console.error('Failed to copy:', err);\n",
              "            element.style.color = 'red';\n",
              "            element.innerHTML = \"Failed!\";\n",
              "            setTimeout(() => {\n",
              "                element.innerHTML = originalHTML;\n",
              "                element.style = originalStyle;\n",
              "            }, 2000);\n",
              "        });\n",
              "    return false;\n",
              "}\n",
              "\n",
              "document.querySelectorAll('.fa-regular.fa-copy').forEach(function(element) {\n",
              "    const toggleableContent = element.closest('.sk-toggleable__content');\n",
              "    const paramPrefix = toggleableContent ? toggleableContent.dataset.paramPrefix : '';\n",
              "    const paramName = element.parentElement.nextElementSibling.textContent.trim();\n",
              "    const fullParamName = paramPrefix ? `${paramPrefix}${paramName}` : paramName;\n",
              "\n",
              "    element.setAttribute('title', fullParamName);\n",
              "});\n",
              "</script></body>"
            ],
            "text/plain": [
              "LinearRegression()"
            ]
          },
          "execution_count": 93,
          "metadata": {},
          "output_type": "execute_result"
        }
      ],
      "source": [
        "# Fit the model on training set\n",
        "model = LinearRegression()\n",
        "model.fit(X_train, y_train) # training the algorithm"
      ]
    },
    {
      "cell_type": "code",
      "execution_count": 94,
      "metadata": {
        "colab": {
          "base_uri": "https://localhost:8080/"
        },
        "id": "obLxnn5ss145",
        "outputId": "556d1cfd-1ee1-4f8e-a9cf-8c44478ef3b4"
      },
      "outputs": [
        {
          "name": "stdout",
          "output_type": "stream",
          "text": [
            "Intercept: [39.97505997]\n",
            "Slope: [[ 0.07631543 -0.10728077  0.03096533]]\n",
            "\n",
            "The fitted model is y= 0.08 * x + 39.98\n"
          ]
        }
      ],
      "source": [
        "# Get coefficients\n",
        "print('Intercept:', model.intercept_)\n",
        "print('Slope:', model.coef_)\n",
        "print('\\nThe fitted model is y=', round(model.coef_[0][0], 2), '* x +', round(model.intercept_[0], 2))"
      ]
    },
    {
      "cell_type": "code",
      "execution_count": 95,
      "metadata": {
        "colab": {
          "base_uri": "https://localhost:8080/",
          "height": 423
        },
        "id": "Td3iNoCIs3q6",
        "outputId": "04fa27c0-bfc5-45a3-e9de-c6a52a339732"
      },
      "outputs": [
        {
          "data": {
            "text/html": [
              "<div>\n",
              "<style scoped>\n",
              "    .dataframe tbody tr th:only-of-type {\n",
              "        vertical-align: middle;\n",
              "    }\n",
              "\n",
              "    .dataframe tbody tr th {\n",
              "        vertical-align: top;\n",
              "    }\n",
              "\n",
              "    .dataframe thead th {\n",
              "        text-align: right;\n",
              "    }\n",
              "</style>\n",
              "<table border=\"1\" class=\"dataframe\">\n",
              "  <thead>\n",
              "    <tr style=\"text-align: right;\">\n",
              "      <th></th>\n",
              "      <th>True</th>\n",
              "      <th>Predicted</th>\n",
              "    </tr>\n",
              "  </thead>\n",
              "  <tbody>\n",
              "    <tr>\n",
              "      <th>0</th>\n",
              "      <td>51</td>\n",
              "      <td>40.051375</td>\n",
              "    </tr>\n",
              "    <tr>\n",
              "      <th>1</th>\n",
              "      <td>31</td>\n",
              "      <td>40.051375</td>\n",
              "    </tr>\n",
              "    <tr>\n",
              "      <th>2</th>\n",
              "      <td>33</td>\n",
              "      <td>40.051375</td>\n",
              "    </tr>\n",
              "    <tr>\n",
              "      <th>3</th>\n",
              "      <td>29</td>\n",
              "      <td>40.051375</td>\n",
              "    </tr>\n",
              "    <tr>\n",
              "      <th>4</th>\n",
              "      <td>57</td>\n",
              "      <td>40.051375</td>\n",
              "    </tr>\n",
              "    <tr>\n",
              "      <th>...</th>\n",
              "      <td>...</td>\n",
              "      <td>...</td>\n",
              "    </tr>\n",
              "    <tr>\n",
              "      <th>8233</th>\n",
              "      <td>47</td>\n",
              "      <td>40.051375</td>\n",
              "    </tr>\n",
              "    <tr>\n",
              "      <th>8234</th>\n",
              "      <td>38</td>\n",
              "      <td>40.051375</td>\n",
              "    </tr>\n",
              "    <tr>\n",
              "      <th>8235</th>\n",
              "      <td>57</td>\n",
              "      <td>40.051375</td>\n",
              "    </tr>\n",
              "    <tr>\n",
              "      <th>8236</th>\n",
              "      <td>31</td>\n",
              "      <td>39.867779</td>\n",
              "    </tr>\n",
              "    <tr>\n",
              "      <th>8237</th>\n",
              "      <td>40</td>\n",
              "      <td>40.051375</td>\n",
              "    </tr>\n",
              "  </tbody>\n",
              "</table>\n",
              "<p>8238 rows × 2 columns</p>\n",
              "</div>"
            ],
            "text/plain": [
              "      True  Predicted\n",
              "0       51  40.051375\n",
              "1       31  40.051375\n",
              "2       33  40.051375\n",
              "3       29  40.051375\n",
              "4       57  40.051375\n",
              "...    ...        ...\n",
              "8233    47  40.051375\n",
              "8234    38  40.051375\n",
              "8235    57  40.051375\n",
              "8236    31  39.867779\n",
              "8237    40  40.051375\n",
              "\n",
              "[8238 rows x 2 columns]"
            ]
          },
          "execution_count": 95,
          "metadata": {},
          "output_type": "execute_result"
        }
      ],
      "source": [
        "# Get fitted value on test set\n",
        "y_test_predicted = model.predict(X_test)\n",
        "\n",
        "# Compare predictions\n",
        "pd.DataFrame({'True': y_test.flatten(), 'Predicted': y_test_predicted.flatten()}) # .flatten --> collapses an array into one dimension"
      ]
    },
    {
      "cell_type": "code",
      "execution_count": 96,
      "metadata": {
        "colab": {
          "base_uri": "https://localhost:8080/",
          "height": 430
        },
        "id": "AfFPjVKws5Vy",
        "outputId": "ceb25585-7a20-4597-eec5-37edb0c69bab"
      },
      "outputs": [
        {
          "data": {
            "image/png": "[encoded data removed]",
            "text/plain": [
              "<Figure size 640x480 with 1 Axes>"
            ]
          },
          "metadata": {},
          "output_type": "display_data"
        }
      ],
      "source": [
        "# Plot model\n",
        "x_plot = X_test[:, viz_idx].ravel()\n",
        "y_true = y_test.ravel()\n",
        "y_pred_flat = y_test_predicted.ravel()\n",
        "order = np.argsort(x_plot)\n",
        "plt.scatter(x_plot, y_true, color='gray')\n",
        "plt.plot(x_plot[order], y_pred_flat[order], color='red', linewidth=2)\n",
        "plt.show()"
      ]
    },
    {
      "cell_type": "code",
      "execution_count": 97,
      "metadata": {
        "colab": {
          "base_uri": "https://localhost:8080/",
          "height": 430
        },
        "id": "kDOnEG5ss7AK",
        "outputId": "46135a87-de12-4992-fc68-8d775f940197"
      },
      "outputs": [
        {
          "data": {
            "image/png": "[encoded data removed]",
            "text/plain": [
              "<Figure size 640x480 with 1 Axes>"
            ]
          },
          "metadata": {},
          "output_type": "display_data"
        }
      ],
      "source": [
        "# Plot some predicted vs true values\n",
        "points_to_plot=30\n",
        "x_subset = X_test[:points_to_plot, viz_idx]\n",
        "plt.scatter(x_subset, y_test[:points_to_plot],  color='blue', marker='o', facecolors='none', label='true value')\n",
        "plt.scatter(x_subset, y_test_predicted[:points_to_plot],  color='red', marker='x', label='predicted')\n",
        "plt.legend()\n",
        "plt.show()"
      ]
    },
    {
      "cell_type": "code",
      "execution_count": 98,
      "metadata": {
        "colab": {
          "base_uri": "https://localhost:8080/"
        },
        "id": "hpsIQj2fs_8c",
        "outputId": "15dc6aff-171f-4254-91d8-6f3dd274b3d7"
      },
      "outputs": [
        {
          "name": "stdout",
          "output_type": "stream",
          "text": [
            "Root Mean Squared Error on test set: 10.438477269807082\n",
            "Mean of y_test: 39.95957756737072\n"
          ]
        }
      ],
      "source": [
        "# Evaluate Root Mean Square Error (RMSE)\n",
        "RMSE_test = np.sqrt(metrics.mean_squared_error(y_test, y_test_predicted))\n",
        "print('Root Mean Squared Error on test set:', RMSE_test)\n",
        "print('Mean of y_test:', y_test.mean())"
      ]
    },
    {
      "cell_type": "code",
      "execution_count": 99,
      "metadata": {
        "id": "tNtxbz2JtBMa"
      },
      "outputs": [
        {
          "name": "stdout",
          "output_type": "stream",
          "text": [
            "R-squared: 1.8648734756432361e-07\n"
          ]
        }
      ],
      "source": [
        "# Evaluate R-squared\n",
        "R2 = metrics.r2_score(y_test, y_test_predicted)\n",
        "print('R-squared:', R2)\n"
      ]
    },
    {
      "cell_type": "markdown",
      "metadata": {
        "id": "IfvhCrXW1aIa"
      },
      "source": [
        "**Linear regression for forecasting**\n",
        "\n",
        "---\n",
        "\n",
        "In this next section, we aim to train a linear model that will predict the Close price of the Bitcoin cryptocurrency."
      ]
    },
    {
      "cell_type": "code",
      "execution_count": 100,
      "metadata": {
        "colab": {
          "base_uri": "https://localhost:8080/",
          "height": 73
        },
        "id": "uSf9gqHJ1Z6K",
        "outputId": "cbe1a3a4-3a11-4110-9e0f-4eb1ba3c03f4"
      },
      "outputs": [
        {
          "name": "stdout",
          "output_type": "stream",
          "text": [
            "Fetching data_BTC.csv from GitHub...\n"
          ]
        }
      ],
      "source": [
        "# Let's import the dataset including Bitcoin prices\n",
        "btc_url = \"https://raw.githubusercontent.com/umatter/EDFB/main/data/data_BTC.csv\"\n",
        "print(\"Fetching data_BTC.csv from GitHub...\")"
      ]
    },
    {
      "cell_type": "code",
      "execution_count": 101,
      "metadata": {
        "id": "KlJGkuC932nG"
      },
      "outputs": [
        {
          "name": "stdout",
          "output_type": "stream",
          "text": [
            "Falling back to KaggleHub dataset nguynchtrai/data-btc due to: <HTTPError 404: 'Not Found'>\n"
          ]
        },
        {
          "name": "stderr",
          "output_type": "stream",
          "text": [
            "\u001b[33mWARNING: There was an error checking the latest version of pip.\u001b[0m\u001b[33m\n",
            "\u001b[0m/home/umatter/.pyenv/versions/3.11.7/lib/python3.11/site-packages/tqdm/auto.py:21: TqdmWarning: IProgress not found. Please update jupyter and ipywidgets. See https://ipywidgets.readthedocs.io/en/stable/user_install.html\n",
            "  from .autonotebook import tqdm as notebook_tqdm\n"
          ]
        },
        {
          "name": "stdout",
          "output_type": "stream",
          "text": [
            "Downloading from https://www.kaggle.com/api/v1/datasets/download/nguynchtrai/data-btc?dataset_version_number=1...\n"
          ]
        },
        {
          "name": "stderr",
          "output_type": "stream",
          "text": [
            "100%|██████████| 3.90M/3.90M [00:24<00:00, 167kB/s]"
          ]
        },
        {
          "name": "stdout",
          "output_type": "stream",
          "text": [
            "Extracting files...\n",
            "Loaded from: /home/umatter/.cache/kagglehub/datasets/nguynchtrai/data-btc/versions/1/BTC_USDT_data_1.csv\n"
          ]
        },
        {
          "name": "stderr",
          "output_type": "stream",
          "text": [
            "\n"
          ]
        }
      ],
      "source": [
        "try:\n",
        "    data = pd.read_csv(btc_url)\n",
        "except Exception as e:\n",
        "    print(\"Falling back to KaggleHub dataset nguynchtrai/data-btc due to:\", repr(e))\n",
        "    try:\n",
        "        import kagglehub\n",
        "    except Exception:\n",
        "        import sys, subprocess\n",
        "        subprocess.check_call([sys.executable, \"-m\", \"pip\", \"install\", \"-q\", \"kagglehub\"])  # install if missing\n",
        "        import kagglehub\n",
        "    path = kagglehub.dataset_download(\"nguynchtrai/data-btc\")\n",
        "    import os, glob\n",
        "    candidates = sorted(glob.glob(os.path.join(path, \"*.csv\")))\n",
        "    if not candidates:\n",
        "        raise RuntimeError(\"No CSV files found in Kaggle dataset directory: \" + path)\n",
        "    print(\"Loaded from:\", candidates[0])\n",
        "    data = pd.read_csv(candidates[0])"
      ]
    },
    {
      "cell_type": "code",
      "execution_count": 102,
      "metadata": {
        "colab": {
          "base_uri": "https://localhost:8080/",
          "height": 206
        },
        "id": "WBkRo2zG5rBI",
        "outputId": "90af5372-f62f-4c99-f8a0-c04720b41ab0"
      },
      "outputs": [
        {
          "data": {
            "text/html": [
              "<div>\n",
              "<style scoped>\n",
              "    .dataframe tbody tr th:only-of-type {\n",
              "        vertical-align: middle;\n",
              "    }\n",
              "\n",
              "    .dataframe tbody tr th {\n",
              "        vertical-align: top;\n",
              "    }\n",
              "\n",
              "    .dataframe thead th {\n",
              "        text-align: right;\n",
              "    }\n",
              "</style>\n",
              "<table border=\"1\" class=\"dataframe\">\n",
              "  <thead>\n",
              "    <tr style=\"text-align: right;\">\n",
              "      <th></th>\n",
              "      <th>Timestamp</th>\n",
              "      <th>Open</th>\n",
              "      <th>High</th>\n",
              "      <th>Low</th>\n",
              "      <th>Close</th>\n",
              "      <th>Volume</th>\n",
              "    </tr>\n",
              "  </thead>\n",
              "  <tbody>\n",
              "    <tr>\n",
              "      <th>0</th>\n",
              "      <td>1552611600000</td>\n",
              "      <td>3884.75</td>\n",
              "      <td>3893.86</td>\n",
              "      <td>3881.37</td>\n",
              "      <td>3890.42</td>\n",
              "      <td>795.061454</td>\n",
              "    </tr>\n",
              "    <tr>\n",
              "      <th>1</th>\n",
              "      <td>1552615200000</td>\n",
              "      <td>3889.67</td>\n",
              "      <td>3892.00</td>\n",
              "      <td>3885.90</td>\n",
              "      <td>3887.31</td>\n",
              "      <td>541.767119</td>\n",
              "    </tr>\n",
              "    <tr>\n",
              "      <th>2</th>\n",
              "      <td>1552618800000</td>\n",
              "      <td>3886.82</td>\n",
              "      <td>3888.17</td>\n",
              "      <td>3877.60</td>\n",
              "      <td>3882.90</td>\n",
              "      <td>591.283229</td>\n",
              "    </tr>\n",
              "    <tr>\n",
              "      <th>3</th>\n",
              "      <td>1552622400000</td>\n",
              "      <td>3882.88</td>\n",
              "      <td>3889.00</td>\n",
              "      <td>3881.36</td>\n",
              "      <td>3887.00</td>\n",
              "      <td>619.588434</td>\n",
              "    </tr>\n",
              "    <tr>\n",
              "      <th>4</th>\n",
              "      <td>1552626000000</td>\n",
              "      <td>3887.64</td>\n",
              "      <td>3892.00</td>\n",
              "      <td>3887.00</td>\n",
              "      <td>3890.85</td>\n",
              "      <td>726.280333</td>\n",
              "    </tr>\n",
              "  </tbody>\n",
              "</table>\n",
              "</div>"
            ],
            "text/plain": [
              "       Timestamp     Open     High      Low    Close      Volume\n",
              "0  1552611600000  3884.75  3893.86  3881.37  3890.42  795.061454\n",
              "1  1552615200000  3889.67  3892.00  3885.90  3887.31  541.767119\n",
              "2  1552618800000  3886.82  3888.17  3877.60  3882.90  591.283229\n",
              "3  1552622400000  3882.88  3889.00  3881.36  3887.00  619.588434\n",
              "4  1552626000000  3887.64  3892.00  3887.00  3890.85  726.280333"
            ]
          },
          "execution_count": 102,
          "metadata": {},
          "output_type": "execute_result"
        }
      ],
      "source": [
        "# Let's check if we imported correctly\n",
        "data.head()"
      ]
    },
    {
      "cell_type": "code",
      "execution_count": 103,
      "metadata": {
        "colab": {
          "base_uri": "https://localhost:8080/",
          "height": 300
        },
        "id": "nOLx76_-5TYh",
        "outputId": "4e568772-d242-47a0-8149-81d16f58880e"
      },
      "outputs": [
        {
          "data": {
            "text/html": [
              "<div>\n",
              "<style scoped>\n",
              "    .dataframe tbody tr th:only-of-type {\n",
              "        vertical-align: middle;\n",
              "    }\n",
              "\n",
              "    .dataframe tbody tr th {\n",
              "        vertical-align: top;\n",
              "    }\n",
              "\n",
              "    .dataframe thead th {\n",
              "        text-align: right;\n",
              "    }\n",
              "</style>\n",
              "<table border=\"1\" class=\"dataframe\">\n",
              "  <thead>\n",
              "    <tr style=\"text-align: right;\">\n",
              "      <th></th>\n",
              "      <th>Timestamp</th>\n",
              "      <th>Open</th>\n",
              "      <th>High</th>\n",
              "      <th>Low</th>\n",
              "      <th>Close</th>\n",
              "      <th>Volume</th>\n",
              "    </tr>\n",
              "  </thead>\n",
              "  <tbody>\n",
              "    <tr>\n",
              "      <th>count</th>\n",
              "      <td>4.400000e+04</td>\n",
              "      <td>44000.000000</td>\n",
              "      <td>44000.000000</td>\n",
              "      <td>44000.000000</td>\n",
              "      <td>44000.000000</td>\n",
              "      <td>44000.000000</td>\n",
              "    </tr>\n",
              "    <tr>\n",
              "      <th>mean</th>\n",
              "      <td>1.632199e+12</td>\n",
              "      <td>26769.369488</td>\n",
              "      <td>26898.734263</td>\n",
              "      <td>26632.757460</td>\n",
              "      <td>26770.763707</td>\n",
              "      <td>3593.672887</td>\n",
              "    </tr>\n",
              "    <tr>\n",
              "      <th>std</th>\n",
              "      <td>4.595319e+10</td>\n",
              "      <td>16697.320449</td>\n",
              "      <td>16787.096219</td>\n",
              "      <td>16602.320109</td>\n",
              "      <td>16698.146863</td>\n",
              "      <td>4709.856405</td>\n",
              "    </tr>\n",
              "    <tr>\n",
              "      <th>min</th>\n",
              "      <td>1.552612e+12</td>\n",
              "      <td>3879.970000</td>\n",
              "      <td>3888.170000</td>\n",
              "      <td>3782.130000</td>\n",
              "      <td>3879.850000</td>\n",
              "      <td>0.000000</td>\n",
              "    </tr>\n",
              "    <tr>\n",
              "      <th>25%</th>\n",
              "      <td>1.592404e+12</td>\n",
              "      <td>10373.450000</td>\n",
              "      <td>10417.615000</td>\n",
              "      <td>10329.647500</td>\n",
              "      <td>10373.492500</td>\n",
              "      <td>1170.493952</td>\n",
              "    </tr>\n",
              "    <tr>\n",
              "      <th>50%</th>\n",
              "      <td>1.632204e+12</td>\n",
              "      <td>24529.545000</td>\n",
              "      <td>24627.560000</td>\n",
              "      <td>24416.290000</td>\n",
              "      <td>24533.780000</td>\n",
              "      <td>2027.721827</td>\n",
              "    </tr>\n",
              "    <tr>\n",
              "      <th>75%</th>\n",
              "      <td>1.671989e+12</td>\n",
              "      <td>39504.120000</td>\n",
              "      <td>39736.365000</td>\n",
              "      <td>39291.232500</td>\n",
              "      <td>39505.282500</td>\n",
              "      <td>4000.920433</td>\n",
              "    </tr>\n",
              "    <tr>\n",
              "      <th>max</th>\n",
              "      <td>1.711782e+12</td>\n",
              "      <td>73577.350000</td>\n",
              "      <td>73777.000000</td>\n",
              "      <td>73215.140000</td>\n",
              "      <td>73577.350000</td>\n",
              "      <td>137207.188600</td>\n",
              "    </tr>\n",
              "  </tbody>\n",
              "</table>\n",
              "</div>"
            ],
            "text/plain": [
              "          Timestamp          Open          High           Low         Close  \\\n",
              "count  4.400000e+04  44000.000000  44000.000000  44000.000000  44000.000000   \n",
              "mean   1.632199e+12  26769.369488  26898.734263  26632.757460  26770.763707   \n",
              "std    4.595319e+10  16697.320449  16787.096219  16602.320109  16698.146863   \n",
              "min    1.552612e+12   3879.970000   3888.170000   3782.130000   3879.850000   \n",
              "25%    1.592404e+12  10373.450000  10417.615000  10329.647500  10373.492500   \n",
              "50%    1.632204e+12  24529.545000  24627.560000  24416.290000  24533.780000   \n",
              "75%    1.671989e+12  39504.120000  39736.365000  39291.232500  39505.282500   \n",
              "max    1.711782e+12  73577.350000  73777.000000  73215.140000  73577.350000   \n",
              "\n",
              "              Volume  \n",
              "count   44000.000000  \n",
              "mean     3593.672887  \n",
              "std      4709.856405  \n",
              "min         0.000000  \n",
              "25%      1170.493952  \n",
              "50%      2027.721827  \n",
              "75%      4000.920433  \n",
              "max    137207.188600  "
            ]
          },
          "execution_count": 103,
          "metadata": {},
          "output_type": "execute_result"
        }
      ],
      "source": [
        "# Let's get some summary stats on the prices\n",
        "data.describe()"
      ]
    },
    {
      "cell_type": "code",
      "execution_count": 104,
      "metadata": {
        "colab": {
          "base_uri": "https://localhost:8080/",
          "height": 581
        },
        "id": "M1MqMZtM3_nC",
        "outputId": "0b761272-81cf-4a2d-f67e-9abf76147874"
      },
      "outputs": [
        {
          "ename": "KeyError",
          "evalue": "'Date'",
          "output_type": "error",
          "traceback": [
            "\u001b[31m---------------------------------------------------------------------------\u001b[39m",
            "\u001b[31mKeyError\u001b[39m                                  Traceback (most recent call last)",
            "\u001b[36mFile \u001b[39m\u001b[32m~/.pyenv/versions/3.11.7/lib/python3.11/site-packages/pandas/core/indexes/base.py:3805\u001b[39m, in \u001b[36mIndex.get_loc\u001b[39m\u001b[34m(self, key)\u001b[39m\n\u001b[32m   3804\u001b[39m \u001b[38;5;28;01mtry\u001b[39;00m:\n\u001b[32m-> \u001b[39m\u001b[32m3805\u001b[39m     \u001b[38;5;28;01mreturn\u001b[39;00m \u001b[38;5;28;43mself\u001b[39;49m\u001b[43m.\u001b[49m\u001b[43m_engine\u001b[49m\u001b[43m.\u001b[49m\u001b[43mget_loc\u001b[49m\u001b[43m(\u001b[49m\u001b[43mcasted_key\u001b[49m\u001b[43m)\u001b[49m\n\u001b[32m   3806\u001b[39m \u001b[38;5;28;01mexcept\u001b[39;00m \u001b[38;5;167;01mKeyError\u001b[39;00m \u001b[38;5;28;01mas\u001b[39;00m err:\n",
            "\u001b[36mFile \u001b[39m\u001b[32mindex.pyx:167\u001b[39m, in \u001b[36mpandas._libs.index.IndexEngine.get_loc\u001b[39m\u001b[34m()\u001b[39m\n",
            "\u001b[36mFile \u001b[39m\u001b[32mindex.pyx:196\u001b[39m, in \u001b[36mpandas._libs.index.IndexEngine.get_loc\u001b[39m\u001b[34m()\u001b[39m\n",
            "\u001b[36mFile \u001b[39m\u001b[32mpandas/_libs/hashtable_class_helper.pxi:7081\u001b[39m, in \u001b[36mpandas._libs.hashtable.PyObjectHashTable.get_item\u001b[39m\u001b[34m()\u001b[39m\n",
            "\u001b[36mFile \u001b[39m\u001b[32mpandas/_libs/hashtable_class_helper.pxi:7089\u001b[39m, in \u001b[36mpandas._libs.hashtable.PyObjectHashTable.get_item\u001b[39m\u001b[34m()\u001b[39m\n",
            "\u001b[31mKeyError\u001b[39m: 'Date'",
            "\nThe above exception was the direct cause of the following exception:\n",
            "\u001b[31mKeyError\u001b[39m                                  Traceback (most recent call last)",
            "\u001b[36mCell\u001b[39m\u001b[36m \u001b[39m\u001b[32mIn[104]\u001b[39m\u001b[32m, line 3\u001b[39m\n\u001b[32m      1\u001b[39m \u001b[38;5;66;03m# Let's plot the movement of the BTC Close Price\u001b[39;00m\n\u001b[32m      2\u001b[39m plt.figure(figsize=(\u001b[32m12\u001b[39m, \u001b[32m6\u001b[39m))\n\u001b[32m----> \u001b[39m\u001b[32m3\u001b[39m plt.plot(\u001b[43mdata\u001b[49m\u001b[43m[\u001b[49m\u001b[33;43m'\u001b[39;49m\u001b[33;43mDate\u001b[39;49m\u001b[33;43m'\u001b[39;49m\u001b[43m]\u001b[49m, data[\u001b[33m'\u001b[39m\u001b[33mBTC-USD.Close\u001b[39m\u001b[33m'\u001b[39m], label=\u001b[33m'\u001b[39m\u001b[33mBitcoin Price\u001b[39m\u001b[33m'\u001b[39m, color=\u001b[33m'\u001b[39m\u001b[33mblue\u001b[39m\u001b[33m'\u001b[39m)\n\u001b[32m      4\u001b[39m plt.xlabel(\u001b[33m'\u001b[39m\u001b[33mDate\u001b[39m\u001b[33m'\u001b[39m)\n\u001b[32m      5\u001b[39m plt.ylabel(\u001b[33m'\u001b[39m\u001b[33mPrice (USD)\u001b[39m\u001b[33m'\u001b[39m)\n",
            "\u001b[36mFile \u001b[39m\u001b[32m~/.pyenv/versions/3.11.7/lib/python3.11/site-packages/pandas/core/frame.py:4102\u001b[39m, in \u001b[36mDataFrame.__getitem__\u001b[39m\u001b[34m(self, key)\u001b[39m\n\u001b[32m   4100\u001b[39m \u001b[38;5;28;01mif\u001b[39;00m \u001b[38;5;28mself\u001b[39m.columns.nlevels > \u001b[32m1\u001b[39m:\n\u001b[32m   4101\u001b[39m     \u001b[38;5;28;01mreturn\u001b[39;00m \u001b[38;5;28mself\u001b[39m._getitem_multilevel(key)\n\u001b[32m-> \u001b[39m\u001b[32m4102\u001b[39m indexer = \u001b[38;5;28;43mself\u001b[39;49m\u001b[43m.\u001b[49m\u001b[43mcolumns\u001b[49m\u001b[43m.\u001b[49m\u001b[43mget_loc\u001b[49m\u001b[43m(\u001b[49m\u001b[43mkey\u001b[49m\u001b[43m)\u001b[49m\n\u001b[32m   4103\u001b[39m \u001b[38;5;28;01mif\u001b[39;00m is_integer(indexer):\n\u001b[32m   4104\u001b[39m     indexer = [indexer]\n",
            "\u001b[36mFile \u001b[39m\u001b[32m~/.pyenv/versions/3.11.7/lib/python3.11/site-packages/pandas/core/indexes/base.py:3812\u001b[39m, in \u001b[36mIndex.get_loc\u001b[39m\u001b[34m(self, key)\u001b[39m\n\u001b[32m   3807\u001b[39m     \u001b[38;5;28;01mif\u001b[39;00m \u001b[38;5;28misinstance\u001b[39m(casted_key, \u001b[38;5;28mslice\u001b[39m) \u001b[38;5;129;01mor\u001b[39;00m (\n\u001b[32m   3808\u001b[39m         \u001b[38;5;28misinstance\u001b[39m(casted_key, abc.Iterable)\n\u001b[32m   3809\u001b[39m         \u001b[38;5;129;01mand\u001b[39;00m \u001b[38;5;28many\u001b[39m(\u001b[38;5;28misinstance\u001b[39m(x, \u001b[38;5;28mslice\u001b[39m) \u001b[38;5;28;01mfor\u001b[39;00m x \u001b[38;5;129;01min\u001b[39;00m casted_key)\n\u001b[32m   3810\u001b[39m     ):\n\u001b[32m   3811\u001b[39m         \u001b[38;5;28;01mraise\u001b[39;00m InvalidIndexError(key)\n\u001b[32m-> \u001b[39m\u001b[32m3812\u001b[39m     \u001b[38;5;28;01mraise\u001b[39;00m \u001b[38;5;167;01mKeyError\u001b[39;00m(key) \u001b[38;5;28;01mfrom\u001b[39;00m\u001b[38;5;250m \u001b[39m\u001b[34;01merr\u001b[39;00m\n\u001b[32m   3813\u001b[39m \u001b[38;5;28;01mexcept\u001b[39;00m \u001b[38;5;167;01mTypeError\u001b[39;00m:\n\u001b[32m   3814\u001b[39m     \u001b[38;5;66;03m# If we have a listlike key, _check_indexing_error will raise\u001b[39;00m\n\u001b[32m   3815\u001b[39m     \u001b[38;5;66;03m#  InvalidIndexError. Otherwise we fall through and re-raise\u001b[39;00m\n\u001b[32m   3816\u001b[39m     \u001b[38;5;66;03m#  the TypeError.\u001b[39;00m\n\u001b[32m   3817\u001b[39m     \u001b[38;5;28mself\u001b[39m._check_indexing_error(key)\n",
            "\u001b[31mKeyError\u001b[39m: 'Date'"
          ]
        },
        {
          "data": {
            "text/plain": [
              "<Figure size 1200x600 with 0 Axes>"
            ]
          },
          "metadata": {},
          "output_type": "display_data"
        }
      ],
      "source": [
        "# Let's plot the movement of the BTC Close Price\n",
        "plt.figure(figsize=(12, 6))\n",
        "plt.plot(data['Date'], data['BTC-USD.Close'], label='Bitcoin Price', color='blue')\n",
        "plt.xlabel('Date')\n",
        "plt.ylabel('Price (USD)')\n",
        "plt.title('Bitcoin Price Over Time')\n",
        "plt.legend()\n"
      ]
    },
    {
      "cell_type": "code",
      "execution_count": null,
      "metadata": {
        "id": "a-nfbbDA5beC"
      },
      "outputs": [],
      "source": [
        "# We can use a linear model to forecast (predict) the close price of the Bitcoin at t+1 by using certain amount of lagged prices.\n",
        "# So let's create lag features. Specifically, we are defining a function to create the lag values.\n",
        "def create_lagged_features(data, lag):\n",
        "    for i in range(1, lag+1):\n",
        "        data[f'lag_{i}'] = data['BTC-USD.Close'].shift(i)\n",
        "    data.dropna(inplace=True)\n",
        "    return data"
      ]
    },
    {
      "cell_type": "code",
      "execution_count": null,
      "metadata": {
        "id": "Zr1pdQa06Atl"
      },
      "outputs": [],
      "source": [
        "# Create lag features with a lag of 20 days\n",
        "data = create_lagged_features(data, lag=20)"
      ]
    },
    {
      "cell_type": "code",
      "execution_count": null,
      "metadata": {
        "colab": {
          "base_uri": "https://localhost:8080/",
          "height": 273
        },
        "id": "Up2XZnR96CAx",
        "outputId": "75831f9c-c8b4-4e7f-c341-2c764bacc85a"
      },
      "outputs": [],
      "source": [
        "data.head()"
      ]
    },
    {
      "cell_type": "code",
      "execution_count": null,
      "metadata": {
        "id": "fjo5Knke6NdT"
      },
      "outputs": [],
      "source": [
        "# Split the data into training and testing sets. Remember: We never use the full dataset for training. We always split the data and use portion for training and portion for testing.\n",
        "X = data.drop(['Date','BTC-USD.Close'], axis=1)\n",
        "y = data['BTC-USD.Close']\n",
        "X_train, X_test, y_train, y_test = train_test_split(X, y, test_size=0.2, random_state=42)\n"
      ]
    },
    {
      "cell_type": "code",
      "execution_count": null,
      "metadata": {
        "colab": {
          "base_uri": "https://localhost:8080/"
        },
        "id": "tCul2VV_7H0F",
        "outputId": "c4a772e0-bb3b-472a-f8ec-ec41bad3e03d"
      },
      "outputs": [],
      "source": [
        "# Train a linear regression model\n",
        "model = sm.OLS(y_train, X_train).fit()\n",
        "\n",
        "# Print the summary, which includes coefficients and p-values\n",
        "print(model.summary())"
      ]
    },
    {
      "cell_type": "code",
      "execution_count": null,
      "metadata": {
        "colab": {
          "base_uri": "https://localhost:8080/"
        },
        "id": "VpJfYxE38ONw",
        "outputId": "7ac9e25b-2099-426d-f987-5c679b5ac9c7"
      },
      "outputs": [],
      "source": [
        "# Make predictions on the test set\n",
        "y_pred = model.predict(X_test)\n",
        "\n",
        "# Evaluate the model's performance\n",
        "from sklearn.metrics import mean_squared_error, r2_score\n",
        "\n",
        "# Calculate the mean squared error\n",
        "mse = mean_squared_error(y_test, y_pred)\n",
        "\n",
        "# Calculate Root Mean Squared Error (RMSE)\n",
        "rmse = np.sqrt(mse)\n",
        "\n",
        "# Calculate the r2\n",
        "r2 = r2_score(y_test, y_pred)\n",
        "\n",
        "print(f\"Root Mean Squared Error on Test Set: {rmse:.2f}\")\n",
        "print(f\"R-squared on Test Set: {r2:.2f}\")"
      ]
    },
    {
      "cell_type": "code",
      "execution_count": null,
      "metadata": {
        "id": "ZGxFlqqi9zea"
      },
      "outputs": [],
      "source": [
        "for true, predicted in zip(y_test, y_pred):\n",
        "    print(f\"True: {true:.2f}, Predicted: {predicted:.2f}\")"
      ]
    },
    {
      "cell_type": "code",
      "execution_count": null,
      "metadata": {
        "colab": {
          "base_uri": "https://localhost:8080/",
          "height": 430
        },
        "id": "MMQPLSCq9Ocz",
        "outputId": "752f3d8f-43da-4d27-ae85-d103dfa39577"
      },
      "outputs": [],
      "source": [
        "# Let's plot\n",
        "plt.scatter(X_test.iloc[:, 0], y_test,  color='blue', marker='o', facecolors='none', label='true value')\n",
        "plt.scatter(X_test.iloc[:, 0], y_pred,  color='red', marker='x', label='predicted')\n",
        "plt.legend()\n",
        "plt.show()"
      ]
    },
    {
      "cell_type": "markdown",
      "metadata": {
        "id": "lWEOq0_ytSOL"
      },
      "source": [
        "**Linear regression assumes the following:**\n",
        "\n",
        "---\n",
        "\n",
        "\n",
        "\n",
        "1. **linear relationship** between regressor(s) and target\n",
        "2. little or **no multicollinearity** between regressors\n",
        "3. **homoscedasticity**, i.e. the variance of the error terms (i.e. residuals) doesn't vary too much for all observations\n",
        "4. **normal distribution of error terms** (i.e. residuals)\n",
        "5. no correlation between regressors and residuals or little or **no autocorrelation in residuals** for time series, i.e. correlation between  𝑒𝑡  and  𝑒𝑡−1"
      ]
    },
    {
      "cell_type": "code",
      "execution_count": null,
      "metadata": {
        "id": "6Kx_i-VhtR4a"
      },
      "outputs": [],
      "source": [
        "# Checking Assumption 1 - linear relationship between regressors and target\n",
        "# Scatter plot of Y vs x (using selected visualization feature)\n",
        "\n",
        "plt.scatter(X_df[viz_col].values, y.ravel(), marker='o')\n",
        "plt.title('Loan (feature) vs Age (target)')\n",
        "plt.xlabel(viz_col)\n",
        "plt.ylabel('age')\n",
        "plt.show()"
      ]
    },
    {
      "cell_type": "markdown",
      "metadata": {
        "id": "86cVdBfGtWvr"
      },
      "source": [
        "*Checking Assumption 2 - little to no multicolinearity between regressors *\n",
        "\n",
        "There is only 1 regressor in a univeriate regression!"
      ]
    },
    {
      "cell_type": "code",
      "execution_count": null,
      "metadata": {
        "id": "ehPSzQQytR2i"
      },
      "outputs": [],
      "source": [
        "# Checking Assumption 3 - Homoscedasticity\n",
        "# Plot the residual and check their \"shape\"\n",
        "residuals_test = y_test - y_test_predicted\n",
        "plt.figure(figsize=(20,10))\n",
        "plt.scatter(np.arange(0,len(residuals_test)), residuals_test, marker='o', facecolors='none', color='black', alpha=0.5)\n",
        "plt.show()"
      ]
    },
    {
      "cell_type": "code",
      "execution_count": null,
      "metadata": {
        "id": "yxZPOXGgtYyq"
      },
      "outputs": [],
      "source": [
        "# Checking Assumption 4 - Normal distribution of residuals\n",
        "# Check if residual distribution looks like a normal distribution with same mean and variance\n",
        "\n",
        "resid_mean = residuals_test.mean()\n",
        "resid_std = residuals_test.std()\n",
        "normal_distr = np.random.normal(resid_mean, resid_std, len(residuals_test))\n",
        "\n",
        "fig, ax = plt.subplots(1, 3, sharex='col', sharey='row', figsize=(20,10))\n",
        "sns.distplot(residuals_test, ax=ax[0])\n",
        "ax[0].set_title('Residual distribution', fontsize=20)\n",
        "sns.distplot(normal_distr, ax=ax[1])\n",
        "ax[1].set_title('Normal distribution', fontsize=20)\n",
        "sns.distplot(residuals_test, label='residuals', ax=ax[2])\n",
        "sns.distplot(normal_distr, label='normal\\ndistribution', ax=ax[2])\n",
        "ax[2].legend(loc='center left', bbox_to_anchor=(1.0, 0.5), fontsize=20)\n",
        "plt.show()"
      ]
    },
    {
      "cell_type": "code",
      "execution_count": null,
      "metadata": {
        "id": "r3ct-4kdtbyP"
      },
      "outputs": [],
      "source": [
        "# Check QQ-plot, i.e. plotting the quantiles of residual against quantiles of normal distribution\n",
        "\n",
        "percentile_set = np.linspace(0,100,10000) # set percentile 1%, 2%, 3%, etc\n",
        "residual_percentile = np.percentile(residuals_test, percentile_set)\n",
        "normal_percentile = np.percentile(normal_distr, percentile_set)\n",
        "\n",
        "plt.scatter(normal_percentile, residual_percentile, marker='o', facecolor='none', color='blue')\n",
        "plt.ylabel('residual percentiles', fontsize=20)\n",
        "plt.xlabel('normal percentiles', fontsize=20)\n",
        "# plot bisector\n",
        "line = np.linspace(normal_percentile.min(), normal_percentile.max())\n",
        "plt.plot(line, line, color=\"black\", ls=\"dashed\")\n",
        "plt.show()"
      ]
    },
    {
      "cell_type": "code",
      "execution_count": null,
      "metadata": {
        "id": "3QNK5UGZtf_x"
      },
      "outputs": [],
      "source": [
        "# Checking Assumption 5 - Independence of residuals\n",
        "# Check correlation between residuals and regressors\n",
        "np.corrcoef(residuals_test.T, X_test.T)"
      ]
    }
  ],
  "metadata": {
    "colab": {
      "provenance": []
    },
    "kernelspec": {
      "display_name": "3.11.7",
      "language": "python",
      "name": "python3"
    },
    "language_info": {
      "codemirror_mode": {
        "name": "ipython",
        "version": 3
      },
      "file_extension": ".py",
      "mimetype": "text/x-python",
      "name": "python",
      "nbconvert_exporter": "python",
      "pygments_lexer": "ipython3",
      "version": "3.11.7"
    }
  },
  "nbformat": 4,
  "nbformat_minor": 0
}
