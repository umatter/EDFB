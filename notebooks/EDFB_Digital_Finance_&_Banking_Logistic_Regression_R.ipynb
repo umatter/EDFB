{
  "nbformat": 4,
  "nbformat_minor": 0,
  "metadata": {
    "kernelspec": {
      "name": "ir",
      "display_name": "R"
    },
    "language_info": {
      "name": "R",
      "version": "4.3"
    }
  },
  "cells": [
    {
      "cell_type": "markdown",
      "metadata": {},
      "source": [
        "# EDFB - Digital Finance & Banking - Logistic Regression (R version)\n",
        "\n",
        "---\n",
        "\n",
        "This notebook demonstrates how to train and evaluate a logistic regression classifier in R, using tidyverse and modern R best practices. The workflow and explanations closely follow the Python version, but use idiomatic R code and packages. The dataset used is `banking.csv` (same as in the Python notebook)."
      ]
    },
    {
      "cell_type": "code",
      "metadata": {},
      "source": [
        "# Load required libraries\n",
        "library(tidyverse)\n",
        "library(janitor)\n",
        "library(skimr)\n",
        "library(caret)\n",
        "library(recipes)\n",
        "library(ggplot2)\n",
        "library(forcats)\n",
        "library(pROC)\n",
        "library(broom)\n",
        "library(readr)\n",
        "library(knitr)\n",
        "library(kableExtra)\n",
        "theme_set(theme_minimal())"
      ]
    },
    {
      "cell_type": "markdown",
      "metadata": {},
      "source": [
        "## Data Import\n",
        "\n",
        "We assume the file `banking.csv` is available in the working directory. Let's read it in and take a first look."
      ]
    },
    {
      "cell_type": "code",
      "metadata": {},
      "source": [
        "banking <- read_csv('banking.csv') %>%\n",
        "  clean_names()"
      ]
    },
    {
      "cell_type": "code",
      "metadata": {},
      "source": [
        "# Quick overview\n",
        "glimpse(banking)\n",
        "skim(banking)"
      ]
    },
    {
      "cell_type": "markdown",
      "metadata": {},
      "source": [
        "## Data Structure\n",
        "\n",
        "Let's check the types of variables and identify which are categorical and which are numeric."
      ]
    },
    {
      "cell_type": "code",
      "metadata": {},
      "source": [
        "# Convert character columns to factors (categorical)\n",
        "banking <- banking %>%\n",
        "  mutate(across(where(is.character), as.factor))\n",
        "\n",
        "# Identify variable types\n",
        "num_vars <- banking %>% select(where(is.numeric)) %>% names()\n",
        "cat_vars <- banking %>% select(where(is.factor)) %>% names()\n",
        "cat_vars <- setdiff(cat_vars, 'y') # y is the target"
      ]
    },
    {
      "cell_type": "code",
      "metadata": {},
      "source": [
        "# Show variable types\n",
        "list(numeric = num_vars, categorical = cat_vars)"
      ]
    },
    {
      "cell_type": "markdown",
      "metadata": {},
      "source": [
        "## Missing Values\n",
        "\n",
        "Check for missing values in the dataset."
      ]
    },
    {
      "cell_type": "code",
      "metadata": {},
      "source": [
        "banking %>% summarise(across(everything(), ~sum(is.na(.))))"
      ]
    },
    {
      "cell_type": "markdown",
      "metadata": {},
      "source": [
        "## Descriptive Statistics\n",
        "\n",
        "Get summary statistics for the numeric variables."
      ]
    },
    {
      "cell_type": "code",
      "metadata": {},
      "source": [
        "banking %>%\n",
        "  select(all_of(num_vars)) %>%\n",
        "  summary()"
      ]
    },
    {
      "cell_type": "markdown",
      "metadata": {},
      "source": [
        "## Boxplots for Numeric Variables\n",
        "\n",
        "Visualize the distribution and dispersion of numeric variables using boxplots. We'll standardize the variables for better comparison."
      ]
    },
    {
      "cell_type": "code",
      "metadata": {},
      "source": [
        "banking %>%\n",
        "  select(all_of(num_vars)) %>%\n",
        "  scale() %>%\n",
        "  as_tibble() %>%\n",
        "  pivot_longer(everything(), names_to = 'variable', values_to = 'value') %>%\n",
        "  ggplot(aes(x = value, y = fct_rev(variable))) +\n",
        "  geom_boxplot(fill = 'skyblue', alpha = 0.7) +\n",
        "  labs(title = 'Standardized Boxplots of Numeric Variables', x = '', y = '')"
      ]
    },
    {
      "cell_type": "markdown",
      "metadata": {},
      "source": [
        "## Remove Variables Not Used for Modeling\n",
        "\n",
        "As in the Python notebook, we remove variables that are not used for modeling (e.g., duration, pdays, campaign, previous, age)."
      ]
    },
    {
      "cell_type": "code",
      "metadata": {},
      "source": [
        "banking <- banking %>%\n",
        "  select(-c(duration, pdays, age, campaign, previous))\n",
        "num_vars <- setdiff(num_vars, c('duration', 'pdays', 'age', 'campaign', 'previous'))"
      ]
    },
    {
      "cell_type": "markdown",
      "metadata": {},
      "source": [
        "## Target Variable Distribution\n",
        "\n",
        "Visualize the distribution of the target variable `y`."
      ]
    },
    {
      "cell_type": "code",
      "metadata": {},
      "source": [
        "banking %>%\n",
        "  ggplot(aes(x = factor(y))) +\n",
        "  geom_bar(fill = 'steelblue') +\n",
        "  labs(title = 'Distribution of Target Variable y', x = 'y', y = 'Count')"
      ]
    },
    {
      "cell_type": "markdown",
      "metadata": {},
      "source": [
        "## Address Class Imbalance (Undersampling)\n",
        "\n",
        "The dataset is imbalanced. We'll undersample the majority class (y=0) to have a 2:1 ratio with the minority class (y=1), as in the Python notebook."
      ]
    },
    {
      "cell_type": "code",
      "metadata": {},
      "source": [
        "set.seed(42)\n",
        "data_1 <- banking %>% filter(y == 1)\n",
        "data_0 <- banking %>% filter(y == 0)\n",
        "n_1 <- nrow(data_1)\n",
        "data_0_small <- data_0 %>% sample_n(size = 2 * n_1)\n",
        "banking_bal <- bind_rows(data_1, data_0_small) %>%\n",
        "  mutate(y = factor(y)) %>%\n",
        "  slice_sample(prop = 1) # shuffle"
      ]
    },
    {
      "cell_type": "code",
      "metadata": {},
      "source": [
        "# Check new target distribution\n",
        "banking_bal %>%\n",
        "  count(y) %>%\n",
        "  ggplot(aes(x = y, y = n, fill = y)) +\n",
        "  geom_col() +\n",
        "  labs(title = 'Target Distribution After Downsampling', y = 'Count')"
      ]
    },
    {
      "cell_type": "markdown",
      "metadata": {},
      "source": [
        "## Boxplots by Target\n",
        "\n",
        "Visualize the distribution of numeric variables by target class."
      ]
    },
    {
      "cell_type": "code",
      "metadata": {},
      "source": [
        "banking_bal %>%\n",
        "  select(all_of(num_vars), y) %>%\n",
        "  pivot_longer(-y, names_to = 'variable', values_to = 'value') %>%\n",
        "  ggplot(aes(x = y, y = value, fill = y)) +\n",
        "  geom_boxplot(alpha = 0.7) +\n",
        "  facet_wrap(~ variable, scales = 'free', ncol = 2) +\n",
        "  labs(title = 'Numeric Variable Distributions by Target', x = 'y', y = '')"
      ]
    },
    {
      "cell_type": "markdown",
      "metadata": {},
      "source": [
        "## Categorical Variable Distributions by Target\n",
        "\n",
        "Visualize the distribution of categorical variables by target class."
      ]
    },
    {
      "cell_type": "code",
      "metadata": {},
      "source": [
        "for (var in cat_vars) {\n",
        "  p <- banking_bal %>%\n",
        "    group_by(.data[[var]], y) %>%\n",
        "    summarise(n = n(), .groups = 'drop') %>%\n",
        "    group_by(.data[[var]]) %>%\n",
        "    mutate(prop = n / sum(n)) %>%\n",
        "    ggplot(aes(x = .data[[var]], y = prop, fill = y)) +\n",
        "    geom_col(position = 'fill') +\n",
        "    labs(title = paste('Target Distribution by', var), x = var, y = 'Proportion') +\n",
        "    theme(axis.text.x = element_text(angle = 45, hjust = 1))\n",
        "  print(p)\n",
        "}"
      ]
    },
    {
      "cell_type": "markdown",
      "metadata": {},
      "source": [
        "## Data Preprocessing: Dummy Variables & Standardization\n",
        "\n",
        "We'll use the `recipes` package to create dummy variables for categorical predictors and standardize numeric predictors."
      ]
    },
    {
      "cell_type": "code",
      "metadata": {},
      "source": [
        "rec <- recipe(y ~ ., data = banking_bal) %>%\n",
        "  step_dummy(all_nominal_predictors(), one_hot = TRUE) %>%\n",
        "  step_center(all_numeric_predictors()) %>%\n",
        "  step_scale(all_numeric_predictors())\n",
        "\n",
        "prep_rec <- prep(rec)\n",
        "banking_proc <- bake(prep_rec, new_data = NULL)"
      ]
    },
    {
      "cell_type": "code",
      "metadata": {},
      "source": [
        "# Check processed data\n",
        "glimpse(banking_proc)"
      ]
    },
    {
      "cell_type": "markdown",
      "metadata": {},
      "source": [
        "## Correlation Analysis\n",
        "\n",
        "Check for highly correlated predictors and remove them if necessary."
      ]
    },
    {
      "cell_type": "code",
      "metadata": {},
      "source": [
        "cor_mat <- banking_proc %>%\n",
        "  select(where(is.numeric)) %>%\n",
        "  cor()\n",
        "\n",
        "# Find highly correlated pairs (|cor| > 0.9)\n",
        "high_cor <- findCorrelation(cor_mat, cutoff = 0.9, names = TRUE)\n",
        "high_cor"
      ]
    },
    {
      "cell_type": "code",
      "metadata": {},
      "source": [
        "# Remove highly correlated columns if any\n",
        "if (length(high_cor) > 0) {\n",
        "  banking_proc <- banking_proc %>% select(-all_of(high_cor))\n",
        "}"
      ]
    },
    {
      "cell_type": "markdown",
      "metadata": {},
      "source": [
        "## Train/Test Split\n",
        "\n",
        "Split the data into training and test sets (80/20 split, stratified by y)."
      ]
    },
    {
      "cell_type": "code",
      "metadata": {},
      "source": [
        "set.seed(42)\n",
        "train_idx <- createDataPartition(banking_proc$y, p = 0.8, list = FALSE)\n",
        "train <- banking_proc[train_idx, ]\n",
        "test <- banking_proc[-train_idx, ]"
      ]
    },
    {
      "cell_type": "code",
      "metadata": {},
      "source": [
        "# Check split\n",
        "table(train$y)\n",
        "table(test$y)"
      ]
    },
    {
      "cell_type": "markdown",
      "metadata": {},
      "source": [
        "## Fit Logistic Regression Model\n",
        "\n",
        "Fit a logistic regression model using all predictors."
      ]
    },
    {
      "cell_type": "code",
      "metadata": {},
      "source": [
        "fit <- glm(y ~ ., data = train, family = binomial())\n",
        "summary(fit)"
      ]
    },
    {
      "cell_type": "markdown",
      "metadata": {},
      "source": [
        "## Model Evaluation: Predictions\n",
        "\n",
        "Predict on the test set and compare predictions to the true values."
      ]
    },
    {
      "cell_type": "code",
      "metadata": {},
      "source": [
        "test$prob <- predict(fit, newdata = test, type = 'response')\n",
        "test$pred <- ifelse(test$prob > 0.5, 1, 0)\n",
        "test$pred <- factor(test$pred, levels = levels(test$y))\n",
        "\n",
        "test %>%\n",
        "  select(y, pred, prob) %>%\n",
        "  head(10) %>%\n",
        "  kable() %>%\n",
        "  kable_styling()"
      ]
    },
    {
      "cell_type": "markdown",
      "metadata": {},
      "source": [
        "## Confusion Matrix\n",
        "\n",
        "Evaluate the confusion matrix and classification metrics."
      ]
    },
    {
      "cell_type": "code",
      "metadata": {},
      "source": [
        "conf_mat <- confusionMatrix(test$pred, test$y, positive = '1')\n",
        "conf_mat"
      ]
    },
    {
      "cell_type": "markdown",
      "metadata": {},
      "source": [
        "## Classification Report\n",
        "\n",
        "Show precision, recall, F1-score, and accuracy."
      ]
    },
    {
      "cell_type": "code",
      "metadata": {},
      "source": [
        "conf_mat$byClass\n",
        "conf_mat$overall"
      ]
    },
    {
      "cell_type": "markdown",
      "metadata": {},
      "source": [
        "## ROC Curve & AUC\n",
        "\n",
        "Plot the ROC curve and compute the AUC."
      ]
    },
    {
      "cell_type": "code",
      "metadata": {},
      "source": [
        "roc_obj <- roc(test$y, test$prob)\n",
        "auc(roc_obj)\n",
        "plot(roc_obj, col = 'blue', main = 'ROC Curve (AUC = {round(auc(roc_obj), 2)})')\n",
        "abline(a = 0, b = 1, lty = 2, col = 'red')"
      ]
    },
    {
      "cell_type": "markdown",
      "metadata": {},
      "source": [
        "## Model Coefficients (Odds Ratios)\n",
        "\n",
        "Show the estimated odds ratios for each predictor."
      ]
    },
    {
      "cell_type": "code",
      "metadata": {},
      "source": [
        "exp(coef(fit)) %>%\n",
        "  as.data.frame() %>%\n",
        "  rownames_to_column('Variable') %>%\n",
        "  rename(OddsRatio = 2) %>%\n",
        "  arrange(desc(abs(OddsRatio))) %>%\n",
        "  kable() %>%\n",
        "  kable_styling()"
      ]
    },
    {
      "cell_type": "markdown",
      "metadata": {},
      "source": [
        "## Conclusion\n",
        "\n",
        "This notebook demonstrated a full workflow for logistic regression in R, including data cleaning, visualization, class balancing, preprocessing, model fitting, and evaluation. The approach and explanations are designed to be directly comparable to the Python version, but use tidyverse and modern R idioms throughout."
      ]
    }
  ]
}
