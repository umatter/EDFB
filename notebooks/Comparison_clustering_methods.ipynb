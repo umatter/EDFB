{
  "cells": [
    {
      "cell_type": "markdown",
      "metadata": {
        "id": "IpfARTWsCgAn"
      },
      "source": [
        "# Comparing different clustering methods on toy datasets\n",
        "The purpose of this script is to review the performance of different clustering techniques when applied to toy datasets of different shapes and properties.\n",
        "\n",
        "Useful links:\n",
        "\n",
        "*   https://scikit-learn.org/stable/modules/clustering.html#spectral-clustering\n",
        "*   https://scikit-learn.org/stable/modules/generated/sklearn.cluster.KMeans.html\n",
        "\n",
        "\n",
        "\n",
        "\n"
      ]
    },
    {
      "cell_type": "code",
      "execution_count": null,
      "metadata": {
        "id": "MEk3Sj1F28iv"
      },
      "outputs": [],
      "source": [
        "# We import the necessary libraries\n",
        "import time # This module provides various time-related functions\n",
        "import warnings # Warning messages are typically issued in situations where it is useful to alert the user of some condition in a program\n",
        "import numpy as np\n",
        "import pandas as pd\n",
        "import matplotlib.pyplot as plt\n",
        "from sklearn import cluster, datasets\n",
        "from sklearn.preprocessing import StandardScaler # Standardize features by removing the mean and scaling to unit variance.\n",
        "from itertools import cycle, islice # This module implements a number of iterator building blocks"
      ]
    },
    {
      "cell_type": "code",
      "execution_count": null,
      "metadata": {
        "id": "7sc-Xwka3FPV"
      },
      "outputs": [],
      "source": [
        "# We create the datasets\n",
        "n_samples = 1500\n",
        "X_circles, y_circles = datasets.make_circles(n_samples=n_samples, factor=0.5, noise=0.05) # noise: Standard deviation of Gaussian noise added to the data # factor: Scale factor between inner and outer circle in the range (0, 1).\n",
        "X_moons, y_moons = datasets.make_moons(n_samples=n_samples, noise=0.05)\n",
        "X_blobs, y_blobs = datasets.make_blobs(n_samples=n_samples, random_state=8)\n",
        "X_no_structure, y_no_structure = np.random.rand(n_samples, 2), None\n"
      ]
    },
    {
      "cell_type": "code",
      "execution_count": null,
      "metadata": {
        "id": "U2Le65kDBgjV"
      },
      "outputs": [],
      "source": [
        "# Dataset with points distributed along different axes\n",
        "random_state = 170\n",
        "X, y = datasets.make_blobs(n_samples=n_samples, random_state=random_state)\n",
        "transformation = [[0.6, -0.6], [-0.4, 0.8]]\n",
        "X_aniso = np.dot(X, transformation)\n",
        "aniso = (X_aniso, y)\n",
        "\n",
        "# Blobs dataset with varied variances\n",
        "X_varied, y_varied = datasets.make_blobs(\n",
        "    n_samples=n_samples, cluster_std=[1.0, 2.5, 0.5], random_state=random_state\n",
        ")"
      ]
    },
    {
      "cell_type": "code",
      "execution_count": null,
      "metadata": {
        "colab": {
          "base_uri": "https://localhost:8080/",
          "height": 715
        },
        "id": "YAJuo7qSB1NQ",
        "outputId": "7ed41c87-6989-4c0b-bf8a-a9fd9a740083"
      },
      "outputs": [],
      "source": [
        "# Lets visualize the toy datasets we have created\n",
        "# Circles dataset\n",
        "plt.figure(figsize=(20,10))\n",
        "plt.scatter(X_circles[:,0], X_circles[:,1], cmap='Accent', s=70)\n",
        "plt.show()"
      ]
    },
    {
      "cell_type": "code",
      "execution_count": null,
      "metadata": {
        "colab": {
          "base_uri": "https://localhost:8080/",
          "height": 712
        },
        "id": "9NMLhC-6B4Ux",
        "outputId": "ca23596b-29a2-4963-9012-98bc226954e7"
      },
      "outputs": [],
      "source": [
        "# Moons dataset\n",
        "plt.figure(figsize=(20,10))\n",
        "plt.scatter(X_moons[:,0], X_moons[:,1], cmap='Accent', s=70)\n",
        "plt.show()"
      ]
    },
    {
      "cell_type": "code",
      "execution_count": null,
      "metadata": {
        "colab": {
          "base_uri": "https://localhost:8080/",
          "height": 717
        },
        "id": "zjv0pHD2B7nj",
        "outputId": "27d19427-2b6b-4183-a023-72c22282263b"
      },
      "outputs": [],
      "source": [
        "# Blobs dataset\n",
        "plt.figure(figsize=(20,10))\n",
        "plt.scatter(X_blobs[:,0], X_blobs[:,1], cmap='Accent', s=70)\n",
        "plt.show()"
      ]
    },
    {
      "cell_type": "code",
      "execution_count": null,
      "metadata": {
        "colab": {
          "base_uri": "https://localhost:8080/",
          "height": 720
        },
        "id": "eEHGbjr4CA_M",
        "outputId": "1781856e-de5e-4ca2-c347-6fb3e5ae775e"
      },
      "outputs": [],
      "source": [
        "# Uniform points (no_structure dataset)\n",
        "plt.figure(figsize=(20,10))\n",
        "plt.scatter(X_no_structure[:,0], X_no_structure[:,1], cmap='Accent', s=70)\n",
        "plt.show()"
      ]
    },
    {
      "cell_type": "code",
      "execution_count": null,
      "metadata": {
        "colab": {
          "base_uri": "https://localhost:8080/",
          "height": 720
        },
        "id": "uYwMhyDMBux7",
        "outputId": "a3ab4941-3473-4093-ea11-f35ebf651d5a"
      },
      "outputs": [],
      "source": [
        "# Dataset with points distributed along different axes\n",
        "plt.figure(figsize=(20,10))\n",
        "plt.scatter(X_aniso[:,0], X_aniso[:,1], cmap='Accent', s=70)\n",
        "plt.show()"
      ]
    },
    {
      "cell_type": "code",
      "execution_count": null,
      "metadata": {
        "colab": {
          "base_uri": "https://localhost:8080/",
          "height": 720
        },
        "id": "QhE2kc5PCHIn",
        "outputId": "2ca13a6e-eb80-45a8-ca1c-54495587fd97"
      },
      "outputs": [],
      "source": [
        "# Blobs dataset with varied variances\n",
        "plt.figure(figsize=(20,10))\n",
        "plt.scatter(X_varied[:,0], X_varied[:,1], cmap='Accent', s=70)\n",
        "plt.show()"
      ]
    },
    {
      "cell_type": "code",
      "execution_count": null,
      "metadata": {
        "id": "k6rsD6zj3KbY"
      },
      "outputs": [],
      "source": [
        "# In the next step we define some functions that we need.\n",
        "# Define cluster_kmeans function\n",
        "from sklearn.cluster import KMeans\n",
        "from sklearn import metrics\n",
        "# from sklearn.metrics import pairwise_distances\n",
        "\n",
        "# silhouette: 1=good, 0=overlap, -1=bad\n",
        "# Within Cluster Sum of Squares: lower is better\n",
        "\n",
        "def cluster_kmeans(df, nclust):\n",
        "\n",
        "    kmeans = KMeans(n_clusters=nclust, random_state=0).fit(df)\n",
        "    label = kmeans.labels_\n",
        "    centroids = kmeans.cluster_centers_\n",
        "    sil=metrics.silhouette_score(df, label, metric='euclidean', random_state=0)\n",
        "    wcss = kmeans.inertia_\n",
        "\n",
        "    return sil, wcss, label, centroids"
      ]
    },
    {
      "cell_type": "code",
      "execution_count": null,
      "metadata": {
        "id": "8ymvHAnE4mNR"
      },
      "outputs": [],
      "source": [
        "# Define cluster_agglom function\n",
        "from sklearn.cluster import AgglomerativeClustering\n",
        "import scipy.cluster.hierarchy as sch\n",
        "def cluster_agglom(df, nclust, link):\n",
        "\n",
        "    hc = AgglomerativeClustering(n_clusters=nclust, metric = 'euclidean', linkage = link).fit(df)\n",
        "    label = hc.labels_\n",
        "    wcss, centroids = eval_WCSS(X, label)\n",
        "    sil=metrics.silhouette_score(df, label, metric='euclidean', random_state=0)\n",
        "\n",
        "    return sil, wcss, label, centroids"
      ]
    },
    {
      "cell_type": "code",
      "execution_count": null,
      "metadata": {
        "id": "tmWwR7My5SEp"
      },
      "outputs": [],
      "source": [
        "# Define eval_WCSS function\n",
        "def eval_WCSS(X, label):\n",
        "\n",
        "    df = pd.DataFrame(data=X, index=label)\n",
        "    centroids = df.groupby(level=0).mean()\n",
        "\n",
        "    WCSS = 0\n",
        "    for clust, centr in centroids.iterrows():\n",
        "\n",
        "        points = df[df.index == clust]\n",
        "        SS = 0\n",
        "        for _, p in points.iterrows():\n",
        "            SS += sum((p.values-centr.values)**2)\n",
        "        WCSS += SS\n",
        "\n",
        "    return WCSS, centroids.values"
      ]
    },
    {
      "cell_type": "markdown",
      "metadata": {
        "id": "UheJb6uVEEq8"
      },
      "source": [
        "Circles dataset: Comparison of different clustering techniques\n",
        "\n",
        "---\n",
        "\n",
        "\n",
        "\n"
      ]
    },
    {
      "cell_type": "code",
      "execution_count": null,
      "metadata": {
        "colab": {
          "base_uri": "https://localhost:8080/",
          "height": 715
        },
        "id": "H_yNWOjZ32Pz",
        "outputId": "e6761b12-176a-4acd-d7c9-38506026cedc"
      },
      "outputs": [],
      "source": [
        "plt.figure(figsize=(20,10))\n",
        "plt.scatter(X_circles[:,0], X_circles[:,1], cmap='Accent', s=70)\n",
        "plt.show()"
      ]
    },
    {
      "cell_type": "code",
      "execution_count": null,
      "metadata": {
        "colab": {
          "base_uri": "https://localhost:8080/",
          "height": 680
        },
        "id": "kimjtxzd3jWT",
        "outputId": "dcc34315-f5f0-4aec-bdb8-a599dd947983"
      },
      "outputs": [],
      "source": [
        "# K-means\n",
        "sil, wcss, label, centroids = cluster_kmeans(X_circles, 2)\n",
        "plt.figure(figsize=(20,10))\n",
        "plt.scatter(X_circles[:,0], X_circles[:,1], c=label, cmap='Accent', s=70)\n",
        "plt.show()"
      ]
    },
    {
      "cell_type": "code",
      "execution_count": null,
      "metadata": {
        "colab": {
          "base_uri": "https://localhost:8080/",
          "height": 680
        },
        "id": "wKQ4WGPL5e2b",
        "outputId": "168c3cb5-9ce4-4124-c526-762d9a1e6fae"
      },
      "outputs": [],
      "source": [
        "# Agglomerative clustering: complete link\n",
        "sil, wcss, label, centroids = cluster_agglom(X_circles, 2, link='complete')\n",
        "plt.figure(figsize=(20,10))\n",
        "plt.scatter(X_circles[:,0], X_circles[:,1], c=label, cmap='Accent', s=70)\n",
        "plt.show()"
      ]
    },
    {
      "cell_type": "code",
      "execution_count": null,
      "metadata": {
        "colab": {
          "base_uri": "https://localhost:8080/",
          "height": 680
        },
        "id": "KvXfp9QP54mS",
        "outputId": "449cbdc2-bcc1-4b71-9435-50d98128ca44"
      },
      "outputs": [],
      "source": [
        "# DBScan\n",
        "from sklearn.cluster import DBSCAN\n",
        "db = DBSCAN(eps=0.2).fit(X_circles) # epsfloat, default=0.5 --> The maximum distance between two samples for one to be considered as in the neighborhood of the other.\n",
        "\n",
        "label = db.labels_\n",
        "plt.figure(figsize=(20,10))\n",
        "plt.scatter(X_circles[:,0], X_circles[:,1], c=label, cmap='Accent', s=70)\n",
        "plt.show()"
      ]
    },
    {
      "cell_type": "code",
      "execution_count": null,
      "metadata": {
        "id": "rmbLF-L940UI"
      },
      "outputs": [],
      "source": [
        "# Agglomerative clustering: single link\n",
        "sil, wcss, label, centroids = cluster_agglom(X_circles, 2, link='single')\n",
        "plt.figure(figsize=(20,10))\n",
        "plt.scatter(X_circles[:,0], X_circles[:,1], c=label, cmap='Accent', s=70)\n",
        "plt.show()"
      ]
    },
    {
      "cell_type": "markdown",
      "metadata": {
        "id": "58a2iD3IE1I8"
      },
      "source": [
        "Moons dataset: Comparison of different clustering techniques"
      ]
    },
    {
      "cell_type": "code",
      "execution_count": null,
      "metadata": {
        "id": "KEeQwu7BExUd"
      },
      "outputs": [],
      "source": [
        "plt.figure(figsize=(20,10))\n",
        "plt.scatter(X_moons[:,0], X_moons[:,1], cmap='Accent', s=70)\n",
        "plt.show()"
      ]
    },
    {
      "cell_type": "code",
      "execution_count": null,
      "metadata": {
        "id": "wk-RqU6fExUd"
      },
      "outputs": [],
      "source": [
        "# K-means\n",
        "sil, wcss, label, centroids = cluster_kmeans(X_moons, 2)\n",
        "plt.figure(figsize=(20,10))\n",
        "plt.scatter(X_moons[:,0], X_moons[:,1], c=label, cmap='Accent', s=70)\n",
        "plt.show()"
      ]
    },
    {
      "cell_type": "code",
      "execution_count": null,
      "metadata": {
        "id": "t3_w-iKUExUd"
      },
      "outputs": [],
      "source": [
        "# Agglomerative clustering: complete link\n",
        "sil, wcss, label, centroids = cluster_agglom(X_moons, 2, link='complete')\n",
        "plt.figure(figsize=(20,10))\n",
        "plt.scatter(X_moons[:,0], X_moons[:,1], c=label, cmap='Accent', s=70)\n",
        "plt.show()"
      ]
    },
    {
      "cell_type": "code",
      "execution_count": null,
      "metadata": {
        "id": "LpfdEjoAExUe"
      },
      "outputs": [],
      "source": [
        "# DBScan\n",
        "from sklearn.cluster import DBSCAN\n",
        "db = DBSCAN(eps=0.2).fit(X_moons) # epsfloat, default=0.5 --> The maximum distance between two samples for one to be considered as in the neighborhood of the other.\n",
        "\n",
        "label = db.labels_\n",
        "plt.figure(figsize=(20,10))\n",
        "plt.scatter(X_moons[:,0], X_moons[:,1], c=label, cmap='Accent', s=70)\n",
        "plt.show()"
      ]
    },
    {
      "cell_type": "code",
      "execution_count": null,
      "metadata": {
        "collapsed": true,
        "id": "xgg4XIfPExUe"
      },
      "outputs": [],
      "source": [
        "# Agglomerative clustering: single link\n",
        "sil, wcss, label, centroids = cluster_agglom(X_moons, 2, link='single')\n",
        "plt.figure(figsize=(20,10))\n",
        "plt.scatter(X_moons[:,0], X_moons[:,1], c=label, cmap='Accent', s=70)\n",
        "plt.show()"
      ]
    },
    {
      "cell_type": "markdown",
      "metadata": {
        "id": "o18tlaPPFrXZ"
      },
      "source": [
        "Bloobs dataset: Comparison of different clustering techniques"
      ]
    },
    {
      "cell_type": "code",
      "execution_count": null,
      "metadata": {
        "id": "dBVoYirRFpAu"
      },
      "outputs": [],
      "source": [
        "plt.figure(figsize=(20,10))\n",
        "plt.scatter(X_blobs[:,0], X_blobs[:,1], cmap='Accent', s=70)\n",
        "plt.show()"
      ]
    },
    {
      "cell_type": "code",
      "execution_count": null,
      "metadata": {
        "id": "ZMSWSu5eFpAu"
      },
      "outputs": [],
      "source": [
        "# K-means\n",
        "sil, wcss, label, centroids = cluster_kmeans(X_blobs, 3)\n",
        "plt.figure(figsize=(20,10))\n",
        "plt.scatter(X_blobs[:,0], X_blobs[:,1], c=label, cmap='Accent', s=70)\n",
        "plt.show()"
      ]
    },
    {
      "cell_type": "code",
      "execution_count": null,
      "metadata": {
        "id": "2r2RPY-JFpAu"
      },
      "outputs": [],
      "source": [
        "# Agglomerative clustering: complete link\n",
        "sil, wcss, label, centroids = cluster_agglom(X_blobs, 3, link='complete')\n",
        "plt.figure(figsize=(20,10))\n",
        "plt.scatter(X_blobs[:,0], X_blobs[:,1], c=label, cmap='Accent', s=70)\n",
        "plt.show()"
      ]
    },
    {
      "cell_type": "code",
      "execution_count": null,
      "metadata": {
        "id": "-XqyeGjxFpAu"
      },
      "outputs": [],
      "source": [
        "# DBScan\n",
        "from sklearn.cluster import DBSCAN\n",
        "db = DBSCAN(eps=0.5).fit(X_blobs) # epsfloat, default=0.5 --> The maximum distance between two samples for one to be considered as in the neighborhood of the other.\n",
        "\n",
        "label = db.labels_\n",
        "plt.figure(figsize=(20,10))\n",
        "plt.scatter(X_blobs[:,0], X_blobs[:,1], c=label, cmap='Accent', s=70)\n",
        "plt.show()"
      ]
    },
    {
      "cell_type": "code",
      "execution_count": null,
      "metadata": {
        "id": "xnD1E60WFpAv"
      },
      "outputs": [],
      "source": [
        "# Agglomerative clustering: single link\n",
        "sil, wcss, label, centroids = cluster_agglom(X_blobs, 3, link='single')\n",
        "plt.figure(figsize=(20,10))\n",
        "plt.scatter(X_blobs[:,0], X_blobs[:,1], c=label, cmap='Accent', s=70)\n",
        "plt.show()"
      ]
    },
    {
      "cell_type": "markdown",
      "metadata": {
        "id": "uPRvXtItGgQp"
      },
      "source": [
        "No structure dataset: Comparison of different clustering techniques"
      ]
    },
    {
      "cell_type": "code",
      "execution_count": null,
      "metadata": {
        "id": "GSgP8eDmGicv"
      },
      "outputs": [],
      "source": [
        "plt.figure(figsize=(20,10))\n",
        "plt.scatter(X_no_structure[:,0], X_no_structure[:,1], cmap='Accent', s=70)\n",
        "plt.show()"
      ]
    },
    {
      "cell_type": "code",
      "execution_count": null,
      "metadata": {
        "id": "HeBh4GOUGicv"
      },
      "outputs": [],
      "source": [
        "# K-means\n",
        "sil, wcss, label, centroids = cluster_kmeans(X_no_structure, 3)\n",
        "plt.figure(figsize=(20,10))\n",
        "plt.scatter(X_no_structure[:,0], X_no_structure[:,1], c=label, cmap='Accent', s=70)\n",
        "plt.show()"
      ]
    },
    {
      "cell_type": "code",
      "execution_count": null,
      "metadata": {
        "id": "U_0hf8KtGicv"
      },
      "outputs": [],
      "source": [
        "# Agglomerative clustering: complete link\n",
        "sil, wcss, label, centroids = cluster_agglom(X_no_structure, 3, link='complete')\n",
        "plt.figure(figsize=(20,10))\n",
        "plt.scatter(X_no_structure[:,0], X_no_structure[:,1], c=label, cmap='Accent', s=70)\n",
        "plt.show()"
      ]
    },
    {
      "cell_type": "code",
      "execution_count": null,
      "metadata": {
        "id": "Na0_7K39Gicw"
      },
      "outputs": [],
      "source": [
        "# DBScan\n",
        "from sklearn.cluster import DBSCAN\n",
        "db = DBSCAN(eps=0.1).fit(X_no_structure) # epsfloat, default=0.5 --> The maximum distance between two samples for one to be considered as in the neighborhood of the other.\n",
        "\n",
        "label = db.labels_\n",
        "plt.figure(figsize=(20,10))\n",
        "plt.scatter(X_no_structure[:,0], X_no_structure[:,1], c=label, cmap='Accent', s=70)\n",
        "plt.show()"
      ]
    },
    {
      "cell_type": "code",
      "execution_count": null,
      "metadata": {
        "id": "C8o1-n_2Gicw"
      },
      "outputs": [],
      "source": [
        "# Agglomerative clustering: single link\n",
        "sil, wcss, label, centroids = cluster_agglom(X_no_structure, 2, link='single')\n",
        "plt.figure(figsize=(20,10))\n",
        "plt.scatter(X_no_structure[:,0], X_no_structure[:,1], c=label, cmap='Accent', s=70)\n",
        "plt.show()"
      ]
    },
    {
      "cell_type": "markdown",
      "metadata": {
        "id": "DjFDHuGWH_R2"
      },
      "source": [
        "Dataset with points distributed along different axes: Comparison of different clustering techniques"
      ]
    },
    {
      "cell_type": "code",
      "execution_count": null,
      "metadata": {
        "id": "qqzF5tdTICAR"
      },
      "outputs": [],
      "source": [
        "plt.figure(figsize=(20,10))\n",
        "plt.scatter(X_aniso[:,0], X_aniso[:,1], cmap='Accent', s=70)\n",
        "plt.show()"
      ]
    },
    {
      "cell_type": "code",
      "execution_count": null,
      "metadata": {
        "id": "n0bIj4WwICAS"
      },
      "outputs": [],
      "source": [
        "# K-means\n",
        "sil, wcss, label, centroids = cluster_kmeans(X_aniso, 3)\n",
        "plt.figure(figsize=(20,10))\n",
        "plt.scatter(X_aniso[:,0], X_aniso[:,1], c=label, cmap='Accent', s=70)\n",
        "plt.show()"
      ]
    },
    {
      "cell_type": "code",
      "execution_count": null,
      "metadata": {
        "id": "ZZDm5j8bICAS"
      },
      "outputs": [],
      "source": [
        "# Agglomerative clustering: complete link\n",
        "sil, wcss, label, centroids = cluster_agglom(X_aniso, 3, link='complete')\n",
        "plt.figure(figsize=(20,10))\n",
        "plt.scatter(X_aniso[:,0], X_aniso[:,1], c=label, cmap='Accent', s=70)\n",
        "plt.show()"
      ]
    },
    {
      "cell_type": "code",
      "execution_count": null,
      "metadata": {
        "id": "6rE8ojg_ICAS"
      },
      "outputs": [],
      "source": [
        "# DBScan\n",
        "from sklearn.cluster import DBSCAN\n",
        "db = DBSCAN(eps=0.3).fit(X_aniso) # epsfloat, default=0.5 --> The maximum distance between two samples for one to be considered as in the neighborhood of the other.\n",
        "\n",
        "label = db.labels_\n",
        "plt.figure(figsize=(20,10))\n",
        "plt.scatter(X_aniso[:,0], X_aniso[:,1], c=label, cmap='Accent', s=70)\n",
        "plt.show()"
      ]
    },
    {
      "cell_type": "code",
      "execution_count": null,
      "metadata": {
        "id": "rbLbgYRDICAS"
      },
      "outputs": [],
      "source": [
        "# Agglomerative clustering: single link\n",
        "sil, wcss, label, centroids = cluster_agglom(X_aniso, 3, link='single')\n",
        "plt.figure(figsize=(20,10))\n",
        "plt.scatter(X_aniso[:,0], X_aniso[:,1], c=label, cmap='Accent', s=70)\n",
        "plt.show()"
      ]
    },
    {
      "cell_type": "markdown",
      "metadata": {
        "id": "-DBFkGt1I4EC"
      },
      "source": [
        "Blobs with different variance dataset: : Comparison of different clustering techniques"
      ]
    },
    {
      "cell_type": "code",
      "execution_count": null,
      "metadata": {
        "id": "8qbhj48CI6bo"
      },
      "outputs": [],
      "source": [
        "plt.figure(figsize=(20,10))\n",
        "plt.scatter(X_varied[:,0], X_varied[:,1], cmap='Accent', s=70)\n",
        "plt.show()"
      ]
    },
    {
      "cell_type": "code",
      "execution_count": null,
      "metadata": {
        "id": "UeWDKbd8I6bo"
      },
      "outputs": [],
      "source": [
        "# K-means\n",
        "sil, wcss, label, centroids = cluster_kmeans(X_varied, 3)\n",
        "plt.figure(figsize=(20,10))\n",
        "plt.scatter(X_varied[:,0], X_varied[:,1], c=label, cmap='Accent', s=70)\n",
        "plt.show()"
      ]
    },
    {
      "cell_type": "code",
      "execution_count": null,
      "metadata": {
        "id": "mIcnQgk1I6bo"
      },
      "outputs": [],
      "source": [
        "# Agglomerative clustering: complete link\n",
        "sil, wcss, label, centroids = cluster_agglom(X_varied, 3, link='complete')\n",
        "plt.figure(figsize=(20,10))\n",
        "plt.scatter(X_varied[:,0], X_varied[:,1], c=label, cmap='Accent', s=70)\n",
        "plt.show()"
      ]
    },
    {
      "cell_type": "code",
      "execution_count": null,
      "metadata": {
        "id": "yXxnoYtrI6bp"
      },
      "outputs": [],
      "source": [
        "# DBScan\n",
        "from sklearn.cluster import DBSCAN\n",
        "db = DBSCAN(eps=0.6).fit(X_varied) # epsfloat, default=0.5 --> The maximum distance between two samples for one to be considered as in the neighborhood of the other.\n",
        "\n",
        "label = db.labels_\n",
        "plt.figure(figsize=(20,10))\n",
        "plt.scatter(X_varied[:,0], X_varied[:,1], c=label, cmap='Accent', s=70)\n",
        "plt.show()"
      ]
    },
    {
      "cell_type": "code",
      "execution_count": null,
      "metadata": {
        "id": "17VdALIaI6bp"
      },
      "outputs": [],
      "source": [
        "# Agglomerative clustering: single link\n",
        "sil, wcss, label, centroids = cluster_agglom(X_varied, 3, link='single')\n",
        "plt.figure(figsize=(20,10))\n",
        "plt.scatter(X_varied[:,0], X_varied[:,1], c=label, cmap='Accent', s=70)\n",
        "plt.show()"
      ]
    }
  ],
  "metadata": {
    "colab": {
      "provenance": []
    },
    "kernelspec": {
      "display_name": "Python 3",
      "name": "python3"
    },
    "language_info": {
      "name": "python"
    }
  },
  "nbformat": 4,
  "nbformat_minor": 0
}
