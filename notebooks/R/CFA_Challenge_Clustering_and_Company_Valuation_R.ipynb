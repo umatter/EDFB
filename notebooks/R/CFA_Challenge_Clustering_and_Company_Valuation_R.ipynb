{
  "cells": [
    {
      "cell_type": "markdown",
      "metadata": {},
      "source": [
        "# Clustering & Company Valuation using Clustering (R Version)\n",
        "\n",
        "---\n",
        "\n",
        "This notebook demonstrates unsupervised learning and company valuation using clustering, implemented in R. The structure and flow mirror the Python version, but use idiomatic R and tidyverse approaches for clarity and best practice.\n",
        "\n",
        "We cover:\n",
        "- **Introduction to clustering**: Simulate data, apply k-means and DBSCAN, and evaluate clustering.\n",
        "- **Clustering for company valuation**: Use clustering to value companies using the multiples method, with real data.\n"
      ]
    },
    {
      "cell_type": "markdown",
      "metadata": {},
      "source": [
        "# Introduction to Clustering in R"
      ]
    },
    {
      "cell_type": "markdown",
      "metadata": {},
      "source": [
        "## Step 0: Load Required Libraries\n",
        "\n",
        "We start by loading the necessary libraries. If you are new to R, you may need to install some of these packages using `install.packages(\"package_name\")` in your R console. These libraries provide tools for data manipulation, clustering, and visualization."
      ]
    },
    {
      "cell_type": "code",
      "metadata": {},
      "source": [
        "library(tidyverse)\n",
        "library(cluster)\n",
        "library(dbscan)\n",
        "library(ggplot2)\n",
        "set.seed(50)"
      ]
    },
    {
      "cell_type": "code",
      "metadata": {},
      "source": [
        "## Step 1: Simulate a Dataset with 4 Clusters (aligned with Python make_blobs)\n",
        "\n",
        "# Generate 200 samples, 2 features, 4 centers, cluster_std=1.6, random_state=50\n",
        "set.seed(50)\n",
        "n <- 200\n",
        "centers <- matrix(c(2,2, 8,3, 3,6, 7,7), ncol=2, byrow=TRUE)\n",
        "sd <- 1.6\n",
        "gen_cluster <- function(mu, m) {\n",
        "  tibble(x1 = rnorm(m, mean = mu[1], sd = sd),\n",
        "         x2 = rnorm(m, mean = mu[2], sd = sd))\n",
        "}\n",
        "X <- bind_rows(\n",
        "  gen_cluster(centers[1,], n/4) %>% mutate(label = factor(1)),\n",
        "  gen_cluster(centers[2,], n/4) %>% mutate(label = factor(2)),\n",
        "  gen_cluster(centers[3,], n/4) %>% mutate(label = factor(3)),\n",
        "  gen_cluster(centers[4,], n/4) %>% mutate(label = factor(4))\n",
        ")\n",
        "head(X)"
      ]
    },
    {
      "cell_type": "code",
      "metadata": {},
      "source": [
        "## Step 2: Visualize the Simulated Data\n",
        "\n",
        "Let's plot the data to see the clusters. Each color represents a different true cluster.",
        "ggplot(X, aes(x=x1, y=x2, color=label)) +\n",
        "  geom_point(size=2) +\n",
        "  theme_minimal() +\n",
        "  labs(title=\"Simulated Data with 4 Clusters\")"
      ]
    },
    {
      "cell_type": "code",
      "metadata": {},
      "source": [
        "## Step 3: Apply K-Means Clustering\n",
        "\n",
        "Now, let's use the k-means algorithm to find clusters in the data. We specify 4 clusters (since we know the true number here).",
        "kmeans_result <- kmeans(X %>% select(x1, x2), centers=4, nstart=25)\n",
        "X$cluster <- as.factor(kmeans_result$cluster)\n",
        "ggplot(X, aes(x=x1, y=x2, color=cluster)) + geom_point(size=2) + theme_minimal() + labs(title=\"K-means Clusters (k=4)\")"
      ]
    },
    {
      "cell_type": "code",
      "metadata": {},
      "source": [
        "## Step 4: Evaluate Clustering Quality\n",
        "\n",
        "We use two common metrics:\n",
        "- **Silhouette score**: Measures how well each point fits within its cluster (1=good, 0=overlap, -1=bad).\n",
        "- **Within-Cluster Sum of Squares (WCSS)**: Lower values mean tighter clusters.",
        "sil <- silhouette(kmeans_result$cluster, dist(X %>% select(x1, x2)))\n",
        "mean_sil <- mean(sil[,3])\n",
        "wcss <- kmeans_result$tot.withinss\n",
        "cat(\"Silhouette (mean):\", round(mean_sil,3), \"\\nWCSS:\", round(wcss,1), \"\\n\")"
      ]
    },
    {
      "cell_type": "code",
      "metadata": {},
      "source": [
        "## Step 5: Explore Different Numbers of Clusters\n",
        "\n",
        "It's important to test different cluster counts to find the best fit. Here, we loop through 2 to 7 clusters and record the metrics.",
        "max_n_clusters <- 7\n",
        "results <- tibble(Clusters=integer(), Silhouette=numeric(), WCSS=numeric())\n",
        "for (k in 2:max_n_clusters) {\n",
        "  km <- kmeans(X %>% select(x1, x2), centers=k, nstart=25)\n",
        "  sil <- silhouette(km$cluster, dist(X %>% select(x1, x2)))\n",
        "  results <- results %>% add_row(Clusters=k, Silhouette=mean(sil[,3]), WCSS=km$tot.withinss)\n",
        "}\n",
        "results"
      ]
    },
    {
      "cell_type": "code",
      "metadata": {},
      "source": [
        "## Step 6: Visualize Cluster Evaluation Metrics\n",
        "\n",
        "We plot both the Silhouette score and the (scaled) WCSS to help decide the optimal number of clusters. Look for the 'elbow' in the WCSS curve and the peak in Silhouette.",
        "ggplot(results, aes(x=Clusters)) +\n",
        "  geom_line(aes(y=Silhouette, color=\"Silhouette\"), size=1.2) +\n",
        "  geom_point(aes(y=Silhouette, color=\"Silhouette\"), size=2) +\n",
        "  geom_line(aes(y=scale(WCSS), color=\"WCSS (scaled)\"), size=1.2, linetype=\"dashed\") +\n",
        "  geom_point(aes(y=scale(WCSS), color=\"WCSS (scaled)\"), size=2, shape=17) +\n",
        "  scale_color_manual(values=c(\"blue\", \"red\")) +\n",
        "  labs(y=\"Metric Value\", color=\"Metric\", title=\"Cluster Evaluation Metrics\") +\n",
        "  theme_minimal()"
      ]
    },
    {
      "cell_type": "code",
      "metadata": {},
      "source": [
        "## Step 7: Try DBSCAN on a Non-Spherical Dataset\n",
        "\n",
        "Some datasets have clusters that are not round. DBSCAN is a clustering algorithm that can find clusters of arbitrary shape. Let's generate a 'moons' dataset and visualize it.",
        "set.seed(0)\n",
        "n <- 200\n",
        "noise <- 0.05\n",
        "theta <- runif(n/2, 0, pi)\n",
        "nx1 <- rnorm(n/2, 0, noise); ny1 <- rnorm(n/2, 0, noise)\n",
        "nx2 <- rnorm(n/2, 0, noise); ny2 <- rnorm(n/2, 0, noise)\n",
        "x1 <- c(cos(theta) + nx1, 1 - cos(theta) + nx2)\n",
        "x2 <- c(sin(theta) + ny1, -sin(theta) + 0.5 + ny2)\n",
        "moon_df <- tibble(x1 = x1, x2 = x2)\n",
        "ggplot(moon_df, aes(x=x1, y=x2)) + geom_point(size=2) + theme_minimal() + labs(title=\"Moons Data (aligned with Python)\")"
      ]
    },
    {
      "cell_type": "code",
      "metadata": {},
      "source": [
        "## Step 8: K-Means on Moons Data\n",
        "\n",
        "Let's see how k-means performs on this non-spherical data.",
        "km_moon <- kmeans(moon_df, centers=2, nstart=25)\n",
        "moon_df$cluster <- as.factor(km_moon$cluster)\n",
        "ggplot(moon_df, aes(x=x1, y=x2, color=cluster)) + geom_point(size=2) + theme_minimal() + labs(title=\"K-means on Moons Data\")\n",
        "sil <- silhouette(km_moon$cluster, dist(moon_df))\n",
        "mean_sil <- mean(sil[,3])\n",
        "wcss <- km_moon$tot.withinss\n",
        "cat(\"Silhouette:\", round(mean_sil,3), \"\\nWCSS:\", round(wcss,1), \"\\n\")"
      ]
    },
    {
      "cell_type": "code",
      "metadata": {},
      "source": [
        "## Step 9: DBSCAN on Moons Data\n",
        "\n",
        "Now, let's use DBSCAN, which can find clusters of arbitrary shape and is robust to noise.",
        "db_moon <- dbscan(moon_df, eps=0.3, minPts=5)\n",
        "moon_df$dbscan <- as.factor(db_moon$cluster)\n",
        "ggplot(moon_df, aes(x=x1, y=x2, color=dbscan)) + geom_point(size=2) + theme_minimal() + labs(title=\"DBSCAN on Moons Data\")"
      ]
    },
    {
      "cell_type": "markdown",
      "metadata": {},
      "source": [
        "# Clustering for Company Valuation"
      ]
    },
    {
      "cell_type": "code",
      "metadata": {},
      "source": [
        "# Clustering for Company Valuation\n"
      ]
    },
    {
      "cell_type": "markdown",
      "metadata": {},
      "source": [
        "In this section, we use clustering to help value a company using the multiples method. We will walk through each step, explaining the purpose and R code for each part."
      ]
    },
    {
      "cell_type": "code",
      "metadata": {},
      "source": [
        "## Step 1: Data Collection\n",
        "\n",
        "Let's load company financial data. Make sure the file `financialdata_original.csv` is in your working directory. If not, set the correct path or upload the file.",
        "library(readr)\n",
        "dataset <- read_csv(\"financialdata_original.csv\")\n",
        "head(dataset, 12)"
      ]
    },
    {
      "cell_type": "code",
      "metadata": {},
      "source": [
        "## Step 2: Data Preprocessing\n",
        "\n",
        "Let's inspect the data, check for missing values, and remove any incomplete rows. This ensures our clustering is not affected by missing data.",
        "glimpse(dataset)\n",
        "summary(dataset)\n",
        "sum(is.na(dataset))\n",
        "dataset <- dataset %>% drop_na()\n",
        "summary(dataset)"
      ]
    },
    {
      "cell_type": "code",
      "metadata": {},
      "source": [
        "## Step 3: Model Selection - PCA Explained Variance (aligned with Python)\n",
        "\n",
        "num_data <- dataset %>% select(where(is.numeric))\n",
        "num_data_scaled <- scale(num_data)\n",
        "pca <- prcomp(num_data_scaled, center=FALSE, scale.=FALSE)\n",
        "exp_var <- (pca$sdev^2) / sum(pca$sdev^2)\n",
        "cum_exp <- cumsum(exp_var)\n",
        "df_pca <- tibble(PC = seq_along(exp_var), ExplainedVar = exp_var, CumExplainedVar = cum_exp)\n",
        "ggplot(df_pca, aes(x=PC)) +\n",
        "  geom_col(aes(y=ExplainedVar), alpha=0.5) +\n",
        "  geom_step(aes(y=CumExplainedVar), direction=\"mid\", color=\"steelblue\") +\n",
        "  labs(y=\"Cumulative Explained Variance\", x=\"Number of Principal Components\") +\n",
        "  theme_minimal()"
      ]
    },
    {
      "cell_type": "code",
      "metadata": {},
      "source": [
        "## Step 4: Clustering and Validation (aligned with Python)\n",
        "\n",
        "# Evaluate clusters for k = 2..20 using silhouette and WCSS\n",
        "library(cluster)\n",
        "max_n_clusters <- 21\n",
        "tab <- tibble(Clusters=integer(), Silhouette=numeric(), WCSS=numeric())\n",
        "for (k in 2:(max_n_clusters)) {\n",
        "  km <- kmeans(num_data_scaled, centers=k, nstart=25)\n",
        "  sil <- silhouette(km$cluster, dist(num_data_scaled))\n",
        "  tab <- tab %>% add_row(Clusters=k, Silhouette=mean(sil[,3]), WCSS=km$tot.withinss)\n",
        "}\n",
        "tab\n",
        "\n",
        "# Elbow-style plot: Silhouette and scaled WCSS\n",
        "ggplot(tab, aes(x=Clusters)) +\n",
        "  geom_line(aes(y=Silhouette, color=\"Silhouette\"), size=1.2) +\n",
        "  geom_point(aes(y=Silhouette, color=\"Silhouette\"), size=2) +\n",
        "  geom_line(aes(y=scale(WCSS), color=\"WCSS (scaled)\"), size=1.2, linetype=\"dashed\") +\n",
        "  geom_point(aes(y=scale(WCSS), color=\"WCSS (scaled)\"), size=2, shape=17) +\n",
        "  scale_color_manual(values=c(\"blue\", \"red\")) +\n",
        "  labs(y=\"Metric Value\", color=\"Metric\", title=\"Cluster Evaluation Metrics\") +\n",
        "  theme_minimal()\n",
        "\n",
        "# Choose k (e.g., 8 as in Python example) and assign clusters\n",
        "set.seed(42)\n",
        "k <- 8\n",
        "km <- kmeans(num_data_scaled, centers=k, nstart=25)\n",
        "dataset$Cluster <- as.factor(km$cluster)"
      ]
    },
    {
      "cell_type": "code",
      "metadata": {},
      "source": [
        "## Step 5: Identify Closest Companies\n",
        "\n",
        "Suppose we want to value `Company_11`. We find its cluster and select all companies in the same cluster as its peers.",
        "company11_cluster <- dataset %>% filter(shortName == \"Company_11\") %>% pull(Cluster)\n",
        "similar_companies <- dataset %>% filter(Cluster == company11_cluster)\n",
        "similar_companies"
      ]
    },
    {
      "cell_type": "code",
      "metadata": {},
      "source": [
        "## Step 6: Merge with Market Data\n",
        "\n",
        "Remove `Company_11` from the peer group and merge with additional market data (e.g., market cap, enterprise value) from `financialdata_extra.csv`.",
        "similar_companies <- similar_companies %>% filter(shortName != \"Company_11\")\n",
        "data_extra <- read_csv(\"financialdata_extra.csv\")\n",
        "merged_data <- left_join(similar_companies, data_extra, by=\"shortName\")\n",
        "head(merged_data)"
      ]
    },
    {
      "cell_type": "code",
      "metadata": {},
      "source": [
        "## Step 7: Valuation - Market Cap\n",
        "\n",
        "We can use the average market capitalization of the peer group as a simple valuation for `Company_11`.",
        "avg_market_cap <- mean(merged_data$marketCap, na.rm=TRUE)\n",
        "avg_market_cap"
      ]
    },
    {
      "cell_type": "code",
      "metadata": {},
      "source": [
        "## Step 8: Calculate EV/EBITDA Multiple\n",
        "\n",
        "A more robust method is to use the average EV/EBITDA multiple of the peer group.",
        "merged_data <- merged_data %>% mutate(EV_to_ebitda = enterpriseValue / ebitda)\n",
        "average_EV_ebitda <- mean(merged_data$EV_to_ebitda, na.rm=TRUE)\n",
        "average_EV_ebitda"
      ]
    },
    {
      "cell_type": "code",
      "metadata": {},
      "source": [
        "## Step 9: Estimate Company_11 Enterprise Value\n",
        "\n",
        "Finally, we estimate the value of `Company_11` by multiplying its EBITDA by the average EV/EBITDA multiple from its peer group.",
        "ebitda_value_company11 <- dataset %>% filter(shortName == \"Company_11\") %>% pull(ebitda)\n",
        "Company11_EV <- average_EV_ebitda * ebitda_value_company11\n",
        "Company11_EV"
      ]
    }
  ],
  "metadata": {
    "kernelspec": {
      "display_name": "R",
      "language": "R",
      "name": "ir"
    },
    "language_info": {
      "name": "R"
    }
  },
  "nbformat": 4,
  "nbformat_minor": 0
}
