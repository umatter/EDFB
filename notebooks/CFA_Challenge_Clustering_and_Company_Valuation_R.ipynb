{
  "cells": [
    {
      "cell_type": "markdown",
      "metadata": {},
      "source": [
        "# Clustering & Company Valuation using Clustering (R Version)\n",
        "\n",
        "---\n",
        "\n",
        "This notebook demonstrates unsupervised learning and company valuation using clustering, implemented in R. The structure and flow mirror the Python version, but use idiomatic R and tidyverse approaches for clarity and best practice.\n",
        "\n",
        "We cover:\n",
        "- **Introduction to clustering**: Simulate data, apply k-means and DBSCAN, and evaluate clustering.\n",
        "- **Clustering for company valuation**: Use clustering to value companies using the multiples method, with real data.\n"
      ]
    },
    {
      "cell_type": "markdown",
      "metadata": {},
      "source": [
        "# Introduction to Clustering in R"
      ]
    },
    {
      "cell_type": "markdown",
      "metadata": {},
      "source": [
        "We start by loading the necessary libraries."
      ]
    },
    {
      "cell_type": "code",
      "metadata": {},
      "source": [
        "library(tidyverse)\n",
        "library(cluster)\n",
        "library(factoextra)\n",
        "library(dbscan)\n",
        "library(ggplot2)\n",
        "set.seed(50)"
      ]
    },
    {
      "cell_type": "code",
      "metadata": {},
      "source": [
        "# Simulate a dataset with 4 clusters\n",
        "n <- 200\n",
        "centers <- matrix(c(2,2, 8,3, 3,6, 7,7), ncol=2, byrow=TRUE)\n",
        "X <- as_tibble(cluster::clusplot::simdata(n, 2, centers=centers, sd=1.6))\n",
        "colnames(X) <- c(\"x1\", \"x2\")\n",
        "X$label <- as.factor(rep(1:4, each=n/4))\n",
        "head(X)"
      ]
    },
    {
      "cell_type": "code",
      "metadata": {},
      "source": [
        "# Plot the simulated data\n",
        "ggplot(X, aes(x=x1, y=x2, color=label)) +\n",
        "  geom_point(size=2) +\n",
        "  theme_minimal() +\n",
        "  labs(title=\"Simulated Data with 4 Clusters\")"
      ]
    },
    {
      "cell_type": "code",
      "metadata": {},
      "source": [
        "# Apply k-means clustering\n",
        "kmeans_result <- kmeans(X %>% select(x1, x2), centers=4, nstart=25)\n",
        "X$cluster <- as.factor(kmeans_result$cluster)\n",
        "fviz_cluster(list(data=X %>% select(x1, x2), cluster=kmeans_result$cluster), geom=\"point\")"
      ]
    },
    {
      "cell_type": "code",
      "metadata": {},
      "source": [
        "# Evaluate clustering: Silhouette and WCSS\n",
        "sil <- silhouette(kmeans_result$cluster, dist(X %>% select(x1, x2)))\n",
        "mean_sil <- mean(sil[,3])\n",
        "wcss <- kmeans_result$tot.withinss\n",
        "cat(\"Silhouette (mean):\", round(mean_sil,3), \"\\nWCSS:\", round(wcss,1), \"\\n\")"
      ]
    },
    {
      "cell_type": "code",
      "metadata": {},
      "source": [
        "# Explore different cluster numbers\n",
        "max_n_clusters <- 7\n",
        "results <- tibble(Clusters=integer(), Silhouette=numeric(), WCSS=numeric())\n",
        "for (k in 2:max_n_clusters) {\n",
        "  km <- kmeans(X %>% select(x1, x2), centers=k, nstart=25)\n",
        "  sil <- silhouette(km$cluster, dist(X %>% select(x1, x2)))\n",
        "  results <- results %>% add_row(Clusters=k, Silhouette=mean(sil[,3]), WCSS=km$tot.withinss)\n",
        "}\n",
        "results"
      ]
    },
    {
      "cell_type": "code",
      "metadata": {},
      "source": [
        "# Plot Silhouette and WCSS (Elbow method)\n",
        "ggplot(results, aes(x=Clusters)) +\n",
        "  geom_line(aes(y=Silhouette, color=\"Silhouette\"), size=1.2) +\n",
        "  geom_point(aes(y=Silhouette, color=\"Silhouette\"), size=2) +\n",
        "  geom_line(aes(y=scale(WCSS), color=\"WCSS (scaled)\"), size=1.2, linetype=\"dashed\") +\n",
        "  geom_point(aes(y=scale(WCSS), color=\"WCSS (scaled)\"), size=2, shape=17) +\n",
        "  scale_color_manual(values=c(\"blue\", \"red\")) +\n",
        "  labs(y=\"Metric Value\", color=\"Metric\", title=\"Cluster Evaluation Metrics\") +\n",
        "  theme_minimal()"
      ]
    },
    {
      "cell_type": "code",
      "metadata": {},
      "source": [
        "# Try DBSCAN on a non-spherical dataset (moons)\n",
        "library(mlbench)\n",
        "moons <- mlbench.2dnormals(200, 2, cl=2, sd=0.05)\n",
        "moon_df <- as_tibble(moons$x)\n",
        "colnames(moon_df) <- c(\"x1\", \"x2\")\n",
        "ggplot(moon_df, aes(x=x1, y=x2)) + geom_point(size=2) + theme_minimal() + labs(title=\"Moons Data\")"
      ]
    },
    {
      "cell_type": "code",
      "metadata": {},
      "source": [
        "# k-means on moons data\n",
        "km_moon <- kmeans(moon_df, centers=2, nstart=25)\n",
        "moon_df$cluster <- as.factor(km_moon$cluster)\n",
        "ggplot(moon_df, aes(x=x1, y=x2, color=cluster)) + geom_point(size=2) + theme_minimal() + labs(title=\"K-means on Moons Data\")"
      ]
    },
    {
      "cell_type": "code",
      "metadata": {},
      "source": [
        "# DBSCAN on moons data\n",
        "db_moon <- dbscan(moon_df, eps=0.3, minPts=5)\n",
        "moon_df$dbscan <- as.factor(db_moon$cluster)\n",
        "ggplot(moon_df, aes(x=x1, y=x2, color=dbscan)) + geom_point(size=2) + theme_minimal() + labs(title=\"DBSCAN on Moons Data\")"
      ]
    },
    {
      "cell_type": "markdown",
      "metadata": {},
      "source": [
        "# Clustering for Company Valuation"
      ]
    },
    {
      "cell_type": "code",
      "metadata": {},
      "source": [
        "# Step 1: Data collection\n",
        "# Read in company financial data (replace with your file path)\n",
        "library(readr)\n",
        "dataset <- read_csv(\"financialdata_original.csv\")\n",
        "head(dataset, 12)"
      ]
    },
    {
      "cell_type": "code",
      "metadata": {},
      "source": [
        "# Step 2: Data preprocessing\n",
        "glimpse(dataset)\n",
        "summary(dataset)\n",
        "sum(is.na(dataset))\n",
        "dataset <- dataset %>% drop_na()\n",
        "summary(dataset)"
      ]
    },
    {
      "cell_type": "code",
      "metadata": {},
      "source": [
        "# Step 3: Model selection - Identify optimal cluster number\n",
        "num_data <- dataset %>% select(where(is.numeric))\n",
        "num_data_scaled <- scale(num_data)\n",
        "fviz_nbclust(num_data_scaled, kmeans, method=\"silhouette\")"
      ]
    },
    {
      "cell_type": "code",
      "metadata": {},
      "source": [
        "# Step 4: Clustering\n",
        "set.seed(42)\n",
        "k <- 8 # (choose based on previous plot)\n",
        "km <- kmeans(num_data_scaled, centers=k, nstart=25)\n",
        "dataset$Cluster <- as.factor(km$cluster)"
      ]
    },
    {
      "cell_type": "code",
      "metadata": {},
      "source": [
        "# Step 5: Identify closest companies\n",
        "company11_cluster <- dataset %>% filter(shortName == \"Company_11\") %>% pull(Cluster)\n",
        "similar_companies <- dataset %>% filter(Cluster == company11_cluster)\n",
        "similar_companies"
      ]
    },
    {
      "cell_type": "code",
      "metadata": {},
      "source": [
        "# Remove Company_11 and merge with market data\n",
        "similar_companies <- similar_companies %>% filter(shortName != \"Company_11\")\n",
        "data_extra <- read_csv(\"financialdata_extra.csv\")\n",
        "merged_data <- left_join(similar_companies, data_extra, by=\"shortName\")\n",
        "head(merged_data)"
      ]
    },
    {
      "cell_type": "code",
      "metadata": {},
      "source": [
        "# Step 6: Valuation\n",
        "# Market Cap as valuation metric\n",
        "avg_market_cap <- mean(merged_data$marketCap, na.rm=TRUE)\n",
        "avg_market_cap"
      ]
    },
    {
      "cell_type": "code",
      "metadata": {},
      "source": [
        "# Calculate EV/EBITDA multiple\n",
        "merged_data <- merged_data %>% mutate(EV_to_ebitda = enterpriseValue / ebitda)\n",
        "average_EV_ebitda <- mean(merged_data$EV_to_ebitda, na.rm=TRUE)\n",
        "average_EV_ebitda"
      ]
    },
    {
      "cell_type": "code",
      "metadata": {},
      "source": [
        "# Estimate Company_11 EV\n",
        "ebitda_value_company11 <- dataset %>% filter(shortName == \"Company_11\") %>% pull(ebitda)\n",
        "Company11_EV <- average_EV_ebitda * ebitda_value_company11\n",
        "Company11_EV"
      ]
    }
  ],
  "metadata": {
    "kernelspec": {
      "display_name": "R",
      "language": "R",
      "name": "ir"
    },
    "language_info": {
      "name": "R"
    }
  },
  "nbformat": 4,
  "nbformat_minor": 0
}
