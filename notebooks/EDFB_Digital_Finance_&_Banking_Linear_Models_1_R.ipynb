{
  "cells": [
    {
      "cell_type": "markdown",
      "id": "intro-cell",
      "metadata": {},
      "source": [
        "# Linear Regression: Univariate (R Version)\n",
        "\n",
        "---\n",
        "This notebook demonstrates how to train and test a linear regression model in R, using tidyverse and modern R best practices. The examples and explanations follow the same rhythm as the Python version, so you can compare the two approaches side by side.\n",
        "\n",
        "## Libraries\n",
        "\n",
        "- **tidyverse**: For data manipulation and visualization (dplyr, ggplot2, readr, tibble, etc.)\n",
        "- **broom**: For tidying model outputs\n",
        "- **caret**: For train/test splitting and metrics\n",
        "- **lubridate**: For date handling (if needed)\n",
        "\n",
        "Let's get started!"
      ]
    },
    {
      "cell_type": "code",
      "execution_count": null,
      "id": "libraries-cell",
      "metadata": {},
      "outputs": [],
      "source": [
        "# Install packages if not already installed\n",
        "packages <- c(\"tidyverse\", \"broom\", \"caret\", \"lubridate\", \"reshape2\")\n",
        "new_packages <- packages[!(packages %in% installed.packages()[, \"Package\"])]\n",
        "if (length(new_packages) > 0) {\n",
        "  cat(\"Installing packages:\", paste(new_packages, collapse = \", \"), \"\\n\")\n",
        "  install.packages(new_packages, repos = \"https://cran.rstudio.com/\", dependencies = TRUE)\n",
        "}\n",
        "\n",
        "# Load packages with error handling\n",
        "for (pkg in packages) {\n",
        "  if (!require(pkg, character.only = TRUE, quietly = TRUE)) {\n",
        "    stop(paste(\"Failed to load package:\", pkg))\n",
        "  }\n",
        "}"
      ]
    },
    {
      "cell_type": "markdown",
      "id": "generate-data-intro",
      "metadata": {},
      "source": [
        "## Generate Linear Data Example\n",
        "\n",
        "Let's generate some linear-looking data, similar to the Python example. We'll use `runif` for uniform random numbers and `rnorm` for normal noise."
      ]
    },
    {
      "cell_type": "code",
      "execution_count": null,
      "id": "generate-data",
      "metadata": {},
      "outputs": [],
      "source": [
        "set.seed(42)\n",
        "n <- 100\n",
        "X <- tibble(x = runif(n, 0, 2))\n",
        "y <- 4 + 3 * X$x + rnorm(n)\n",
        "df <- X %>% mutate(y = y)"
      ]
    },
    {
      "cell_type": "code",
      "execution_count": null,
      "id": "visualize-data",
      "metadata": {},
      "outputs": [],
      "source": [
        "# Visualize the data\n",
        "ggplot(df, aes(x = x, y = y)) +\n",
        "  geom_point(color = 'blue') +\n",
        "  labs(x = 'x', y = 'y', title = 'Simulated Linear Data') +\n",
        "  theme_minimal()"
      ]
    },
    {
      "cell_type": "markdown",
      "id": "fit-model-intro",
      "metadata": {},
      "source": [
        "## Fit a Linear Model\n",
        "\n",
        "We'll use `lm()` to fit a linear regression model."
      ]
    },
    {
      "cell_type": "code",
      "execution_count": null,
      "id": "fit-model",
      "metadata": {},
      "outputs": [],
      "source": [
        "model <- lm(y ~ x, data = df)\n",
        "summary(model)"
      ]
    },
    {
      "cell_type": "code",
      "execution_count": null,
      "id": "plot-fit",
      "metadata": {},
      "outputs": [],
      "source": [
        "# Add predictions to the data frame\n",
        "df <- df %>% mutate(y_pred = predict(model, newdata = df))\n",
        "\n",
        "# Plot data and fitted line\n",
        "ggplot(df, aes(x = x, y = y)) +\n",
        "  geom_point(color = 'blue') +\n",
        "  geom_line(aes(y = y_pred), color = 'red') +\n",
        "  labs(x = 'x', y = 'y', title = 'Linear Fit') +\n",
        "  theme_minimal()"
      ]
    },
    {
      "cell_type": "markdown",
      "id": "predict-intro",
      "metadata": {},
      "source": [
        "## Predict New Values\n",
        "\n",
        "Let's predict for new x values."
      ]
    },
    {
      "cell_type": "code",
      "execution_count": null,
      "id": "predict-new",
      "metadata": {},
      "outputs": [],
      "source": [
        "X_new <- tibble(x = c(0.5, 1.75))\n",
        "y_new_pred <- predict(model, newdata = X_new)\n",
        "tibble(x = X_new$x, y_pred = y_new_pred)"
      ]
    },
    {
      "cell_type": "markdown",
      "id": "real-data-intro",
      "metadata": {},
      "source": [
        "## Real Data Example: Import and Explore\n",
        "\n",
        "Let's read a real dataset. We'll use a sample CSV (replace with your own path or use a built-in dataset for demonstration)."
      ]
    },
    {
      "cell_type": "code",
      "execution_count": null,
      "id": "load-data",
      "metadata": {},
      "outputs": [],
      "source": [
        "# Example: Use built-in mtcars dataset for demonstration\n",
        "data <- as_tibble(mtcars)\n",
        "data %>% head()"
      ]
    },
    {
      "cell_type": "markdown",
      "id": "explore-intro",
      "metadata": {},
      "source": [
        "## Data Exploration\n",
        "\n",
        "Let's check the structure, missing values, and summary statistics."
      ]
    },
    {
      "cell_type": "code",
      "execution_count": null,
      "id": "explore-data",
      "metadata": {},
      "outputs": [],
      "source": [
        "glimpse(data)\n",
        "colSums(is.na(data))\n",
        "summary(data)"
      ]
    },
    {
      "cell_type": "markdown",
      "id": "simple-regression-intro",
      "metadata": {},
      "source": [
        "## Simple Linear Regression Example\n",
        "\n",
        "Let's predict `mpg` (miles per gallon) from `hp` (horsepower) as a univariate regression."
      ]
    },
    {
      "cell_type": "code",
      "execution_count": null,
      "id": "plot-mpg-hp",
      "metadata": {},
      "outputs": [],
      "source": [
        "ggplot(data, aes(x = hp, y = mpg)) +\n",
        "  geom_point() +\n",
        "  theme_minimal()"
      ]
    },
    {
      "cell_type": "code",
      "execution_count": null,
      "id": "fit-mpg-model",
      "metadata": {},
      "outputs": [],
      "source": [
        "model2 <- lm(mpg ~ hp, data = data)\n",
        "summary(model2)"
      ]
    },
    {
      "cell_type": "code",
      "execution_count": null,
      "id": "plot-mpg-fit",
      "metadata": {},
      "outputs": [],
      "source": [
        "data <- data %>% mutate(mpg_pred = predict(model2, newdata = data))\n",
        "ggplot(data, aes(x = hp, y = mpg)) +\n",
        "  geom_point(color = 'blue') +\n",
        "  geom_line(aes(y = mpg_pred), color = 'red') +\n",
        "  theme_minimal()"
      ]
    },
    {
      "cell_type": "markdown",
      "id": "train-test-intro",
      "metadata": {},
      "source": [
        "## Train/Test Split and Model Evaluation\n",
        "\n",
        "We'll use `caret::createDataPartition` to split the data."
      ]
    },
    {
      "cell_type": "code",
      "execution_count": null,
      "id": "train-test-split",
      "metadata": {},
      "outputs": [],
      "source": [
        "set.seed(123)\n",
        "train_idx <- createDataPartition(data$mpg, p = 0.8, list = FALSE)\n",
        "train <- data[train_idx, ]\n",
        "test <- data[-train_idx, ]\n",
        "\n",
        "model3 <- lm(mpg ~ hp, data = train)\n",
        "test <- test %>% mutate(mpg_pred = predict(model3, newdata = test))\n",
        "\n",
        "# RMSE and R2\n",
        "rmse <- sqrt(mean((test$mpg - test$mpg_pred)^2))\n",
        "r2 <- cor(test$mpg, test$mpg_pred)^2\n",
        "cat('Root Mean Squared Error:', round(rmse, 2), '\\n')\n",
        "cat('R-squared:', round(r2, 2), '\\n')"
      ]
    },
    {
      "cell_type": "markdown",
      "id": "residual-intro",
      "metadata": {},
      "source": [
        "## Residual Analysis\n",
        "\n",
        "Let's check the residuals for homoscedasticity and normality."
      ]
    },
    {
      "cell_type": "code",
      "execution_count": null,
      "id": "residual-analysis",
      "metadata": {},
      "outputs": [],
      "source": [
        "residuals <- test$mpg - test$mpg_pred\n",
        "par(mfrow = c(1, 2))\n",
        "plot(residuals, main = 'Residuals', ylab = 'Residual', xlab = 'Index')\n",
        "qqnorm(residuals); qqline(residuals)\n",
        "par(mfrow = c(1, 1))"
      ]
    },
    {
      "cell_type": "markdown",
      "id": "correlation-intro",
      "metadata": {},
      "source": [
        "## Correlation Matrix and Heatmap\n",
        "\n",
        "Let's check the correlation between numeric variables."
      ]
    },
    {
      "cell_type": "code",
      "execution_count": null,
      "id": "correlation-heatmap",
      "metadata": {},
      "outputs": [],
      "source": [
        "cor_mat <- cor(data %>% select(where(is.numeric)))\n",
        "melted_cor <- melt(cor_mat)\n",
        "ggplot(melted_cor, aes(Var1, Var2, fill = value)) +\n",
        "  geom_tile() +\n",
        "  scale_fill_gradient2(low = 'blue', high = 'red', mid = 'white', midpoint = 0) +\n",
        "  theme_minimal() +\n",
        "  labs(title = 'Correlation Heatmap')"
      ]
    },
    {
      "cell_type": "markdown",
      "id": "timeseries-intro",
      "metadata": {},
      "source": [
        "# Time Series Example: Bitcoin Price Forecasting (R Version)\n",
        "\n",
        "Let's show how to use lagged features for time series forecasting in R. We'll use a simulated time series for demonstration (replace with your own data as needed)."
      ]
    },
    {
      "cell_type": "code",
      "execution_count": null,
      "id": "simulate-timeseries",
      "metadata": {},
      "outputs": [],
      "source": [
        "# Simulate a time series (replace with your own data for real use)\n",
        "set.seed(123)\n",
        "n <- 200\n",
        "btc <- tibble(\n",
        "  date = seq.Date(from = as.Date('2022-01-01'), by = 'day', length.out = n),\n",
        "  price = cumsum(rnorm(n, 0.1, 2)) + 30000\n",
        ")\n",
        "ggplot(btc, aes(x = date, y = price)) +\n",
        "  geom_line(color = 'blue') +\n",
        "  labs(title = 'Simulated Bitcoin Price', x = 'Date', y = 'Price (USD)') +\n",
        "  theme_minimal()"
      ]
    },
    {
      "cell_type": "code",
      "execution_count": null,
      "id": "create-lags",
      "metadata": {},
      "outputs": [],
      "source": [
        "# Create lagged features\n",
        "create_lags <- function(df, var, lags = 5) {\n",
        "  for (i in 1:lags) {\n",
        "    df[[paste0(var, '_lag', i)]] <- dplyr::lag(df[[var]], i)\n",
        "  }\n",
        "  df\n",
        "}\n",
        "btc_lagged <- create_lags(btc, 'price', lags = 5) %>% drop_na()"
      ]
    },
    {
      "cell_type": "code",
      "execution_count": null,
      "id": "timeseries-model",
      "metadata": {},
      "outputs": [],
      "source": [
        "# Train/test split (time series: use the last 20% as test)\n",
        "n_train <- floor(0.8 * nrow(btc_lagged))\n",
        "train <- btc_lagged[1:n_train, ]\n",
        "test <- btc_lagged[(n_train + 1):nrow(btc_lagged), ]\n",
        "\n",
        "model_ts <- lm(price ~ price_lag1 + price_lag2 + price_lag3 + price_lag4 + price_lag5, data = train)\n",
        "summary(model_ts)"
      ]
    },
    {
      "cell_type": "code",
      "execution_count": null,
      "id": "timeseries-evaluate",
      "metadata": {},
      "outputs": [],
      "source": [
        "# Predict and evaluate\n",
        "test <- test %>% mutate(pred = predict(model_ts, newdata = test))\n",
        "rmse_ts <- sqrt(mean((test$price - test$pred)^2))\n",
        "r2_ts <- cor(test$price, test$pred)^2\n",
        "cat('Time Series RMSE:', round(rmse_ts, 2), '\\n')\n",
        "cat('Time Series R-squared:', round(r2_ts, 2), '\\n')"
      ]
    },
    {
      "cell_type": "code",
      "execution_count": null,
      "id": "timeseries-plot",
      "metadata": {},
      "outputs": [],
      "source": [
        "# Plot true vs predicted\n",
        "ggplot(test, aes(x = price, y = pred)) +\n",
        "  geom_point(color = 'red') +\n",
        "  geom_abline(slope = 1, intercept = 0, linetype = 'dashed') +\n",
        "  labs(title = 'True vs Predicted Bitcoin Price', x = 'True', y = 'Predicted') +\n",
        "  theme_minimal()"
      ]
    },
    {
      "cell_type": "markdown",
      "id": "assumptions-intro",
      "metadata": {},
      "source": [
        "# Linear Regression Assumptions (R Version)\n",
        "\n",
        "1. **Linearity**: Relationship between predictors and target is linear.\n",
        "2. **No (or little) multicollinearity**: Predictors are not highly correlated.\n",
        "3. **Homoscedasticity**: Residuals have constant variance.\n",
        "4. **Normality of residuals**: Residuals are normally distributed.\n",
        "5. **Independence of residuals**: No autocorrelation in residuals (important for time series).\n",
        "\n",
        "Let's check these for our simple regression example."
      ]
    },
    {
      "cell_type": "code",
      "execution_count": null,
      "id": "check-linearity",
      "metadata": {},
      "outputs": [],
      "source": [
        "# 1. Linearity\n",
        "ggplot(train, aes(x = price_lag1, y = price)) +\n",
        "  geom_point() +\n",
        "  geom_smooth(method = 'lm', se = FALSE, color = 'red') +\n",
        "  labs(title = 'Linearity Check', x = 'Lag 1 Price', y = 'Price')"
      ]
    },
    {
      "cell_type": "code",
      "execution_count": null,
      "id": "check-multicollinearity",
      "metadata": {},
      "outputs": [],
      "source": [
        "# 2. Multicollinearity\n",
        "cor(train %>% select(starts_with('price_lag')))"
      ]
    },
    {
      "cell_type": "code",
      "execution_count": null,
      "id": "check-homoscedasticity",
      "metadata": {},
      "outputs": [],
      "source": [
        "# 3. Homoscedasticity\n",
        "resid_ts <- test$price - test$pred\n",
        "plot(resid_ts, main = 'Residuals (Time Series)', ylab = 'Residual', xlab = 'Index')"
      ]
    },
    {
      "cell_type": "code",
      "execution_count": null,
      "id": "check-normality",
      "metadata": {},
      "outputs": [],
      "source": [
        "# 4. Normality of residuals\n",
        "qqnorm(resid_ts); qqline(resid_ts)"
      ]
    },
    {
      "cell_type": "code",
      "execution_count": null,
      "id": "check-independence",
      "metadata": {},
      "outputs": [],
      "source": [
        "# 5. Independence (autocorrelation)\n",
        "acf(resid_ts, main = 'ACF of Residuals')"
      ]
    },
    {
      "cell_type": "markdown",
      "id": "conclusion",
      "metadata": {},
      "source": [
        "## Conclusion\n",
        "\n",
        "This notebook covered univariate and time series linear regression in R, using tidyverse and modern R idioms. The structure and explanations mirror the Python notebook, so you can compare the two approaches directly.\n",
        "\n",
        "For more advanced modeling, check out the `tidymodels` ecosystem in R!"
      ]
    }
  ],
  "metadata": {
    "kernelspec": {
      "display_name": "R",
      "language": "R",
      "name": "ir"
    },
    "language_info": {
      "codemirror_mode": "r",
      "file_extension": ".r",
      "mimetype": "text/x-r-source",
      "name": "R",
      "pygments_lexer": "r",
      "version": "4.3.0"
    }
  },
  "nbformat": 4,
  "nbformat_minor": 4
}
