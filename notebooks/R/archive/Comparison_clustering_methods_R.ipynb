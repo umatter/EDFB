{
  "cells": [
    {
      "cell_type": "markdown",
      "metadata": {},
      "source": [
        "# Comparing Different Clustering Methods on Toy Datasets (R Version)\n",
        "\n",
        "This notebook explores the performance of different clustering techniques on toy datasets of various shapes and properties, using R and tidyverse-friendly approaches. The structure and flow mirror the Python version for easy comparison."
      ]
    },
    {
      "cell_type": "markdown",
      "metadata": {},
      "source": [
        "## Step 1: Load Required Libraries\n",
        "\n",
        "We use the `tidyverse` for data manipulation and plotting, and clustering packages such as `cluster`, `factoextra`, and `dbscan`.\n",
        "\n",
        "- If you are new to R, you can install any missing packages with `install.packages(\"package_name\")` in your R console."
      ]
    },
    {
      "cell_type": "code",
      "metadata": {},
      "source": [
        "library(tidyverse)\n",
        "library(cluster)\n",
        "library(factoextra)\n",
        "library(dbscan)\n",
        "set.seed(42)"
      ]
    },
    {
      "cell_type": "markdown",
      "metadata": {},
      "source": [
        "## Step 2: Generate Toy Datasets\n",
        "\n",
        "We create several datasets to demonstrate clustering methods. Each dataset has a different structure:\n",
        "\n",
        "- **Circles**: Two concentric circles (non-linearly separable)\n",
        "- **Moons**: Two interleaving half circles (non-linearly separable)\n",
        "- **Blobs**: Well-separated Gaussian blobs (good for basic clustering)\n",
        "- **Uniform**: Random points with no structure\n",
        "- **Anisotropic**: Blobs stretched in different directions\n",
        "- **Varied Blobs**: Blobs with different variances\n",
        "\n",
        "We use the `mlbench` package for some synthetic datasets."
      ]
    },
    {
      "cell_type": "code",
      "metadata": {},
      "source": [
        "# Circles dataset\n",
        "library(mlbench)\n",
        "circles <- mlbench.circle(1500, d=2)\n",
        "X_circles <- as_tibble(circles$x, .name_repair = 'minimal')\n",
        "y_circles <- as.factor(circles$classes)\n",
        "\n",
        "# Moons dataset\n",
        "library(mlbench)\n",
        "moons <- mlbench.smiley(1500)\n",
        "X_moons <- as_tibble(moons$x, .name_repair = 'minimal')\n",
        "y_moons <- as.factor(moons$classes)\n",
        "\n",
        "# Blobs dataset\n",
        "blobs <- tibble(\n",
        "  x = c(rnorm(500, 0, 0.5), rnorm(500, 3, 0.5), rnorm(500, 6, 0.5)),\n",
        "  y = c(rnorm(500, 0, 0.5), rnorm(500, 3, 0.5), rnorm(500, 6, 0.5))\n",
        ")\n",
        "\n",
        "# Uniform (no structure)\n",
        "X_no_structure <- tibble(\n",
        "  x = runif(1500),\n",
        "  y = runif(1500)\n",
        ")\n",
        "\n",
        "# Anisotropic dataset\n",
        "X_aniso <- blobs %>%\n",
        "  as.matrix() %*% matrix(c(0.6, -0.6, -0.4, 0.8), nrow=2) %>%\n",
        "  as_tibble(.name_repair = 'minimal')\n",
        "\n",
        "# Blobs with varied variances\n",
        "blobs_varied <- bind_rows(\n",
        "  tibble(x = rnorm(500, 0, 1.0), y = rnorm(500, 0, 1.0)),\n",
        "  tibble(x = rnorm(500, 3, 2.5), y = rnorm(500, 3, 2.5)),\n",
        "  tibble(x = rnorm(500, 6, 0.5), y = rnorm(500, 6, 0.5))\n",
        ")\n",
        "X_varied <- blobs_varied"
      ]
    },
    {
      "cell_type": "markdown",
      "metadata": {},
      "source": [
        "## Step 3: Visualize Toy Datasets\n",
        "\n",
        "Let's plot each dataset to understand their structure. This helps us see why some clustering methods work better than others."
      ]
    },
    {
      "cell_type": "code",
      "metadata": {},
      "source": [
        "# Circles\n",
        "ggplot(X_circles, aes(V1, V2, color = y_circles)) +\n",
        "  geom_point(size=1.5) +\n",
        "  theme_minimal() +\n",
        "  ggtitle('Circles Dataset')"
      ]
    },
    {
      "cell_type": "code",
      "metadata": {},
      "source": [
        "# Moons\n",
        "ggplot(X_moons, aes(V1, V2, color = y_moons)) +\n",
        "  geom_point(size=1.5) +\n",
        "  theme_minimal() +\n",
        "  ggtitle('Moons Dataset')"
      ]
    },
    {
      "cell_type": "code",
      "metadata": {},
      "source": [
        "# Blobs\n",
        "ggplot(blobs, aes(x, y)) +\n",
        "  geom_point(size=1.5) +\n",
        "  theme_minimal() +\n",
        "  ggtitle('Blobs Dataset')"
      ]
    },
    {
      "cell_type": "code",
      "metadata": {},
      "source": [
        "# Uniform (no structure)\n",
        "ggplot(X_no_structure, aes(x, y)) +\n",
        "  geom_point(size=1.5) +\n",
        "  theme_minimal() +\n",
        "  ggtitle('Uniform (No Structure) Dataset')"
      ]
    },
    {
      "cell_type": "code",
      "metadata": {},
      "source": [
        "# Anisotropic\n",
        "ggplot(X_aniso, aes(V1, V2)) +\n",
        "  geom_point(size=1.5) +\n",
        "  theme_minimal() +\n",
        "  ggtitle('Anisotropic Dataset')"
      ]
    },
    {
      "cell_type": "code",
      "metadata": {},
      "source": [
        "# Blobs with varied variances\n",
        "ggplot(X_varied, aes(x, y)) +\n",
        "  geom_point(size=1.5) +\n",
        "  theme_minimal() +\n",
        "  ggtitle('Blobs with Varied Variances')"
      ]
    },
    {
      "cell_type": "markdown",
      "metadata": {},
      "source": [
        "## Step 4: Define Clustering Functions\n",
        "\n",
        "We define reusable functions for each clustering method:\n",
        "\n",
        "- **K-means**: Partitions data into k clusters by minimizing within-cluster variance.\n",
        "- **Agglomerative (Hierarchical)**: Builds clusters by merging or splitting them successively.\n",
        "- **DBSCAN**: Groups together points that are closely packed, marking as outliers points that lie alone.\n",
        "\n",
        "Each function returns cluster assignments and a silhouette score (a measure of how well-separated the clusters are)."
      ]
    },
    {
      "cell_type": "code",
      "metadata": {},
      "source": [
        "# K-means clustering\n",
        "cluster_kmeans <- function(df, nclust) {\n",
        "  km <- kmeans(df, centers = nclust, nstart = 10)\n",
        "  sil <- silhouette(km$cluster, dist(df))\n",
        "  list(silhouette = mean(sil[, 3]), cluster = km$cluster, centers = km$centers)\n",
        "}"
      ]
    },
    {
      "cell_type": "code",
      "metadata": {},
      "source": [
        "# Agglomerative clustering\n",
        "cluster_agglom <- function(df, nclust, method = 'complete') {\n",
        "  hc <- hclust(dist(df), method = method)\n",
        "  cluster <- cutree(hc, k = nclust)\n",
        "  sil <- silhouette(cluster, dist(df))\n",
        "  centers <- df %>% mutate(cluster = cluster) %>% group_by(cluster) %>% summarise(across(everything(), mean)) %>% select(-cluster)\n",
        "  list(silhouette = mean(sil[, 3]), cluster = cluster, centers = as.matrix(centers))\n",
        "}"
      ]
    },
    {
      "cell_type": "code",
      "metadata": {},
      "source": [
        "# DBSCAN clustering\n",
        "cluster_dbscan <- function(df, eps) {\n",
        "  db <- dbscan(df, eps = eps)\n",
        "  cluster <- db$cluster\n",
        "  # Silhouette only makes sense if there are at least 2 clusters\n",
        "  sil <- if(length(unique(cluster[cluster != 0])) > 1) mean(silhouette(cluster, dist(df))[,3]) else NA\n",
        "  list(silhouette = sil, cluster = cluster)\n",
        "}"
      ]
    },
    {
      "cell_type": "markdown",
      "metadata": {},
      "source": [
        "## Step 5: Circles Dataset — Compare Clustering Methods\n",
        "\n",
        "Let's apply each clustering method to the circles dataset and visualize the results. Notice how some methods struggle with non-linear shapes."
      ]
    },
    {
      "cell_type": "code",
      "metadata": {},
      "source": [
        "# K-means\n",
        "res_km <- cluster_kmeans(X_circles, 2)\n",
        "X_circles %>% mutate(cluster = as.factor(res_km$cluster)) %>%\n",
        "  ggplot(aes(V1, V2, color = cluster)) +\n",
        "  geom_point(size=1.5) +\n",
        "  theme_minimal() +\n",
        "  ggtitle('K-means on Circles')"
      ]
    },
    {
      "cell_type": "code",
      "metadata": {},
      "source": [
        "# Agglomerative (complete)\n",
        "res_agglom <- cluster_agglom(X_circles, 2, method = 'complete')\n",
        "X_circles %>% mutate(cluster = as.factor(res_agglom$cluster)) %>%\n",
        "  ggplot(aes(V1, V2, color = cluster)) +\n",
        "  geom_point(size=1.5) +\n",
        "  theme_minimal() +\n",
        "  ggtitle('Agglomerative (Complete) on Circles')"
      ]
    },
    {
      "cell_type": "code",
      "metadata": {},
      "source": [
        "# DBSCAN\n",
        "res_db <- cluster_dbscan(X_circles, eps = 0.2)\n",
        "X_circles %>% mutate(cluster = as.factor(res_db$cluster)) %>%\n",
        "  ggplot(aes(V1, V2, color = cluster)) +\n",
        "  geom_point(size=1.5) +\n",
        "  theme_minimal() +\n",
        "  ggtitle('DBSCAN on Circles')"
      ]
    },
    {
      "cell_type": "code",
      "metadata": {},
      "source": [
        "# Agglomerative (single)\n",
        "res_agglom_single <- cluster_agglom(X_circles, 2, method = 'single')\n",
        "X_circles %>% mutate(cluster = as.factor(res_agglom_single$cluster)) %>%\n",
        "  ggplot(aes(V1, V2, color = cluster)) +\n",
        "  geom_point(size=1.5) +\n",
        "  theme_minimal() +\n",
        "  ggtitle('Agglomerative (Single) on Circles')"
      ]
    },
    {
      "cell_type": "markdown",
      "metadata": {},
      "source": [
        "## Step 6: Moons Dataset — Compare Clustering Methods\n",
        "\n",
        "Now, let's try the same clustering methods on the moons dataset. Again, some algorithms will perform better than others."
      ]
    },
    {
      "cell_type": "code",
      "metadata": {},
      "source": [
        "# K-means\n",
        "res_km <- cluster_kmeans(X_moons, 2)\n",
        "X_moons %>% mutate(cluster = as.factor(res_km$cluster)) %>%\n",
        "  ggplot(aes(V1, V2, color = cluster)) +\n",
        "  geom_point(size=1.5) +\n",
        "  theme_minimal() +\n",
        "  ggtitle('K-means on Moons')"
      ]
    },
    {
      "cell_type": "code",
      "metadata": {},
      "source": [
        "# Agglomerative (complete)\n",
        "res_agglom <- cluster_agglom(X_moons, 2, method = 'complete')\n",
        "X_moons %>% mutate(cluster = as.factor(res_agglom$cluster)) %>%\n",
        "  ggplot(aes(V1, V2, color = cluster)) +\n",
        "  geom_point(size=1.5) +\n",
        "  theme_minimal() +\n",
        "  ggtitle('Agglomerative (Complete) on Moons')"
      ]
    },
    {
      "cell_type": "code",
      "metadata": {},
      "source": [
        "# DBSCAN\n",
        "res_db <- cluster_dbscan(X_moons, eps = 0.2)\n",
        "X_moons %>% mutate(cluster = as.factor(res_db$cluster)) %>%\n",
        "  ggplot(aes(V1, V2, color = cluster)) +\n",
        "  geom_point(size=1.5) +\n",
        "  theme_minimal() +\n",
        "  ggtitle('DBSCAN on Moons')"
      ]
    },
    {
      "cell_type": "code",
      "metadata": {},
      "source": [
        "# Agglomerative (single)\n",
        "res_agglom_single <- cluster_agglom(X_moons, 2, method = 'single')\n",
        "X_moons %>% mutate(cluster = as.factor(res_agglom_single$cluster)) %>%\n",
        "  ggplot(aes(V1, V2, color = cluster)) +\n",
        "  geom_point(size=1.5) +\n",
        "  theme_minimal() +\n",
        "  ggtitle('Agglomerative (Single) on Moons')"
      ]
    },
    {
      "cell_type": "markdown",
      "metadata": {},
      "source": [
        "## Step 7: Blobs Dataset — Compare Clustering Methods\n",
        "\n",
        "The blobs dataset is well-suited for clustering. Most algorithms should perform well here."
      ]
    },
    {
      "cell_type": "code",
      "metadata": {},
      "source": [
        "# K-means\n",
        "res_km <- cluster_kmeans(blobs, 3)\n",
        "blobs %>% mutate(cluster = as.factor(res_km$cluster)) %>%\n",
        "  ggplot(aes(x, y, color = cluster)) +\n",
        "  geom_point(size=1.5) +\n",
        "  theme_minimal() +\n",
        "  ggtitle('K-means on Blobs')"
      ]
    },
    {
      "cell_type": "code",
      "metadata": {},
      "source": [
        "# Agglomerative (complete)\n",
        "res_agglom <- cluster_agglom(blobs, 3, method = 'complete')\n",
        "blobs %>% mutate(cluster = as.factor(res_agglom$cluster)) %>%\n",
        "  ggplot(aes(x, y, color = cluster)) +\n",
        "  geom_point(size=1.5) +\n",
        "  theme_minimal() +\n",
        "  ggtitle('Agglomerative (Complete) on Blobs')"
      ]
    },
    {
      "cell_type": "code",
      "metadata": {},
      "source": [
        "# DBSCAN\n",
        "res_db <- cluster_dbscan(blobs, eps = 0.5)\n",
        "blobs %>% mutate(cluster = as.factor(res_db$cluster)) %>%\n",
        "  ggplot(aes(x, y, color = cluster)) +\n",
        "  geom_point(size=1.5) +\n",
        "  theme_minimal() +\n",
        "  ggtitle('DBSCAN on Blobs')"
      ]
    },
    {
      "cell_type": "code",
      "metadata": {},
      "source": [
        "# Agglomerative (single)\n",
        "res_agglom_single <- cluster_agglom(blobs, 3, method = 'single')\n",
        "blobs %>% mutate(cluster = as.factor(res_agglom_single$cluster)) %>%\n",
        "  ggplot(aes(x, y, color = cluster)) +\n",
        "  geom_point(size=1.5) +\n",
        "  theme_minimal() +\n",
        "  ggtitle('Agglomerative (Single) on Blobs')"
      ]
    },
    {
      "cell_type": "markdown",
      "metadata": {},
      "source": [
        "## Step 8: Uniform (No Structure) Dataset — Compare Clustering Methods\n",
        "\n",
        "This dataset has no real clusters. Let's see how the algorithms behave when there is no structure."
      ]
    },
    {
      "cell_type": "code",
      "metadata": {},
      "source": [
        "# K-means\n",
        "res_km <- cluster_kmeans(X_no_structure, 3)\n",
        "X_no_structure %>% mutate(cluster = as.factor(res_km$cluster)) %>%\n",
        "  ggplot(aes(x, y, color = cluster)) +\n",
        "  geom_point(size=1.5) +\n",
        "  theme_minimal() +\n",
        "  ggtitle('K-means on No Structure')"
      ]
    },
    {
      "cell_type": "code",
      "metadata": {},
      "source": [
        "# Agglomerative (complete)\n",
        "res_agglom <- cluster_agglom(X_no_structure, 3, method = 'complete')\n",
        "X_no_structure %>% mutate(cluster = as.factor(res_agglom$cluster)) %>%\n",
        "  ggplot(aes(x, y, color = cluster)) +\n",
        "  geom_point(size=1.5) +\n",
        "  theme_minimal() +\n",
        "  ggtitle('Agglomerative (Complete) on No Structure')"
      ]
    },
    {
      "cell_type": "code",
      "metadata": {},
      "source": [
        "# DBSCAN\n",
        "res_db <- cluster_dbscan(X_no_structure, eps = 0.1)\n",
        "X_no_structure %>% mutate(cluster = as.factor(res_db$cluster)) %>%\n",
        "  ggplot(aes(x, y, color = cluster)) +\n",
        "  geom_point(size=1.5) +\n",
        "  theme_minimal() +\n",
        "  ggtitle('DBSCAN on No Structure')"
      ]
    },
    {
      "cell_type": "code",
      "metadata": {},
      "source": [
        "# Agglomerative (single)\n",
        "res_agglom_single <- cluster_agglom(X_no_structure, 2, method = 'single')\n",
        "X_no_structure %>% mutate(cluster = as.factor(res_agglom_single$cluster)) %>%\n",
        "  ggplot(aes(x, y, color = cluster)) +\n",
        "  geom_point(size=1.5) +\n",
        "  theme_minimal() +\n",
        "  ggtitle('Agglomerative (Single) on No Structure')"
      ]
    },
    {
      "cell_type": "markdown",
      "metadata": {},
      "source": [
        "## Step 9: Anisotropic Dataset — Compare Clustering Methods\n",
        "\n",
        "Here, the clusters are stretched in different directions. Some algorithms may struggle with this kind of data."
      ]
    },
    {
      "cell_type": "code",
      "metadata": {},
      "source": [
        "# K-means\n",
        "res_km <- cluster_kmeans(X_aniso, 3)\n",
        "X_aniso %>% mutate(cluster = as.factor(res_km$cluster)) %>%\n",
        "  ggplot(aes(V1, V2, color = cluster)) +\n",
        "  geom_point(size=1.5) +\n",
        "  theme_minimal() +\n",
        "  ggtitle('K-means on Anisotropic')"
      ]
    },
    {
      "cell_type": "code",
      "metadata": {},
      "source": [
        "# Agglomerative (complete)\n",
        "res_agglom <- cluster_agglom(X_aniso, 3, method = 'complete')\n",
        "X_aniso %>% mutate(cluster = as.factor(res_agglom$cluster)) %>%\n",
        "  ggplot(aes(V1, V2, color = cluster)) +\n",
        "  geom_point(size=1.5) +\n",
        "  theme_minimal() +\n",
        "  ggtitle('Agglomerative (Complete) on Anisotropic')"
      ]
    },
    {
      "cell_type": "code",
      "metadata": {},
      "source": [
        "# DBSCAN\n",
        "res_db <- cluster_dbscan(X_aniso, eps = 0.3)\n",
        "X_aniso %>% mutate(cluster = as.factor(res_db$cluster)) %>%\n",
        "  ggplot(aes(V1, V2, color = cluster)) +\n",
        "  geom_point(size=1.5) +\n",
        "  theme_minimal() +\n",
        "  ggtitle('DBSCAN on Anisotropic')"
      ]
    },
    {
      "cell_type": "code",
      "metadata": {},
      "source": [
        "# Agglomerative (single)\n",
        "res_agglom_single <- cluster_agglom(X_aniso, 3, method = 'single')\n",
        "X_aniso %>% mutate(cluster = as.factor(res_agglom_single$cluster)) %>%\n",
        "  ggplot(aes(V1, V2, color = cluster)) +\n",
        "  geom_point(size=1.5) +\n",
        "  theme_minimal() +\n",
        "  ggtitle('Agglomerative (Single) on Anisotropic')"
      ]
    },
    {
      "cell_type": "markdown",
      "metadata": {},
      "source": [
        "## Step 10: Blobs with Varied Variances — Compare Clustering Methods\n",
        "\n",
        "Finally, let's see how the algorithms handle blobs with different variances (spread)."
      ]
    },
    {
      "cell_type": "code",
      "metadata": {},
      "source": [
        "# K-means\n",
        "res_km <- cluster_kmeans(X_varied, 3)\n",
        "X_varied %>% mutate(cluster = as.factor(res_km$cluster)) %>%\n",
        "  ggplot(aes(x, y, color = cluster)) +\n",
        "  geom_point(size=1.5) +\n",
        "  theme_minimal() +\n",
        "  ggtitle('K-means on Varied Blobs')"
      ]
    },
    {
      "cell_type": "code",
      "metadata": {},
      "source": [
        "# Agglomerative (complete)\n",
        "res_agglom <- cluster_agglom(X_varied, 3, method = 'complete')\n",
        "X_varied %>% mutate(cluster = as.factor(res_agglom$cluster)) %>%\n",
        "  ggplot(aes(x, y, color = cluster)) +\n",
        "  geom_point(size=1.5) +\n",
        "  theme_minimal() +\n",
        "  ggtitle('Agglomerative (Complete) on Varied Blobs')"
      ]
    },
    {
      "cell_type": "code",
      "metadata": {},
      "source": [
        "# DBSCAN\n",
        "res_db <- cluster_dbscan(X_varied, eps = 0.6)\n",
        "X_varied %>% mutate(cluster = as.factor(res_db$cluster)) %>%\n",
        "  ggplot(aes(x, y, color = cluster)) +\n",
        "  geom_point(size=1.5) +\n",
        "  theme_minimal() +\n",
        "  ggtitle('DBSCAN on Varied Blobs')"
      ]
    },
    {
      "cell_type": "code",
      "metadata": {},
      "source": [
        "# Agglomerative (single)\n",
        "res_agglom_single <- cluster_agglom(X_varied, 3, method = 'single')\n",
        "X_varied %>% mutate(cluster = as.factor(res_agglom_single$cluster)) %>%\n",
        "  ggplot(aes(x, y, color = cluster)) +\n",
        "  geom_point(size=1.5) +\n",
        "  theme_minimal() +\n",
        "  ggtitle('Agglomerative (Single) on Varied Blobs')"
      ]
    }
  ],
  "metadata": {
    "kernelspec": {
      "display_name": "R",
      "language": "R",
      "name": "ir"
    },
    "language_info": {
      "name": "R"
    }
  },
  "nbformat": 4,
  "nbformat_minor": 0
}
